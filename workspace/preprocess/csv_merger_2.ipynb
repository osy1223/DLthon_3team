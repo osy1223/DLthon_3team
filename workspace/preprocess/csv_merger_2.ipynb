{
 "cells": [
  {
   "cell_type": "code",
   "execution_count": 5,
   "metadata": {},
   "outputs": [
    {
     "data": {
      "text/plain": [
       "['back_translated_bullying_2.csv',\n",
       " 'back_translated_extortion_2.csv',\n",
       " 'back_translated_threatening_3.csv',\n",
       " 'back_translated_workplace.csv',\n",
       " 'back_translated_threatening.csv',\n",
       " 'back_translated_threatening_2.csv',\n",
       " 'back_translated_extortion.csv',\n",
       " 'back_translated_bullying.csv']"
      ]
     },
     "execution_count": 5,
     "metadata": {},
     "output_type": "execute_result"
    }
   ],
   "source": [
    "import pandas as pd\n",
    "import glob\n",
    "\n",
    "csv_files = glob.glob(\"*.csv\")\n",
    "csv_files = [file for file in csv_files if 'all_data.csv' not in file]\n",
    "csv_files"
   ]
  },
  {
   "cell_type": "code",
   "execution_count": 6,
   "metadata": {},
   "outputs": [
    {
     "name": "stdout",
     "output_type": "stream",
     "text": [
      "(1094, 3)\n",
      "(981, 3)\n",
      "(896, 3)\n",
      "(979, 3)\n",
      "(896, 3)\n",
      "(896, 3)\n",
      "(981, 3)\n",
      "(1094, 3)\n"
     ]
    },
    {
     "data": {
      "text/html": [
       "<div>\n",
       "<style scoped>\n",
       "    .dataframe tbody tr th:only-of-type {\n",
       "        vertical-align: middle;\n",
       "    }\n",
       "\n",
       "    .dataframe tbody tr th {\n",
       "        vertical-align: top;\n",
       "    }\n",
       "\n",
       "    .dataframe thead th {\n",
       "        text-align: right;\n",
       "    }\n",
       "</style>\n",
       "<table border=\"1\" class=\"dataframe\">\n",
       "  <thead>\n",
       "    <tr style=\"text-align: right;\">\n",
       "      <th></th>\n",
       "      <th>idx</th>\n",
       "      <th>class</th>\n",
       "      <th>conversation</th>\n",
       "    </tr>\n",
       "  </thead>\n",
       "  <tbody>\n",
       "    <tr>\n",
       "      <th>0</th>\n",
       "      <td>2</td>\n",
       "      <td>기타 괴롭힘 대화</td>\n",
       "      <td>당신이 매우 귀여운 거 아시죠? 저보다 키가 작은 남자는 본 적이 없어요.\\n그만하...</td>\n",
       "    </tr>\n",
       "    <tr>\n",
       "      <th>1</th>\n",
       "      <td>6</td>\n",
       "      <td>기타 괴롭힘 대화</td>\n",
       "      <td>아이스 커피 두 잔이 있습니다\\n아이스 커피?\\n예, 맛있게 드세요\\n실례합니다, ...</td>\n",
       "    </tr>\n",
       "    <tr>\n",
       "      <th>2</th>\n",
       "      <td>7</td>\n",
       "      <td>기타 괴롭힘 대화</td>\n",
       "      <td>NaN</td>\n",
       "    </tr>\n",
       "    <tr>\n",
       "      <th>3</th>\n",
       "      <td>8</td>\n",
       "      <td>기타 괴롭힘 대화</td>\n",
       "      <td>할인을 받을 수 있다고 들었습니다\\n확인해 보겠어요.\\n그 시람은 이전에 세일 중이...</td>\n",
       "    </tr>\n",
       "    <tr>\n",
       "      <th>4</th>\n",
       "      <td>18</td>\n",
       "      <td>기타 괴롭힘 대화</td>\n",
       "      <td>이마가 빛납니다\\n뭐라고요?\\n야, 그를 때리자\\n왜 그래요\\n아프셨나요? 반짝반짝...</td>\n",
       "    </tr>\n",
       "    <tr>\n",
       "      <th>...</th>\n",
       "      <td>...</td>\n",
       "      <td>...</td>\n",
       "      <td>...</td>\n",
       "    </tr>\n",
       "    <tr>\n",
       "      <th>1089</th>\n",
       "      <td>3935</td>\n",
       "      <td>기타 괴롭힘 대화</td>\n",
       "      <td>이걸 그림으로 그렸나요?\\n이리 주세요!\\n진짜 손재주는 전혀 없습니다.\\n예, 0...</td>\n",
       "    </tr>\n",
       "    <tr>\n",
       "      <th>1090</th>\n",
       "      <td>3936</td>\n",
       "      <td>기타 괴롭힘 대화</td>\n",
       "      <td>엄마, 물건을 두고 왔는데 치웠어요\\n아니요, 청소하지 않았습니다\\n여기에 두었지만...</td>\n",
       "    </tr>\n",
       "    <tr>\n",
       "      <th>1091</th>\n",
       "      <td>3940</td>\n",
       "      <td>기타 괴롭힘 대화</td>\n",
       "      <td>여러분, 퍼포먼스 연습을 해보겠습니다.\\n이번 주에 최종 평가가 있습니다. 빨리 해...</td>\n",
       "    </tr>\n",
       "    <tr>\n",
       "      <th>1092</th>\n",
       "      <td>3944</td>\n",
       "      <td>기타 괴롭힘 대화</td>\n",
       "      <td>왜 나를 계속 때리나요\\n당신을 때리고 싶기 때문입니다.\\n제가 뭐 잘못한 것 있나...</td>\n",
       "    </tr>\n",
       "    <tr>\n",
       "      <th>1093</th>\n",
       "      <td>3945</td>\n",
       "      <td>기타 괴롭힘 대화</td>\n",
       "      <td>준하야, 머리가 왜 이렇게 커요?\\n제 머리는.\\n식사를 하면 머리가 크게 자라나요...</td>\n",
       "    </tr>\n",
       "  </tbody>\n",
       "</table>\n",
       "<p>1094 rows × 3 columns</p>\n",
       "</div>"
      ],
      "text/plain": [
       "       idx      class                                       conversation\n",
       "0        2  기타 괴롭힘 대화  당신이 매우 귀여운 거 아시죠? 저보다 키가 작은 남자는 본 적이 없어요.\\n그만하...\n",
       "1        6  기타 괴롭힘 대화  아이스 커피 두 잔이 있습니다\\n아이스 커피?\\n예, 맛있게 드세요\\n실례합니다, ...\n",
       "2        7  기타 괴롭힘 대화                                                NaN\n",
       "3        8  기타 괴롭힘 대화  할인을 받을 수 있다고 들었습니다\\n확인해 보겠어요.\\n그 시람은 이전에 세일 중이...\n",
       "4       18  기타 괴롭힘 대화  이마가 빛납니다\\n뭐라고요?\\n야, 그를 때리자\\n왜 그래요\\n아프셨나요? 반짝반짝...\n",
       "...    ...        ...                                                ...\n",
       "1089  3935  기타 괴롭힘 대화  이걸 그림으로 그렸나요?\\n이리 주세요!\\n진짜 손재주는 전혀 없습니다.\\n예, 0...\n",
       "1090  3936  기타 괴롭힘 대화  엄마, 물건을 두고 왔는데 치웠어요\\n아니요, 청소하지 않았습니다\\n여기에 두었지만...\n",
       "1091  3940  기타 괴롭힘 대화  여러분, 퍼포먼스 연습을 해보겠습니다.\\n이번 주에 최종 평가가 있습니다. 빨리 해...\n",
       "1092  3944  기타 괴롭힘 대화  왜 나를 계속 때리나요\\n당신을 때리고 싶기 때문입니다.\\n제가 뭐 잘못한 것 있나...\n",
       "1093  3945  기타 괴롭힘 대화  준하야, 머리가 왜 이렇게 커요?\\n제 머리는.\\n식사를 하면 머리가 크게 자라나요...\n",
       "\n",
       "[1094 rows x 3 columns]"
      ]
     },
     "execution_count": 6,
     "metadata": {},
     "output_type": "execute_result"
    }
   ],
   "source": [
    "dataframes = []\n",
    "\n",
    "for file in csv_files:\n",
    "    df = pd.read_csv(file)\n",
    "    df.drop(columns=df.columns[0], axis=1, inplace=True)\n",
    "    df.drop('conversation', axis=1, inplace=True)\n",
    "    df.rename(columns = {'Augmentation' : 'conversation'}, inplace = True)\n",
    "    print(df.shape)\n",
    "    dataframes.append(df)\n",
    "\n",
    "df"
   ]
  },
  {
   "cell_type": "code",
   "execution_count": 7,
   "metadata": {},
   "outputs": [
    {
     "data": {
      "text/plain": [
       "(7817, 3)"
      ]
     },
     "execution_count": 7,
     "metadata": {},
     "output_type": "execute_result"
    }
   ],
   "source": [
    "merged_df = pd.concat(dataframes, ignore_index=True)\n",
    "merged_df.shape"
   ]
  },
  {
   "cell_type": "code",
   "execution_count": 8,
   "metadata": {},
   "outputs": [],
   "source": [
    "merged_df = merged_df.dropna(subset=['idx', 'class', 'conversation'])\n",
    "\n",
    "merged_df['idx'] = range(0, len(merged_df))\n",
    "\n",
    "merged_df.to_csv(\"merged_file.csv\", index=False)"
   ]
  }
 ],
 "metadata": {
  "kernelspec": {
   "display_name": "base",
   "language": "python",
   "name": "python3"
  },
  "language_info": {
   "codemirror_mode": {
    "name": "ipython",
    "version": 3
   },
   "file_extension": ".py",
   "mimetype": "text/x-python",
   "name": "python",
   "nbconvert_exporter": "python",
   "pygments_lexer": "ipython3",
   "version": "3.11.10"
  }
 },
 "nbformat": 4,
 "nbformat_minor": 2
}
