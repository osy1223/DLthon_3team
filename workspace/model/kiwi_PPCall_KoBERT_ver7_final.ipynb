{
 "cells": [
  {
   "cell_type": "code",
   "execution_count": 1,
   "id": "303dffdd",
   "metadata": {},
   "outputs": [],
   "source": [
    "import pandas as pd\n",
    "import numpy as np\n",
    "import matplotlib.pyplot as plt\n",
    "import re\n",
    "import time\n",
    "import tensorflow as tf\n",
    "import ast"
   ]
  },
  {
   "cell_type": "code",
   "execution_count": 3,
   "id": "434b56cd",
   "metadata": {},
   "outputs": [],
   "source": [
    "from sklearn.model_selection import train_test_split\n",
    "from tensorflow.keras.preprocessing.sequence import pad_sequences\n",
    "from tensorflow.keras.preprocessing.text import Tokenizer\n",
    "\n",
    "from keras.callbacks import EarlyStopping, ModelCheckpoint"
   ]
  },
  {
   "cell_type": "code",
   "execution_count": 4,
   "id": "0e894237",
   "metadata": {},
   "outputs": [],
   "source": [
    "import tensorflow as tf\n",
    "tf.keras.backend.clear_session()"
   ]
  },
  {
   "cell_type": "code",
   "execution_count": 5,
   "id": "d5dc9da3",
   "metadata": {},
   "outputs": [
    {
     "name": "stderr",
     "output_type": "stream",
     "text": [
      "C:\\Users\\kkk00\\anaconda3\\envs\\python37\\lib\\site-packages\\tqdm\\auto.py:21: TqdmWarning: IProgress not found. Please update jupyter and ipywidgets. See https://ipywidgets.readthedocs.io/en/stable/user_install.html\n",
      "  from .autonotebook import tqdm as notebook_tqdm\n"
     ]
    }
   ],
   "source": [
    "import pandas as pd\n",
    "import numpy as np\n",
    "import matplotlib.pyplot as plt\n",
    "import re\n",
    "import tensorflow as tf\n",
    "from sklearn.model_selection import train_test_split\n",
    "from sklearn.metrics import classification_report\n",
    "from transformers import BertTokenizer, TFBertModel\n",
    "import MeCab\n",
    "from tensorflow.keras.callbacks import EarlyStopping, ModelCheckpoint, ReduceLROnPlateau\n",
    "import os"
   ]
  },
  {
   "cell_type": "code",
   "execution_count": 38,
   "id": "ef922bf9",
   "metadata": {},
   "outputs": [],
   "source": [
    "# GPU 메모리 최적화\n",
    "gpus = tf.config.list_physical_devices('GPU')\n",
    "if gpus:\n",
    "    try:\n",
    "        for gpu in gpus:\n",
    "            tf.config.experimental.set_memory_growth(gpu, True)\n",
    "    except RuntimeError as e:\n",
    "        print(e)"
   ]
  },
  {
   "cell_type": "code",
   "execution_count": 6,
   "id": "2a06ea75",
   "metadata": {},
   "outputs": [],
   "source": [
    "## 파일 로드\n",
    "path = '~/2024_DKTC/data/Final_DATASET_PPC.csv'\n",
    "data= pd.read_csv(path)\n",
    "\n",
    "data['pre_processed_final'] = data['pre_processed_final'].apply(lambda x: ast.literal_eval(x))"
   ]
  },
  {
   "cell_type": "code",
   "execution_count": 7,
   "id": "d76ef4c6",
   "metadata": {},
   "outputs": [
    {
     "data": {
      "text/plain": [
       "일반 대화          9685\n",
       "기타 괴롭힘 대화      4775\n",
       "갈취 대화          4564\n",
       "직장 내 괴롭힘 대화    3659\n",
       "협박 대화          3563\n",
       "Name: class, dtype: int64"
      ]
     },
     "execution_count": 7,
     "metadata": {},
     "output_type": "execute_result"
    }
   ],
   "source": [
    "data['class'].value_counts()"
   ]
  },
  {
   "cell_type": "code",
   "execution_count": 8,
   "id": "d8cc9489",
   "metadata": {},
   "outputs": [
    {
     "data": {
      "text/html": [
       "<div>\n",
       "<style scoped>\n",
       "    .dataframe tbody tr th:only-of-type {\n",
       "        vertical-align: middle;\n",
       "    }\n",
       "\n",
       "    .dataframe tbody tr th {\n",
       "        vertical-align: top;\n",
       "    }\n",
       "\n",
       "    .dataframe thead th {\n",
       "        text-align: right;\n",
       "    }\n",
       "</style>\n",
       "<table border=\"1\" class=\"dataframe\">\n",
       "  <thead>\n",
       "    <tr style=\"text-align: right;\">\n",
       "      <th></th>\n",
       "      <th>Unnamed: 0</th>\n",
       "      <th>class</th>\n",
       "      <th>pre_processed_final</th>\n",
       "    </tr>\n",
       "  </thead>\n",
       "  <tbody>\n",
       "    <tr>\n",
       "      <th>0</th>\n",
       "      <td>0</td>\n",
       "      <td>협박 대화</td>\n",
       "      <td>[지금, 자살, 싶, 으시, ᆫ가요, 아니, 죄송, 어요, 죽, 혼자, 죽, 예요,...</td>\n",
       "    </tr>\n",
       "    <tr>\n",
       "      <th>1</th>\n",
       "      <td>1</td>\n",
       "      <td>협박 대화</td>\n",
       "      <td>[여기, 길동, 경찰서, ᆸ니다, 시, 분, 마트, 폭발물, 설치, 뭐, 라고, 요...</td>\n",
       "    </tr>\n",
       "    <tr>\n",
       "      <th>2</th>\n",
       "      <td>2</td>\n",
       "      <td>협박 대화</td>\n",
       "      <td>[어떻, 지내, 시, 나요, 장기, 잘, 보관, 계시, 죠, 장기, 여기, 보관, ...</td>\n",
       "    </tr>\n",
       "    <tr>\n",
       "      <th>3</th>\n",
       "      <td>3</td>\n",
       "      <td>협박 대화</td>\n",
       "      <td>[친구, 곳, 날리, 버리, 세, 요, 정말, 모르, 어요, 친구, 함께, 달리, ...</td>\n",
       "    </tr>\n",
       "    <tr>\n",
       "      <th>4</th>\n",
       "      <td>4</td>\n",
       "      <td>협박 대화</td>\n",
       "      <td>[갚, 기, 돈, 데, 어떻, 갚, 어요, 남, 돈, 빼앗, 여기, 희희낙락, ᆸ니...</td>\n",
       "    </tr>\n",
       "  </tbody>\n",
       "</table>\n",
       "</div>"
      ],
      "text/plain": [
       "   Unnamed: 0  class                                pre_processed_final\n",
       "0           0  협박 대화  [지금, 자살, 싶, 으시, ᆫ가요, 아니, 죄송, 어요, 죽, 혼자, 죽, 예요,...\n",
       "1           1  협박 대화  [여기, 길동, 경찰서, ᆸ니다, 시, 분, 마트, 폭발물, 설치, 뭐, 라고, 요...\n",
       "2           2  협박 대화  [어떻, 지내, 시, 나요, 장기, 잘, 보관, 계시, 죠, 장기, 여기, 보관, ...\n",
       "3           3  협박 대화  [친구, 곳, 날리, 버리, 세, 요, 정말, 모르, 어요, 친구, 함께, 달리, ...\n",
       "4           4  협박 대화  [갚, 기, 돈, 데, 어떻, 갚, 어요, 남, 돈, 빼앗, 여기, 희희낙락, ᆸ니..."
      ]
     },
     "execution_count": 8,
     "metadata": {},
     "output_type": "execute_result"
    }
   ],
   "source": [
    "data.head()"
   ]
  },
  {
   "cell_type": "code",
   "execution_count": 9,
   "id": "6dd220f1",
   "metadata": {},
   "outputs": [],
   "source": [
    "df = data.copy()\n",
    "\n",
    "# 토큰 리스트를 문자열로 변환하여 'processed_text' 컬럼 생성\n",
    "df['processed_text'] = df['pre_processed_final'].apply(lambda tokens: ' '.join(tokens))"
   ]
  },
  {
   "cell_type": "code",
   "execution_count": 10,
   "id": "a84834db",
   "metadata": {},
   "outputs": [
    {
     "data": {
      "text/html": [
       "<div>\n",
       "<style scoped>\n",
       "    .dataframe tbody tr th:only-of-type {\n",
       "        vertical-align: middle;\n",
       "    }\n",
       "\n",
       "    .dataframe tbody tr th {\n",
       "        vertical-align: top;\n",
       "    }\n",
       "\n",
       "    .dataframe thead th {\n",
       "        text-align: right;\n",
       "    }\n",
       "</style>\n",
       "<table border=\"1\" class=\"dataframe\">\n",
       "  <thead>\n",
       "    <tr style=\"text-align: right;\">\n",
       "      <th></th>\n",
       "      <th>Unnamed: 0</th>\n",
       "      <th>class</th>\n",
       "      <th>pre_processed_final</th>\n",
       "      <th>processed_text</th>\n",
       "    </tr>\n",
       "  </thead>\n",
       "  <tbody>\n",
       "    <tr>\n",
       "      <th>0</th>\n",
       "      <td>0</td>\n",
       "      <td>협박 대화</td>\n",
       "      <td>[지금, 자살, 싶, 으시, ᆫ가요, 아니, 죄송, 어요, 죽, 혼자, 죽, 예요,...</td>\n",
       "      <td>지금 자살 싶 으시 ᆫ가요 아니 죄송 어요 죽 혼자 죽 예요 관여 바라 나요 정말 ...</td>\n",
       "    </tr>\n",
       "    <tr>\n",
       "      <th>1</th>\n",
       "      <td>1</td>\n",
       "      <td>협박 대화</td>\n",
       "      <td>[여기, 길동, 경찰서, ᆸ니다, 시, 분, 마트, 폭발물, 설치, 뭐, 라고, 요...</td>\n",
       "      <td>여기 길동 경찰서 ᆸ니다 시 분 마트 폭발물 설치 뭐 라고 요 다시 번 말씀 드리 ...</td>\n",
       "    </tr>\n",
       "    <tr>\n",
       "      <th>2</th>\n",
       "      <td>2</td>\n",
       "      <td>협박 대화</td>\n",
       "      <td>[어떻, 지내, 시, 나요, 장기, 잘, 보관, 계시, 죠, 장기, 여기, 보관, ...</td>\n",
       "      <td>어떻 지내 시 나요 장기 잘 보관 계시 죠 장기 여기 보관 이번 마지막 ᆸ니다 갑자...</td>\n",
       "    </tr>\n",
       "    <tr>\n",
       "      <th>3</th>\n",
       "      <td>3</td>\n",
       "      <td>협박 대화</td>\n",
       "      <td>[친구, 곳, 날리, 버리, 세, 요, 정말, 모르, 어요, 친구, 함께, 달리, ...</td>\n",
       "      <td>친구 곳 날리 버리 세 요 정말 모르 어요 친구 함께 달리 는데 친구 사라지 어요 ...</td>\n",
       "    </tr>\n",
       "    <tr>\n",
       "      <th>4</th>\n",
       "      <td>4</td>\n",
       "      <td>협박 대화</td>\n",
       "      <td>[갚, 기, 돈, 데, 어떻, 갚, 어요, 남, 돈, 빼앗, 여기, 희희낙락, ᆸ니...</td>\n",
       "      <td>갚 기 돈 데 어떻 갚 어요 남 돈 빼앗 여기 희희낙락 ᆸ니다 비용 지불 있 죽 예...</td>\n",
       "    </tr>\n",
       "  </tbody>\n",
       "</table>\n",
       "</div>"
      ],
      "text/plain": [
       "   Unnamed: 0  class                                pre_processed_final  \\\n",
       "0           0  협박 대화  [지금, 자살, 싶, 으시, ᆫ가요, 아니, 죄송, 어요, 죽, 혼자, 죽, 예요,...   \n",
       "1           1  협박 대화  [여기, 길동, 경찰서, ᆸ니다, 시, 분, 마트, 폭발물, 설치, 뭐, 라고, 요...   \n",
       "2           2  협박 대화  [어떻, 지내, 시, 나요, 장기, 잘, 보관, 계시, 죠, 장기, 여기, 보관, ...   \n",
       "3           3  협박 대화  [친구, 곳, 날리, 버리, 세, 요, 정말, 모르, 어요, 친구, 함께, 달리, ...   \n",
       "4           4  협박 대화  [갚, 기, 돈, 데, 어떻, 갚, 어요, 남, 돈, 빼앗, 여기, 희희낙락, ᆸ니...   \n",
       "\n",
       "                                      processed_text  \n",
       "0  지금 자살 싶 으시 ᆫ가요 아니 죄송 어요 죽 혼자 죽 예요 관여 바라 나요 정말 ...  \n",
       "1  여기 길동 경찰서 ᆸ니다 시 분 마트 폭발물 설치 뭐 라고 요 다시 번 말씀 드리 ...  \n",
       "2  어떻 지내 시 나요 장기 잘 보관 계시 죠 장기 여기 보관 이번 마지막 ᆸ니다 갑자...  \n",
       "3  친구 곳 날리 버리 세 요 정말 모르 어요 친구 함께 달리 는데 친구 사라지 어요 ...  \n",
       "4  갚 기 돈 데 어떻 갚 어요 남 돈 빼앗 여기 희희낙락 ᆸ니다 비용 지불 있 죽 예...  "
      ]
     },
     "execution_count": 10,
     "metadata": {},
     "output_type": "execute_result"
    }
   ],
   "source": [
    "df.head()"
   ]
  },
  {
   "cell_type": "code",
   "execution_count": 11,
   "id": "82fd0987",
   "metadata": {},
   "outputs": [],
   "source": [
    "# 레이블 인코딩\n",
    "label_mapping = {\n",
    "    '협박 대화': 0,\n",
    "    '갈취 대화': 1,\n",
    "    '직장 내 괴롭힘 대화': 2,\n",
    "    '기타 괴롭힘 대화': 3,\n",
    "    '일반 대화' : 4\n",
    "}\n",
    "df['class'] = df['class'].map(label_mapping)"
   ]
  },
  {
   "cell_type": "code",
   "execution_count": 12,
   "id": "288493dd",
   "metadata": {},
   "outputs": [
    {
     "name": "stderr",
     "output_type": "stream",
     "text": [
      "All model checkpoint layers were used when initializing TFBertModel.\n",
      "\n",
      "All the layers of TFBertModel were initialized from the model checkpoint at kykim/bert-kor-base.\n",
      "If your task is similar to the task the model of the checkpoint was trained on, you can already use TFBertModel for predictions without further training.\n"
     ]
    }
   ],
   "source": [
    "from transformers import BertTokenizer, TFBertModel\n",
    "\n",
    "# 사전 훈련된 한국어 BERT 모델과 토크나이저 로드\n",
    "tokenizer = BertTokenizer.from_pretrained('kykim/bert-kor-base')\n",
    "bert_model = TFBertModel.from_pretrained('kykim/bert-kor-base')"
   ]
  },
  {
   "cell_type": "code",
   "execution_count": 13,
   "id": "2cbb8fe9",
   "metadata": {},
   "outputs": [
    {
     "data": {
      "image/png": "[encoded data removed]",
      "text/plain": [
       "<Figure size 800x600 with 1 Axes>"
      ]
     },
     "metadata": {},
     "output_type": "display_data"
    }
   ],
   "source": [
    "# 시퀀스 길이 박스플롯을 위해 패딩 전에 시퀀스 길이 계산\n",
    "sequence_lengths = df['pre_processed_final'].apply(len).tolist()\n",
    "\n",
    "plt.figure(figsize=(8, 6))\n",
    "plt.boxplot(sequence_lengths, vert=False)\n",
    "plt.title('Boxplot of Sequence Lengths')\n",
    "plt.xlabel('Sequence Length')\n",
    "plt.show()"
   ]
  },
  {
   "cell_type": "code",
   "execution_count": 63,
   "id": "439c4449",
   "metadata": {},
   "outputs": [],
   "source": [
    "# 토큰화 함수 정의 (패딩 전에 시퀀스 길이 확인 완료)\n",
    "def tokenize_texts(texts, tokenizer, max_length):\n",
    "    return tokenizer(\n",
    "        texts.tolist(),\n",
    "        padding='max_length',  # 시퀀스를 max_length로 패딩\n",
    "        truncation=True,       # max_length를 초과하는 시퀀스는 자름\n",
    "        max_length=max_length,\n",
    "        return_tensors='tf'    # 텐서 형식으로 반환\n",
    "    )"
   ]
  },
  {
   "cell_type": "code",
   "execution_count": 64,
   "id": "efd5f490",
   "metadata": {},
   "outputs": [],
   "source": [
    "# 최대 시퀀스 길이 결정\n",
    "max_seq_len = 80  # 메모리 부족 문제 해결을 위해 시퀀스 길이 줄이기"
   ]
  },
  {
   "cell_type": "code",
   "execution_count": 65,
   "id": "26ada508",
   "metadata": {},
   "outputs": [],
   "source": [
    "# 토큰화 수행: 'processed_text' 컬럼 사용\n",
    "tokenized_data = tokenize_texts(df['processed_text'], tokenizer, max_seq_len)\n",
    "\n",
    "input_ids = tokenized_data['input_ids']\n",
    "attention_mask = tokenized_data['attention_mask']\n",
    "\n",
    "# 레이블 준비\n",
    "y = df['class'].values"
   ]
  },
  {
   "cell_type": "code",
   "execution_count": 66,
   "id": "5474b108",
   "metadata": {},
   "outputs": [],
   "source": [
    "from sklearn.model_selection import train_test_split\n",
    "\n",
    "# input_ids와 attention_mask를 넘파이 배열로 변환 (이전 코드의 부분)\n",
    "input_ids_np = input_ids.numpy()\n",
    "attention_mask_np = attention_mask.numpy()\n",
    "\n",
    "# 학습과 검증 데이터를 8:2로 나눔 (클래스 비율 유지)\n",
    "X_train_input_ids, X_val_input_ids, X_train_attention_mask, X_val_attention_mask, y_train, y_val = train_test_split(\n",
    "    input_ids_np,       # input_ids\n",
    "    attention_mask_np,  # attention_mask\n",
    "    y,                  # target (class labels)\n",
    "    test_size=0.2,      # 검증 데이터 비율 20%\n",
    "    random_state=25,   # 시드 고정\n",
    "    stratify=y          # 클래스 비율 유지\n",
    ")"
   ]
  },
  {
   "cell_type": "code",
   "execution_count": 67,
   "id": "6cf48094",
   "metadata": {},
   "outputs": [],
   "source": [
    "from tensorflow.keras.models import Model\n",
    "from tensorflow.keras.layers import Input, Dropout, Dense\n",
    "from tensorflow.keras.layers import Conv1D, GlobalMaxPooling1D, Dropout, Dense, Input\n",
    "from tensorflow.keras.models import Model\n",
    "\n",
    "def build_classification_model(max_seq_len, num_classes):\n",
    "    # 입력 레이어 정의\n",
    "    input_ids = Input(shape=(max_seq_len,), dtype=tf.int32, name=\"input_ids\")\n",
    "    attention_mask = Input(shape=(max_seq_len,), dtype=tf.int32, name=\"attention_mask\")\n",
    "    \n",
    "    # BERT 모델을 통해 임베딩 획득\n",
    "    bert_outputs = bert_model(input_ids, attention_mask=attention_mask)\n",
    "    \n",
    "    bert_model.trainable = True\n",
    "    \n",
    "    # Conv1D 레이어 추가 (임베딩된 마지막 히든 상태에 적용)\n",
    "    conv = Conv1D(256, kernel_size=3, activation='relu')(bert_outputs.last_hidden_state)  # (batch_size, max_seq_len, 128)\n",
    "    \n",
    "    # 풀링 레이어 (Conv1D 이후)\n",
    "    pooled = GlobalMaxPooling1D()(conv)  # (batch_size, 128)\n",
    "    \n",
    "    # 드롭아웃 및 Dense 레이어\n",
    "    dropout_2 = Dropout(0.3)(pooled)\n",
    "    dense = Dense(128, activation='relu')(dropout_2)\n",
    "    \n",
    "    # 출력 레이어 (클래스 수에 맞게 설정)\n",
    "    outputs = Dense(num_classes, activation='softmax')(dense)\n",
    "    \n",
    "    # 모델 정의\n",
    "    model = Model(inputs=[input_ids, attention_mask], outputs=outputs)\n",
    "    \n",
    "    return model"
   ]
  },
  {
   "cell_type": "code",
   "execution_count": 68,
   "id": "baf9de49",
   "metadata": {},
   "outputs": [
    {
     "name": "stdout",
     "output_type": "stream",
     "text": [
      "Model: \"model_3\"\n",
      "__________________________________________________________________________________________________\n",
      " Layer (type)                   Output Shape         Param #     Connected to                     \n",
      "==================================================================================================\n",
      " input_ids (InputLayer)         [(None, 80)]         0           []                               \n",
      "                                                                                                  \n",
      " attention_mask (InputLayer)    [(None, 80)]         0           []                               \n",
      "                                                                                                  \n",
      " tf_bert_model (TFBertModel)    multiple             118297344   ['input_ids[0][0]',              \n",
      "                                                                  'attention_mask[0][0]']         \n",
      "                                                                                                  \n",
      " conv1d_1 (Conv1D)              (None, 78, 128)      295040      ['tf_bert_model[4][0]']          \n",
      "                                                                                                  \n",
      " global_max_pooling1d_1 (Global  (None, 128)         0           ['conv1d_1[0][0]']               \n",
      " MaxPooling1D)                                                                                    \n",
      "                                                                                                  \n",
      " dropout_40 (Dropout)           (None, 128)          0           ['global_max_pooling1d_1[0][0]'] \n",
      "                                                                                                  \n",
      " dense_4 (Dense)                (None, 128)          16512       ['dropout_40[0][0]']             \n",
      "                                                                                                  \n",
      " dense_5 (Dense)                (None, 5)            645         ['dense_4[0][0]']                \n",
      "                                                                                                  \n",
      "==================================================================================================\n",
      "Total params: 118,609,541\n",
      "Trainable params: 118,609,541\n",
      "Non-trainable params: 0\n",
      "__________________________________________________________________________________________________\n"
     ]
    }
   ],
   "source": [
    "# 클래스 수 설정\n",
    "num_classes = 5  # 필요에 따라 조정\n",
    "\n",
    "# 모델 생성\n",
    "model = build_classification_model(max_seq_len, num_classes)\n",
    "\n",
    "# 모델 컴파일\n",
    "model.compile(\n",
    "    optimizer=tf.keras.optimizers.Adam(learning_rate=3e-5),\n",
    "    loss='sparse_categorical_crossentropy',\n",
    "    metrics=['accuracy']\n",
    ")\n",
    "\n",
    "# 모델 요약 확인\n",
    "model.summary()"
   ]
  },
  {
   "cell_type": "code",
   "execution_count": 69,
   "id": "775d1f0e",
   "metadata": {},
   "outputs": [],
   "source": [
    "from tensorflow.keras.callbacks import EarlyStopping, ModelCheckpoint, ReduceLROnPlateau\n",
    "import os\n",
    "\n",
    "# 체크포인트 저장 디렉토리 생성\n",
    "checkpoint_dir = 'checkpoints'\n",
    "if not os.path.exists(checkpoint_dir):\n",
    "    os.makedirs(checkpoint_dir)\n",
    "\n",
    "# 조기 종료 및 모델 체크포인트 콜백 설정\n",
    "early_stopping = EarlyStopping(\n",
    "    monitor='val_loss',\n",
    "    patience=3,\n",
    "    restore_best_weights=True\n",
    ")\n",
    "\n",
    "model_checkpoint = ModelCheckpoint(\n",
    "    filepath=os.path.join(checkpoint_dir, 'best_model.h5'),  # 체크포인트 저장 경로\n",
    "    monitor='val_loss',                                      # 모니터링할 지표\n",
    "    save_best_only=True,                                     # 최상의 모델만 저장\n",
    "    save_weights_only=True,                                  # 가중치만 저장\n",
    "    verbose=1                                                # 저장 시 메시지 출력\n",
    ")\n",
    "\n",
    "# 추가적인 학습률 스케줄러 (선택 사항)\n",
    "reduce_lr = ReduceLROnPlateau(\n",
    "    monitor='val_loss',\n",
    "    factor=0.2,\n",
    "    patience=1,\n",
    "    min_lr=1e-6,\n",
    "    verbose=1\n",
    ")\n",
    "\n",
    "# 콜백 리스트에 추가\n",
    "callbacks = [early_stopping, model_checkpoint, reduce_lr]"
   ]
  },
  {
   "cell_type": "code",
   "execution_count": 70,
   "id": "dbe80982",
   "metadata": {},
   "outputs": [
    {
     "name": "stdout",
     "output_type": "stream",
     "text": [
      "사용 가능한 GPU 장치: [PhysicalDevice(name='/physical_device:GPU:0', device_type='GPU')]\n"
     ]
    }
   ],
   "source": [
    "import tensorflow as tf\n",
    "\n",
    "# 사용 가능한 GPU 장치 확인\n",
    "gpus = tf.config.list_physical_devices('GPU')\n",
    "if gpus:\n",
    "    print(f\"사용 가능한 GPU 장치: {gpus}\")\n",
    "else:\n",
    "    print(\"GPU를 찾을 수 없습니다. CPU를 사용 중입니다.\")"
   ]
  },
  {
   "cell_type": "code",
   "execution_count": 71,
   "id": "f9a42268",
   "metadata": {},
   "outputs": [
    {
     "name": "stdout",
     "output_type": "stream",
     "text": [
      "Epoch 1/20\n",
      "WARNING:tensorflow:Gradients do not exist for variables ['tf_bert_model/bert/pooler/dense/kernel:0', 'tf_bert_model/bert/pooler/dense/bias:0'] when minimizing the loss. If you're using `model.compile()`, did you forget to provide a `loss`argument?\n",
      "WARNING:tensorflow:Gradients do not exist for variables ['tf_bert_model/bert/pooler/dense/kernel:0', 'tf_bert_model/bert/pooler/dense/bias:0'] when minimizing the loss. If you're using `model.compile()`, did you forget to provide a `loss`argument?\n",
      "2625/2625 [==============================] - ETA: 0s - loss: 0.0910 - accuracy: 0.9769\n",
      "Epoch 00001: val_loss improved from inf to 0.07012, saving model to checkpoints\\best_model.h5\n",
      "2625/2625 [==============================] - 262s 94ms/step - loss: 0.0910 - accuracy: 0.9769 - val_loss: 0.0701 - val_accuracy: 0.9796 - lr: 3.0000e-05\n",
      "Epoch 2/20\n",
      "2625/2625 [==============================] - ETA: 0s - loss: 0.0612 - accuracy: 0.9833\n",
      "Epoch 00002: val_loss improved from 0.07012 to 0.05961, saving model to checkpoints\\best_model.h5\n",
      "2625/2625 [==============================] - 247s 94ms/step - loss: 0.0612 - accuracy: 0.9833 - val_loss: 0.0596 - val_accuracy: 0.9840 - lr: 3.0000e-05\n",
      "Epoch 3/20\n",
      "2625/2625 [==============================] - ETA: 0s - loss: 0.0532 - accuracy: 0.9869\n",
      "Epoch 00003: val_loss improved from 0.05961 to 0.05838, saving model to checkpoints\\best_model.h5\n",
      "2625/2625 [==============================] - 246s 94ms/step - loss: 0.0532 - accuracy: 0.9869 - val_loss: 0.0584 - val_accuracy: 0.9857 - lr: 3.0000e-05\n",
      "Epoch 4/20\n",
      "2625/2625 [==============================] - ETA: 0s - loss: 0.0439 - accuracy: 0.9898\n",
      "Epoch 00004: val_loss did not improve from 0.05838\n",
      "\n",
      "Epoch 00004: ReduceLROnPlateau reducing learning rate to 5.9999998484272515e-06.\n",
      "2625/2625 [==============================] - 246s 94ms/step - loss: 0.0439 - accuracy: 0.9898 - val_loss: 0.0616 - val_accuracy: 0.9836 - lr: 3.0000e-05\n",
      "Epoch 5/20\n",
      "2625/2625 [==============================] - ETA: 0s - loss: 0.0100 - accuracy: 0.9975\n",
      "Epoch 00005: val_loss improved from 0.05838 to 0.04649, saving model to checkpoints\\best_model.h5\n",
      "2625/2625 [==============================] - 246s 94ms/step - loss: 0.0100 - accuracy: 0.9975 - val_loss: 0.0465 - val_accuracy: 0.9893 - lr: 6.0000e-06\n",
      "Epoch 6/20\n",
      "2625/2625 [==============================] - ETA: 0s - loss: 0.0040 - accuracy: 0.9990\n",
      "Epoch 00006: val_loss did not improve from 0.04649\n",
      "\n",
      "Epoch 00006: ReduceLROnPlateau reducing learning rate to 1.1999999514955563e-06.\n",
      "2625/2625 [==============================] - 252s 96ms/step - loss: 0.0040 - accuracy: 0.9990 - val_loss: 0.0482 - val_accuracy: 0.9893 - lr: 6.0000e-06\n",
      "Epoch 7/20\n",
      "2625/2625 [==============================] - ETA: 0s - loss: 0.0018 - accuracy: 0.9994\n",
      "Epoch 00007: val_loss did not improve from 0.04649\n",
      "\n",
      "Epoch 00007: ReduceLROnPlateau reducing learning rate to 1e-06.\n",
      "2625/2625 [==============================] - 252s 96ms/step - loss: 0.0018 - accuracy: 0.9994 - val_loss: 0.0484 - val_accuracy: 0.9907 - lr: 1.2000e-06\n",
      "Epoch 8/20\n",
      "2625/2625 [==============================] - ETA: 0s - loss: 0.0011 - accuracy: 0.9998\n",
      "Epoch 00008: val_loss did not improve from 0.04649\n",
      "2625/2625 [==============================] - 245s 94ms/step - loss: 0.0011 - accuracy: 0.9998 - val_loss: 0.0511 - val_accuracy: 0.9907 - lr: 1.0000e-06\n"
     ]
    }
   ],
   "source": [
    "# 모델 학습\n",
    "history = model.fit(\n",
    "    [X_train_input_ids, X_train_attention_mask],\n",
    "    y_train,\n",
    "    validation_data=([X_val_input_ids, X_val_attention_mask], y_val),\n",
    "    epochs=20,\n",
    "    batch_size=8, \n",
    "    callbacks=callbacks\n",
    ")"
   ]
  },
  {
   "cell_type": "code",
   "execution_count": 72,
   "id": "8eb11917",
   "metadata": {},
   "outputs": [
    {
     "data": {
      "image/png": "[encoded data removed]",
      "text/plain": [
       "<Figure size 1200x400 with 2 Axes>"
      ]
     },
     "metadata": {},
     "output_type": "display_data"
    }
   ],
   "source": [
    "# 학습 과정 시각화\n",
    "plt.figure(figsize=(12, 4))\n",
    "plt.subplot(1, 2, 1)\n",
    "plt.plot(history.history['loss'], label='Train Loss')\n",
    "plt.plot(history.history['val_loss'], label='Val Loss')\n",
    "plt.title('Loss')\n",
    "plt.xlabel('Epoch')\n",
    "plt.ylabel('Loss')\n",
    "plt.legend()\n",
    "\n",
    "plt.subplot(1, 2, 2)\n",
    "plt.plot(history.history['accuracy'], label='Train Acc')\n",
    "plt.plot(history.history['val_accuracy'], label='Val Acc')\n",
    "plt.title('Accuracy')\n",
    "plt.xlabel('Epoch')\n",
    "plt.ylabel('Accuracy')\n",
    "plt.legend()\n",
    "\n",
    "plt.show()"
   ]
  },
  {
   "cell_type": "code",
   "execution_count": 76,
   "id": "9a68f954",
   "metadata": {},
   "outputs": [
    {
     "data": {
      "text/html": [
       "<div>\n",
       "<style scoped>\n",
       "    .dataframe tbody tr th:only-of-type {\n",
       "        vertical-align: middle;\n",
       "    }\n",
       "\n",
       "    .dataframe tbody tr th {\n",
       "        vertical-align: top;\n",
       "    }\n",
       "\n",
       "    .dataframe thead th {\n",
       "        text-align: right;\n",
       "    }\n",
       "</style>\n",
       "<table border=\"1\" class=\"dataframe\">\n",
       "  <thead>\n",
       "    <tr style=\"text-align: right;\">\n",
       "      <th></th>\n",
       "      <th>precision</th>\n",
       "      <th>recall</th>\n",
       "      <th>f1-score</th>\n",
       "      <th>support</th>\n",
       "    </tr>\n",
       "  </thead>\n",
       "  <tbody>\n",
       "    <tr>\n",
       "      <th>협박 대화</th>\n",
       "      <td>0.9844</td>\n",
       "      <td>0.9748</td>\n",
       "      <td>0.9796</td>\n",
       "      <td>713.0000</td>\n",
       "    </tr>\n",
       "    <tr>\n",
       "      <th>갈취 대화</th>\n",
       "      <td>0.9880</td>\n",
       "      <td>0.9880</td>\n",
       "      <td>0.9880</td>\n",
       "      <td>913.0000</td>\n",
       "    </tr>\n",
       "    <tr>\n",
       "      <th>직장 내 괴롭힘 대화</th>\n",
       "      <td>0.9824</td>\n",
       "      <td>0.9891</td>\n",
       "      <td>0.9857</td>\n",
       "      <td>732.0000</td>\n",
       "    </tr>\n",
       "    <tr>\n",
       "      <th>기타 괴롭힘 대화</th>\n",
       "      <td>0.9823</td>\n",
       "      <td>0.9853</td>\n",
       "      <td>0.9838</td>\n",
       "      <td>955.0000</td>\n",
       "    </tr>\n",
       "    <tr>\n",
       "      <th>일반 대화</th>\n",
       "      <td>0.9979</td>\n",
       "      <td>0.9974</td>\n",
       "      <td>0.9977</td>\n",
       "      <td>1937.0000</td>\n",
       "    </tr>\n",
       "    <tr>\n",
       "      <th>accuracy</th>\n",
       "      <td>0.9893</td>\n",
       "      <td>0.9893</td>\n",
       "      <td>0.9893</td>\n",
       "      <td>0.9893</td>\n",
       "    </tr>\n",
       "    <tr>\n",
       "      <th>macro avg</th>\n",
       "      <td>0.9870</td>\n",
       "      <td>0.9869</td>\n",
       "      <td>0.9869</td>\n",
       "      <td>5250.0000</td>\n",
       "    </tr>\n",
       "    <tr>\n",
       "      <th>weighted avg</th>\n",
       "      <td>0.9893</td>\n",
       "      <td>0.9893</td>\n",
       "      <td>0.9893</td>\n",
       "      <td>5250.0000</td>\n",
       "    </tr>\n",
       "  </tbody>\n",
       "</table>\n",
       "</div>"
      ],
      "text/plain": [
       "              precision  recall  f1-score    support\n",
       "협박 대화            0.9844  0.9748    0.9796   713.0000\n",
       "갈취 대화            0.9880  0.9880    0.9880   913.0000\n",
       "직장 내 괴롭힘 대화      0.9824  0.9891    0.9857   732.0000\n",
       "기타 괴롭힘 대화        0.9823  0.9853    0.9838   955.0000\n",
       "일반 대화            0.9979  0.9974    0.9977  1937.0000\n",
       "accuracy         0.9893  0.9893    0.9893     0.9893\n",
       "macro avg        0.9870  0.9869    0.9869  5250.0000\n",
       "weighted avg     0.9893  0.9893    0.9893  5250.0000"
      ]
     },
     "execution_count": 76,
     "metadata": {},
     "output_type": "execute_result"
    }
   ],
   "source": [
    "# 검증 데이터에 대한 예측 및 분류 보고서\n",
    "y_pred = model.predict([X_val_input_ids, X_val_attention_mask])\n",
    "y_pred_classes = np.argmax(y_pred, axis=1)\n",
    "\n",
    "report = classification_report(y_val, y_pred_classes, target_names=label_mapping.keys(), output_dict=True)\n",
    "report_df = pd.DataFrame(report).transpose()\n",
    "report_df = report_df[['precision', 'recall', 'f1-score', 'support']]\n",
    "report_df = report_df.round(4)\n",
    "report_df"
   ]
  },
  {
   "cell_type": "code",
   "execution_count": 77,
   "id": "babdc9be",
   "metadata": {},
   "outputs": [],
   "source": [
    "from tensorflow.keras.models import load_model\n",
    "\n",
    "# 저장된 모델의 가중치를 불러오는 경로 설정\n",
    "model_path = os.path.join('checkpoints', 'best_model.h5')"
   ]
  },
  {
   "cell_type": "code",
   "execution_count": 78,
   "id": "0d9ad560",
   "metadata": {},
   "outputs": [
    {
     "name": "stdout",
     "output_type": "stream",
     "text": [
      "Requirement already satisfied: kiwipiepy in c:\\users\\kkk00\\anaconda3\\envs\\python37\\lib\\site-packages (0.19.0)\n",
      "Requirement already satisfied: kiwipiepy-model<0.20,>=0.19 in c:\\users\\kkk00\\anaconda3\\envs\\python37\\lib\\site-packages (from kiwipiepy) (0.19.0)\n",
      "Requirement already satisfied: numpy<2 in c:\\users\\kkk00\\anaconda3\\envs\\python37\\lib\\site-packages (from kiwipiepy) (1.21.6)\n",
      "Requirement already satisfied: tqdm in c:\\users\\kkk00\\anaconda3\\envs\\python37\\lib\\site-packages (from kiwipiepy) (4.66.4)\n",
      "Requirement already satisfied: colorama in c:\\users\\kkk00\\anaconda3\\envs\\python37\\lib\\site-packages (from tqdm->kiwipiepy) (0.4.6)\n"
     ]
    }
   ],
   "source": [
    "!pip install kiwipiepy\n",
    "from kiwipiepy import Kiwi\n",
    "from kiwipiepy.utils import Stopwords\n",
    "kiwi=Kiwi()\n",
    "stopwords =Stopwords()"
   ]
  },
  {
   "cell_type": "code",
   "execution_count": 79,
   "id": "60c5f0f3",
   "metadata": {},
   "outputs": [],
   "source": [
    "class TextProcessor:\n",
    "    def __init__(self):\n",
    "        self.kiwi = Kiwi(typos='basic_with_continual_and_lengthening')\n",
    "        self.stopwords = Stopwords()\n",
    "        \n",
    "    # 데이터 정제 (불필요한 문자, 특수 문자, 이메일, URL, 자음/모음 등 제거)\n",
    "    def clean_text(self, text):\n",
    "        # E-mail 제거\n",
    "        text = re.sub(r'([a-zA-Z0-9_.+-]+@[a-zA-Z0-9-]+\\.[a-zA-Z0-9-.]+)', '', text)\n",
    "        # URL 제거\n",
    "        text = re.sub(r'(http|ftp|https)://(?:[-\\w.]|(?:%[\\da-fA-F]{2}))+', '', text)\n",
    "        # 한글 자음, 모음 제거\n",
    "        text = re.sub(r'([ㄱ-ㅎㅏ-ㅣ]+)', '', text)\n",
    "        # 알파벳, 숫자 제거\n",
    "        text = re.sub(r'([a-zA-Z0-9]+)', '', text)\n",
    "        # HTML 태그 제거\n",
    "        text = re.sub(r'<[^>]*>', '', text)\n",
    "        # 특수 기호 제거\n",
    "        text = re.sub(r'[^\\w\\s]', '', text)\n",
    "        # 한글과 공백을 제외한 모든 문자 제거\n",
    "        text = re.sub(r'[^가-힣\\s]', '', text)\n",
    "        # 다중 공백을 단일 공백으로\n",
    "        text = re.sub(r'\\s+', ' ', text).strip()\n",
    "        return text\n",
    "\n",
    "    # 형태소 분석 및 불용어 제거\n",
    "    def analyze_morphs(self, text):\n",
    "        # 형태소 분석 수행 및 불용어 제거\n",
    "        tokens = [(token.form,token.tag )for token in self.kiwi.tokenize(text, stopwords=self.stopwords)]\n",
    "        return tokens\n",
    "    \n",
    "    # 'EF' 태그가 있는 형태소 제거\n",
    "    def filter_ef_tag(self, tokens):\n",
    "        # 'EF' 품사 태그가 있는 형태소 제거\n",
    "        filtered_tokens = [token[0] for token in tokens if token[1] != 'EF']\n",
    "        filtered_tokens = [token[0] for token in tokens if token[1] != 'EC']\n",
    "        filtered_tokens = [token[0] for token in tokens if token[1] != 'JKO']\n",
    "        return filtered_tokens\n",
    "\n",
    "    # 추가적인 단어 필터링\n",
    "    def filter_specific_words(self, tokens):\n",
    "        words_to_remove = ['ㅂ니다', '안', '야', '너', '키키', '키', '거', 'ㄴ가요', '습니다']\n",
    "        filtered_tokens = [token for token in tokens if token not in words_to_remove]\n",
    "        return filtered_tokens\n",
    "\n",
    "    # 전체 과정 통합 (형태소 분석, EF 품사 및 불용어 제거)\n",
    "    def process(self, text):\n",
    "        cleaned_text = self.clean_text(text)\n",
    "        tokens = self.analyze_morphs(cleaned_text)\n",
    "        tokens_without_ef = self.filter_ef_tag(tokens)\n",
    "        filtered_tokens = self.filter_specific_words(tokens_without_ef)\n",
    "        return filtered_tokens\n",
    "    \n",
    "processor = TextProcessor()"
   ]
  },
  {
   "cell_type": "code",
   "execution_count": 80,
   "id": "1cc9389b",
   "metadata": {},
   "outputs": [],
   "source": [
    "# 1. 저장된 모델 불러오기\n",
    "model.load_weights(model_path)"
   ]
  },
  {
   "cell_type": "code",
   "execution_count": 81,
   "id": "49ee591a",
   "metadata": {},
   "outputs": [],
   "source": [
    "# 2. 테스트 데이터 로드\n",
    "test_data_path = '~/2024_DKTC/data/test.csv'\n",
    "test_df = pd.read_csv(test_data_path)"
   ]
  },
  {
   "cell_type": "code",
   "execution_count": 82,
   "id": "b553193f",
   "metadata": {},
   "outputs": [],
   "source": [
    "# 3. 테스트 데이터 전처리 (훈련 데이터와 동일한 방식으로)\n",
    "test_df['ppc'] = test_df['text'].apply(lambda text: processor.process(text))\n",
    "test_df['processed_text'] = test_df['ppc'].apply(lambda tokens: ' '.join(tokens))"
   ]
  },
  {
   "cell_type": "code",
   "execution_count": 83,
   "id": "84c89de9",
   "metadata": {},
   "outputs": [],
   "source": [
    "# 4. 토큰화된 테스트 데이터 생성\n",
    "tokenized_test_data = tokenize_texts(test_df['processed_text'], tokenizer, max_seq_len)\n",
    "input_ids_test = tokenized_test_data['input_ids']\n",
    "attention_mask_test = tokenized_test_data['attention_mask']"
   ]
  },
  {
   "cell_type": "code",
   "execution_count": 102,
   "id": "2e906c43",
   "metadata": {},
   "outputs": [],
   "source": [
    "# 5. 모델로 예측 수행\n",
    "y_test_pred = model.predict([input_ids_test, attention_mask_test])"
   ]
  },
  {
   "cell_type": "code",
   "execution_count": 103,
   "id": "9b8012d4",
   "metadata": {},
   "outputs": [],
   "source": [
    "# 6. 예측 클래스 추출\n",
    "y_test_pred_classes = np.argmax(y_test_pred, axis=1)"
   ]
  },
  {
   "cell_type": "code",
   "execution_count": 104,
   "id": "743e8de9",
   "metadata": {},
   "outputs": [],
   "source": [
    "# Threshold 값 설정\n",
    "threshold = 0.5"
   ]
  },
  {
   "cell_type": "code",
   "execution_count": 105,
   "id": "48960c4a",
   "metadata": {},
   "outputs": [
    {
     "name": "stdout",
     "output_type": "stream",
     "text": [
      "예측 클래스 값 (threshold 적용 후): [1 2 2 4 1 0 0 1 3 1 0 4 2 2 2 0 4 3 0 3 0 3 3 1 1 2 3 4 2 0 1 0 4 1 0 3 3\n",
      " 1 3 1 0 1 2 1 4 2 0 3 4 0 1 3 1 2 2 3 3 4 3 3 1 2 0 3 2 0 4 3 3 0 4 2 3 2\n",
      " 0 4 2 3 2 4 1 0 0 1 3 2 0 4 1 2 0 2 0 3 3 2 1 2 0 0 1 1 4 0 3 2 2 3 4 0 4\n",
      " 0 0 2 1 1 4 2 2 1 2 2 1 1 1 1 2 4 1 3 3 3 2 3 1 0 3 0 3 1 3 4 1 3 2 0 0 0\n",
      " 3 1 0 3 0 1 2 4 0 2 3 3 0 3 4 0 3 3 2 4 3 1 0 2 2 3 4 3 0 2 0 3 2 3 2 2 0\n",
      " 4 1 0 1 0 0 3 1 3 1 3 0 4 3 3 2 0 0 3 0 3 2 2 2 2 4 1 3 2 0 4 3 4 1 0 1 4\n",
      " 0 4 0 4 1 0 1 0 2 0 0 3 1 3 4 1 0 3 3 3 3 2 4 1 2 3 2 1 0 2 0 2 2 1 3 2 1\n",
      " 2 1 0 1 3 2 3 3 4 2 3 0 4 0 2 4 2 2 3 2 2 1 0 3 2 4 2 1 2 1 3 1 1 3 3 2 3\n",
      " 4 4 1 0 4 3 0 2 1 1 3 3 1 2 0 1 4 4 2 3 0 3 4 1 2 0 0 1 1 1 1 4 2 3 1 0 0\n",
      " 3 1 4 3 1 4 3 0 2 0 0 1 2 4 1 0 0 0 3 1 1 1 0 3 3 0 1 3 4 1 1 2 4 0 2 3 1\n",
      " 1 2 0 2 2 1 1 0 1 1 2 0 2 2 3 3 4 0 0 3 1 0 1 2 1 2 0 1 1 3 3 3 2 2 3 3 2\n",
      " 1 2 1 0 3 0 2 2 4 3 1 1 3 0 1 0 3 3 1 1 2 2 0 3 4 1 0 1 3 0 4 4 2 3 0 2 1\n",
      " 4 2 0 2 2 4 1 0 2 3 4 1 2 3 1 1 4 1 2 2 2 3 3 2 4 0 2 1 0 4 3 2 1 4 4 2 4\n",
      " 3 1 0 1 3 4 4 4 3 3 4 0 1 1 2 2 1 0 0]\n"
     ]
    }
   ],
   "source": [
    "# 7. 일반 대화에 대한 threshold 적용\n",
    "# 각 클래스의 확률에서 일반 대화의 확률(y_test_pred[:, 4])이 threshold 이상일 때, '일반 대화'로 강제 분류\n",
    "for i in range(len(y_test_pred)):\n",
    "    general_conversation_prob = y_test_pred[i, 4]  # 일반 대화의 확률\n",
    "    if general_conversation_prob >= threshold:\n",
    "        y_test_pred_classes[i] = 4  # 일반 대화로 분류\n",
    "        \n",
    "# 예측 클래스 값 확인 (디버깅용)\n",
    "print(\"예측 클래스 값 (threshold 적용 후):\", y_test_pred_classes)"
   ]
  },
  {
   "cell_type": "code",
   "execution_count": 106,
   "id": "1e37ca26",
   "metadata": {},
   "outputs": [],
   "source": [
    "# 8. 예측 클래스 번호를 텍스트 레이블로 변환\n",
    "test_df['class'] = y_test_pred_classes"
   ]
  },
  {
   "cell_type": "code",
   "execution_count": 107,
   "id": "f2211471",
   "metadata": {},
   "outputs": [],
   "source": [
    "# 8. 제출 파일 작성\n",
    "submission = test_df[['idx', 'class']]\n",
    "submission.columns = ['idx', 'target']\n",
    "submission.to_csv('~/2024_DKTC/data/submission.csv', index=False)"
   ]
  },
  {
   "cell_type": "code",
   "execution_count": 108,
   "id": "b854cd41",
   "metadata": {},
   "outputs": [
    {
     "data": {
      "text/plain": [
       "array([1, 2, 4, 0, 3], dtype=int64)"
      ]
     },
     "execution_count": 108,
     "metadata": {},
     "output_type": "execute_result"
    }
   ],
   "source": [
    "test_df['class'].unique()"
   ]
  },
  {
   "cell_type": "code",
   "execution_count": 109,
   "id": "a542a9a3",
   "metadata": {},
   "outputs": [
    {
     "data": {
      "text/plain": [
       "1    111\n",
       "3    111\n",
       "2    108\n",
       "0    103\n",
       "4     67\n",
       "Name: class, dtype: int64"
      ]
     },
     "execution_count": 109,
     "metadata": {},
     "output_type": "execute_result"
    }
   ],
   "source": [
    "test_df['class'].value_counts()"
   ]
  },
  {
   "cell_type": "code",
   "execution_count": 95,
   "id": "bb121592",
   "metadata": {},
   "outputs": [
    {
     "name": "stdout",
     "output_type": "stream",
     "text": [
      "Target 값이 다른 idx 개수: 101\n"
     ]
    }
   ],
   "source": [
    "import pandas as pd\n",
    "\n",
    "# 파일 경로에 맞게 수정해주세요\n",
    "submission_before = pd.read_csv('~/2024_DKTC/result/submission (23).csv')\n",
    "submission_after = pd.read_csv('~/2024_DKTC/result/submission (29).csv')\n",
    "\n",
    "# target 값이 다른 항목 필터링\n",
    "differences = submission_before[submission_before['target'] != submission_after['target']]\n",
    "\n",
    "# 차이가 나는 idx 개수 출력\n",
    "difference_count = differences.shape[0]\n",
    "\n",
    "print(f\"Target 값이 다른 idx 개수: {difference_count}\")"
   ]
  },
  {
   "cell_type": "code",
   "execution_count": null,
   "id": "42d62262",
   "metadata": {},
   "outputs": [],
   "source": []
  }
 ],
 "metadata": {
  "kernelspec": {
   "display_name": "Python 3 (ipykernel)",
   "language": "python",
   "name": "python3"
  },
  "language_info": {
   "codemirror_mode": {
    "name": "ipython",
    "version": 3
   },
   "file_extension": ".py",
   "mimetype": "text/x-python",
   "name": "python",
   "nbconvert_exporter": "python",
   "pygments_lexer": "ipython3",
   "version": "3.7.1"
  }
 },
 "nbformat": 4,
 "nbformat_minor": 5
}
