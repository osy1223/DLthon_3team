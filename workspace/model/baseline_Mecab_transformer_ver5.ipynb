{
 "cells": [
  {
   "cell_type": "code",
   "execution_count": 1,
   "id": "fe235cad",
   "metadata": {},
   "outputs": [],
   "source": [
    "import pandas as pd\n",
    "import numpy as np\n",
    "import matplotlib.pyplot as plt\n",
    "import re\n",
    "import time\n",
    "import tensorflow as tf\n",
    "\n",
    "from sklearn.model_selection import train_test_split\n",
    "from tensorflow.keras.preprocessing.sequence import pad_sequences\n",
    "from tensorflow.keras.preprocessing.text import Tokenizer\n",
    "\n",
    "from keras.callbacks import EarlyStopping, ModelCheckpoint"
   ]
  },
  {
   "cell_type": "code",
   "execution_count": 2,
   "id": "110c31a3",
   "metadata": {},
   "outputs": [],
   "source": [
    "import tensorflow as tf\n",
    "tf.keras.backend.clear_session()"
   ]
  },
  {
   "cell_type": "code",
   "execution_count": 3,
   "id": "08e9377d",
   "metadata": {},
   "outputs": [],
   "source": [
    "import tensorflow as tf\n",
    "\n",
    "gpus = tf.config.list_physical_devices('GPU')\n",
    "if gpus:\n",
    "    try:\n",
    "        for gpu in gpus:\n",
    "            tf.config.experimental.set_memory_growth(gpu, True)  # 메모리 동적 할당\n",
    "    except RuntimeError as e:\n",
    "        print(e)"
   ]
  },
  {
   "cell_type": "code",
   "execution_count": 4,
   "id": "ac21da54",
   "metadata": {},
   "outputs": [
    {
     "name": "stdout",
     "output_type": "stream",
     "text": [
      "너\tNP,*,F,너,*,*,*,*\n",
      "오늘\tMAG,성분부사|시간부사,T,오늘,*,*,*,*\n",
      "왜\tMAG,문장부사|양상부사,F,왜,*,*,*,*\n",
      "이렇게\tMAG,*,F,이렇게,*,*,*,*\n",
      "예민\tXR,*,T,예민,*,*,*,*\n",
      "해\tXSA+EF,*,F,해,Inflect,XSA,EF,하/XSA/*+아/EF/*\n",
      "?\tSF,*,*,*,*,*,*,*\n",
      "EOS\n",
      "\n"
     ]
    }
   ],
   "source": [
    "import MeCab\n",
    "\n",
    "m = MeCab.Tagger()\n",
    "\n",
    "out = m.parse(\"너 오늘 왜 이렇게 예민해?\")\n",
    "\n",
    "print(out)"
   ]
  },
  {
   "cell_type": "code",
   "execution_count": 5,
   "id": "b615671e",
   "metadata": {},
   "outputs": [],
   "source": [
    "## 파일 로드\n",
    "path = '~/aiffel/dktc/data_forder/result_kakao.csv'\n",
    "data = pd.read_csv(path)"
   ]
  },
  {
   "cell_type": "code",
   "execution_count": 6,
   "id": "e0efa0fa",
   "metadata": {},
   "outputs": [
    {
     "data": {
      "text/html": [
       "<div>\n",
       "<style scoped>\n",
       "    .dataframe tbody tr th:only-of-type {\n",
       "        vertical-align: middle;\n",
       "    }\n",
       "\n",
       "    .dataframe tbody tr th {\n",
       "        vertical-align: top;\n",
       "    }\n",
       "\n",
       "    .dataframe thead th {\n",
       "        text-align: right;\n",
       "    }\n",
       "</style>\n",
       "<table border=\"1\" class=\"dataframe\">\n",
       "  <thead>\n",
       "    <tr style=\"text-align: right;\">\n",
       "      <th></th>\n",
       "      <th>idx</th>\n",
       "      <th>class</th>\n",
       "      <th>conversation</th>\n",
       "    </tr>\n",
       "  </thead>\n",
       "  <tbody>\n",
       "    <tr>\n",
       "      <th>21945</th>\n",
       "      <td>21945</td>\n",
       "      <td>일반 대화</td>\n",
       "      <td>키키 아 야구 하고 싶어 나\\n 난 레저를 정말 좋아해\\n 어떤 레저 좋아하는데?\\...</td>\n",
       "    </tr>\n",
       "    <tr>\n",
       "      <th>21946</th>\n",
       "      <td>21946</td>\n",
       "      <td>일반 대화</td>\n",
       "      <td>아 진짜? 키키\\n 일할 때 어떤 때가 기분 좋아?\\n 좋은 손님 만나거나 내가 일...</td>\n",
       "    </tr>\n",
       "    <tr>\n",
       "      <th>21947</th>\n",
       "      <td>21947</td>\n",
       "      <td>일반 대화</td>\n",
       "      <td>넌 배달 음식 자주 시켜 먹어?\\n 난 굉장히 자주 시켜먹어 키키 너는?\\n 오 나...</td>\n",
       "    </tr>\n",
       "    <tr>\n",
       "      <th>21948</th>\n",
       "      <td>21948</td>\n",
       "      <td>일반 대화</td>\n",
       "      <td>야 12월에 남친 생일인데 뭐 해줘야겠노\\n 야야 아직 10월인데 벌써 걱정하냐 키...</td>\n",
       "    </tr>\n",
       "    <tr>\n",
       "      <th>21949</th>\n",
       "      <td>21949</td>\n",
       "      <td>일반 대화</td>\n",
       "      <td>어렸을 때 햄스터 키워 봤어요? 키키\\n 오 키워봤지 키키\\n 잔인한 장면을 보긴 ...</td>\n",
       "    </tr>\n",
       "  </tbody>\n",
       "</table>\n",
       "</div>"
      ],
      "text/plain": [
       "         idx  class                                       conversation\n",
       "21945  21945  일반 대화  키키 아 야구 하고 싶어 나\\n 난 레저를 정말 좋아해\\n 어떤 레저 좋아하는데?\\...\n",
       "21946  21946  일반 대화  아 진짜? 키키\\n 일할 때 어떤 때가 기분 좋아?\\n 좋은 손님 만나거나 내가 일...\n",
       "21947  21947  일반 대화  넌 배달 음식 자주 시켜 먹어?\\n 난 굉장히 자주 시켜먹어 키키 너는?\\n 오 나...\n",
       "21948  21948  일반 대화  야 12월에 남친 생일인데 뭐 해줘야겠노\\n 야야 아직 10월인데 벌써 걱정하냐 키...\n",
       "21949  21949  일반 대화  어렸을 때 햄스터 키워 봤어요? 키키\\n 오 키워봤지 키키\\n 잔인한 장면을 보긴 ..."
      ]
     },
     "execution_count": 6,
     "metadata": {},
     "output_type": "execute_result"
    }
   ],
   "source": [
    "data.tail()"
   ]
  },
  {
   "cell_type": "code",
   "execution_count": 7,
   "id": "a56919ae",
   "metadata": {},
   "outputs": [
    {
     "name": "stdout",
     "output_type": "stream",
     "text": [
      "데이터 개수 : 21950 \n",
      "\n",
      "Null 개수 : idx             0\n",
      "class           0\n",
      "conversation    0\n",
      "dtype: int64\n"
     ]
    }
   ],
   "source": [
    "print('데이터 개수 :',len(data),'\\n')\n",
    "print('Null 개수 :',data.isnull().sum())"
   ]
  },
  {
   "cell_type": "code",
   "execution_count": 41,
   "id": "f42978a7",
   "metadata": {},
   "outputs": [],
   "source": [
    "import MeCab\n",
    "import pandas as pd\n",
    "import re\n",
    "\n",
    "# MeCab 형태소 분석기 초기화\n",
    "mecab = MeCab.Tagger()\n",
    "\n",
    "# MeCab의 parse 결과를 파싱하여 (word, pos) 튜플의 리스트로 변환하는 함수\n",
    "def parse_mecab_output(text):\n",
    "    parsed = mecab.parse(text)\n",
    "    parsed_lines = parsed.strip().split('\\n')\n",
    "    tokens = []\n",
    "    for line in parsed_lines:\n",
    "        if line == 'EOS':\n",
    "            break\n",
    "        else:\n",
    "            # MeCab의 출력은 \"표면형\\t품사 정보\" 형식입니다.\n",
    "            try:\n",
    "                surface, feature = line.split('\\t')\n",
    "                # 품사 정보는 ','로 구분되어 있습니다.\n",
    "                pos = feature.split(',')[0]\n",
    "                tokens.append((surface, pos))\n",
    "            except ValueError:\n",
    "                continue  # 빈 줄이나 형식에 맞지 않는 줄은 무시\n",
    "    return tokens\n",
    "\n",
    "# 전처리 및 형태소 분석 클래스 정의\n",
    "class TextPreprocessor:\n",
    "    def __init__(self, pos_to_keep=None):\n",
    "        # 유지할 품사 설정\n",
    "        if pos_to_keep is None:\n",
    "            # 주요 품사 리스트 (명사, 동사, 형용사 등)\n",
    "             self.pos_to_keep = [\n",
    "                'NNG', 'NNP', 'NNB',  # 명사 계열\n",
    "                'VV', 'VA',            # 동사, 형용사\n",
    "                'MM', 'MAG',           # 관형사, 부사\n",
    "                'XPN', 'XSN', 'XSV', 'XSA' # 파생 접미사, 접두사\n",
    "            ]\n",
    "        else:\n",
    "            self.pos_to_keep = pos_to_keep\n",
    "\n",
    "    # 텍스트 정규화 함수\n",
    "    def normalize_text(self, text):\n",
    "        \n",
    "        # 반복되는 문자 줄이기 (e.g., ㅋㅋㅋㅋ -> ㅋㅋ)\n",
    "        text = re.sub(r'(.)\\1{2,}', r'\\1\\1', text)\n",
    "        # 다중 공백 제거\n",
    "        text = re.sub(r'\\s+', ' ', text)\n",
    "        # 앞뒤 공백 제거\n",
    "        text = text.strip()\n",
    "        return text\n",
    "\n",
    "    # 문장을 형태소 분석하고 필요한 품사만 추출하는 함수\n",
    "    def filter_by_pos(self, sentence):\n",
    "        parsed_sentence = parse_mecab_output(sentence)\n",
    "        # 필요한 품사만 추출\n",
    "        filtered_tokens = [word for word, pos in parsed_sentence if pos in self.pos_to_keep]\n",
    "        return filtered_tokens\n",
    "\n",
    "    # 전처리 및 토큰화 함수\n",
    "    def preprocess_and_tokenize(self, sentence):\n",
    "        if pd.isnull(sentence):\n",
    "            return []\n",
    "        # 텍스트 정규화\n",
    "        sentence = self.normalize_text(sentence)\n",
    "        # 형태소 분석 수행 및 필요한 품사만 추출\n",
    "        tokens = self.filter_by_pos(sentence)\n",
    "        return tokens\n",
    "\n",
    "    # 데이터프레임에 전처리 및 토큰화 적용\n",
    "    def apply_to_dataframe(self, df,column_name):\n",
    "        df[column_name] = df['conversation'].apply(self.preprocess_and_tokenize)\n",
    "        return df"
   ]
  },
  {
   "cell_type": "code",
   "execution_count": 42,
   "id": "86e59a25",
   "metadata": {},
   "outputs": [
    {
     "data": {
      "text/html": [
       "<div>\n",
       "<style scoped>\n",
       "    .dataframe tbody tr th:only-of-type {\n",
       "        vertical-align: middle;\n",
       "    }\n",
       "\n",
       "    .dataframe tbody tr th {\n",
       "        vertical-align: top;\n",
       "    }\n",
       "\n",
       "    .dataframe thead th {\n",
       "        text-align: right;\n",
       "    }\n",
       "</style>\n",
       "<table border=\"1\" class=\"dataframe\">\n",
       "  <thead>\n",
       "    <tr style=\"text-align: right;\">\n",
       "      <th></th>\n",
       "      <th>idx</th>\n",
       "      <th>class</th>\n",
       "      <th>conversation</th>\n",
       "      <th>preprocess_conversation</th>\n",
       "    </tr>\n",
       "  </thead>\n",
       "  <tbody>\n",
       "    <tr>\n",
       "      <th>13945</th>\n",
       "      <td>13945</td>\n",
       "      <td>일반 대화</td>\n",
       "      <td>요즘 누가 가장 핫해?\\n 키키 요즘은 빨강구두 재밌디\\n 그건 쟤가 제일 잘 알겠...</td>\n",
       "      <td>[요즘, 가장, 핫, 키, 키, 요즘, 빨강, 구두, 재밌, 제일, 잘, 알, 키,...</td>\n",
       "    </tr>\n",
       "    <tr>\n",
       "      <th>13946</th>\n",
       "      <td>13946</td>\n",
       "      <td>일반 대화</td>\n",
       "      <td>나 요즘 햄스터에 관심이 생겨버렸어 키키\\n 햄스터? 쥐 같은 동물이 말하는 거지?...</td>\n",
       "      <td>[요즘, 햄스터, 관심, 키, 햄스터, 쥐, 같, 동물, 말, 하, 거, 처음, 귀...</td>\n",
       "    </tr>\n",
       "    <tr>\n",
       "      <th>13947</th>\n",
       "      <td>13947</td>\n",
       "      <td>일반 대화</td>\n",
       "      <td>아 자격증 공부 해야 하는디 요즘 넘 안 해\\n 훈련도 하나의 교육이라 생각하면 편...</td>\n",
       "      <td>[자격증, 공부, 하, 요즘, 넘, 안, 훈련, 교육, 생각, 하, 편하, 자격증,...</td>\n",
       "    </tr>\n",
       "    <tr>\n",
       "      <th>13948</th>\n",
       "      <td>13948</td>\n",
       "      <td>일반 대화</td>\n",
       "      <td>겜 젤 오래한 게 몇 시간?\\n 나는 쉬는 날 집에서 4시간 한 적 있어\\n 나는 ...</td>\n",
       "      <td>[겜, 젤, 오래, 몇, 시간, 쉬, 날, 집, 시간, 적, 있, 세, 시간, 정도...</td>\n",
       "    </tr>\n",
       "    <tr>\n",
       "      <th>13949</th>\n",
       "      <td>13949</td>\n",
       "      <td>일반 대화</td>\n",
       "      <td>날씨가 왔다 갔다 거리노 ㅠㅠ\\n 맞지 ㅜㅜ 어제는 밖에 완전 여름 날씨던데\\n 맞...</td>\n",
       "      <td>[날씨, 거리, 맞, 어제, 밖, 완전, 여름, 날씨, 맞, 진짜, 덥, 키, 날씨...</td>\n",
       "    </tr>\n",
       "  </tbody>\n",
       "</table>\n",
       "</div>"
      ],
      "text/plain": [
       "         idx  class                                       conversation  \\\n",
       "13945  13945  일반 대화  요즘 누가 가장 핫해?\\n 키키 요즘은 빨강구두 재밌디\\n 그건 쟤가 제일 잘 알겠...   \n",
       "13946  13946  일반 대화  나 요즘 햄스터에 관심이 생겨버렸어 키키\\n 햄스터? 쥐 같은 동물이 말하는 거지?...   \n",
       "13947  13947  일반 대화  아 자격증 공부 해야 하는디 요즘 넘 안 해\\n 훈련도 하나의 교육이라 생각하면 편...   \n",
       "13948  13948  일반 대화  겜 젤 오래한 게 몇 시간?\\n 나는 쉬는 날 집에서 4시간 한 적 있어\\n 나는 ...   \n",
       "13949  13949  일반 대화  날씨가 왔다 갔다 거리노 ㅠㅠ\\n 맞지 ㅜㅜ 어제는 밖에 완전 여름 날씨던데\\n 맞...   \n",
       "\n",
       "                                 preprocess_conversation  \n",
       "13945  [요즘, 가장, 핫, 키, 키, 요즘, 빨강, 구두, 재밌, 제일, 잘, 알, 키,...  \n",
       "13946  [요즘, 햄스터, 관심, 키, 햄스터, 쥐, 같, 동물, 말, 하, 거, 처음, 귀...  \n",
       "13947  [자격증, 공부, 하, 요즘, 넘, 안, 훈련, 교육, 생각, 하, 편하, 자격증,...  \n",
       "13948  [겜, 젤, 오래, 몇, 시간, 쉬, 날, 집, 시간, 적, 있, 세, 시간, 정도...  \n",
       "13949  [날씨, 거리, 맞, 어제, 밖, 완전, 여름, 날씨, 맞, 진짜, 덥, 키, 날씨...  "
      ]
     },
     "execution_count": 42,
     "metadata": {},
     "output_type": "execute_result"
    }
   ],
   "source": [
    "# 품사 필터링을 적용하여 전처리 객체 생성\n",
    "preprocessor = TextPreprocessor()\n",
    "\n",
    "# 데이터프레임 로드 (df로 복사하여 진행)\n",
    "df = data.copy()\n",
    "\n",
    "df = df.iloc[:13950]\n",
    "\n",
    "# 전처리 및 토큰화 적용\n",
    "df = preprocessor.apply_to_dataframe(df,'preprocess_conversation')\n",
    "\n",
    "# 결과 확인\n",
    "df.tail()"
   ]
  },
  {
   "cell_type": "code",
   "execution_count": 43,
   "id": "c21c6e0e",
   "metadata": {},
   "outputs": [
    {
     "data": {
      "text/html": [
       "<div>\n",
       "<style scoped>\n",
       "    .dataframe tbody tr th:only-of-type {\n",
       "        vertical-align: middle;\n",
       "    }\n",
       "\n",
       "    .dataframe tbody tr th {\n",
       "        vertical-align: top;\n",
       "    }\n",
       "\n",
       "    .dataframe thead th {\n",
       "        text-align: right;\n",
       "    }\n",
       "</style>\n",
       "<table border=\"1\" class=\"dataframe\">\n",
       "  <thead>\n",
       "    <tr style=\"text-align: right;\">\n",
       "      <th></th>\n",
       "      <th>idx</th>\n",
       "      <th>class</th>\n",
       "      <th>conversation</th>\n",
       "      <th>preprocess_conversation</th>\n",
       "    </tr>\n",
       "  </thead>\n",
       "  <tbody>\n",
       "    <tr>\n",
       "      <th>0</th>\n",
       "      <td>0</td>\n",
       "      <td>협박 대화</td>\n",
       "      <td>지금 너 스스로를 죽여달라고 애원하는 것인가?\\n 아닙니다. 죄송합니다.\\n 죽을 ...</td>\n",
       "      <td>[지금, 스스로, 애원, 하, 것, 죽, 거, 혼자, 죽, 사건, 휘말리, 진짜, ...</td>\n",
       "    </tr>\n",
       "    <tr>\n",
       "      <th>1</th>\n",
       "      <td>1</td>\n",
       "      <td>협박 대화</td>\n",
       "      <td>길동경찰서입니다.\\n9시 40분 마트에 폭발물을 설치할거다.\\n네?\\n똑바로 들어 ...</td>\n",
       "      <td>[길동, 경찰서, 마트, 폭발물, 설치, 거, 똑바로, 들, 한, 더, 얘기, 장난...</td>\n",
       "    </tr>\n",
       "    <tr>\n",
       "      <th>2</th>\n",
       "      <td>2</td>\n",
       "      <td>기타 괴롭힘 대화</td>\n",
       "      <td>너 되게 귀여운거 알지? 나보다 작은 남자는 첨봤어.\\n그만해. 니들 놀리는거 재미...</td>\n",
       "      <td>[되게, 거, 알, 작, 남자, 첨, 그만, 들, 놀리, 거, 재미없, 지영, 키,...</td>\n",
       "    </tr>\n",
       "    <tr>\n",
       "      <th>3</th>\n",
       "      <td>3</td>\n",
       "      <td>갈취 대화</td>\n",
       "      <td>어이 거기\\n예??\\n너 말이야 너. 이리 오라고\\n무슨 일.\\n너 옷 좋아보인다?...</td>\n",
       "      <td>[말, 이리, 오, 무슨, 일, 옷, 좋, 돈, 좀, 있, 돈, 없, 나오, 죽, ...</td>\n",
       "    </tr>\n",
       "    <tr>\n",
       "      <th>4</th>\n",
       "      <td>4</td>\n",
       "      <td>갈취 대화</td>\n",
       "      <td>저기요 혹시 날이 너무 뜨겁잖아요? 저희 회사에서 이 선크림 파는데 한 번 손등에 ...</td>\n",
       "      <td>[혹시, 날, 너무, 뜨겁, 회사, 이, 선크림, 파, 한, 손등, 진짜, 안, 선...</td>\n",
       "    </tr>\n",
       "    <tr>\n",
       "      <th>...</th>\n",
       "      <td>...</td>\n",
       "      <td>...</td>\n",
       "      <td>...</td>\n",
       "      <td>...</td>\n",
       "    </tr>\n",
       "    <tr>\n",
       "      <th>4995</th>\n",
       "      <td>4995</td>\n",
       "      <td>일반 대화</td>\n",
       "      <td>아파트에 요새는 별개 다 있더라\\n 키키 새 아파트 조아 짱!\\n 좋은 아파트 살면...</td>\n",
       "      <td>[아파트, 요새, 별개, 다, 있, 키, 키, 새, 아파트, 조아, 짱, 좋, 아파...</td>\n",
       "    </tr>\n",
       "    <tr>\n",
       "      <th>4996</th>\n",
       "      <td>4996</td>\n",
       "      <td>일반 대화</td>\n",
       "      <td>아니 가을옷 개시를 못해\\n 맞아\\n 아직도 반팔ㅋㅌㅌ키키 ㅠ\\n 조끼도 사치스러운...</td>\n",
       "      <td>[가을, 옷, 개시, 못, 맞, 아직, 반팔, 조끼, 사치, 이, 느낌, 터, 입,...</td>\n",
       "    </tr>\n",
       "    <tr>\n",
       "      <th>4997</th>\n",
       "      <td>4997</td>\n",
       "      <td>일반 대화</td>\n",
       "      <td>오늘 인생 최초로 아빠가 차로 회사 데려다 줌 완전 감사 ^^\\n 올 키키 너네 아...</td>\n",
       "      <td>[오늘, 인생, 최초, 아빠, 차, 회사, 완전, 감사, 올, 키, 네, 아버님, ...</td>\n",
       "    </tr>\n",
       "    <tr>\n",
       "      <th>4998</th>\n",
       "      <td>4998</td>\n",
       "      <td>일반 대화</td>\n",
       "      <td>처형 딸기가 너무 맛있어요\\n 그래 시골 내려와서 무슨 일할까 하다 딸기 재배해 본...</td>\n",
       "      <td>[처형, 딸기, 너무, 맛있, 시골, 무슨, 일, 하, 딸기, 재배, 딸기, 팔, ...</td>\n",
       "    </tr>\n",
       "    <tr>\n",
       "      <th>4999</th>\n",
       "      <td>4999</td>\n",
       "      <td>일반 대화</td>\n",
       "      <td>우리 동네 단점 비행기가 많다\\n 키키 아 그렇겠네 공군 비행기도 많이 뜨니깐? 키...</td>\n",
       "      <td>[동네, 단점, 비행기, 많, 키, 그렇, 공군, 비행기, 많이, 뜨, 키키, 공군...</td>\n",
       "    </tr>\n",
       "  </tbody>\n",
       "</table>\n",
       "<p>5000 rows × 4 columns</p>\n",
       "</div>"
      ],
      "text/plain": [
       "       idx      class                                       conversation  \\\n",
       "0        0      협박 대화  지금 너 스스로를 죽여달라고 애원하는 것인가?\\n 아닙니다. 죄송합니다.\\n 죽을 ...   \n",
       "1        1      협박 대화  길동경찰서입니다.\\n9시 40분 마트에 폭발물을 설치할거다.\\n네?\\n똑바로 들어 ...   \n",
       "2        2  기타 괴롭힘 대화  너 되게 귀여운거 알지? 나보다 작은 남자는 첨봤어.\\n그만해. 니들 놀리는거 재미...   \n",
       "3        3      갈취 대화  어이 거기\\n예??\\n너 말이야 너. 이리 오라고\\n무슨 일.\\n너 옷 좋아보인다?...   \n",
       "4        4      갈취 대화  저기요 혹시 날이 너무 뜨겁잖아요? 저희 회사에서 이 선크림 파는데 한 번 손등에 ...   \n",
       "...    ...        ...                                                ...   \n",
       "4995  4995      일반 대화  아파트에 요새는 별개 다 있더라\\n 키키 새 아파트 조아 짱!\\n 좋은 아파트 살면...   \n",
       "4996  4996      일반 대화  아니 가을옷 개시를 못해\\n 맞아\\n 아직도 반팔ㅋㅌㅌ키키 ㅠ\\n 조끼도 사치스러운...   \n",
       "4997  4997      일반 대화  오늘 인생 최초로 아빠가 차로 회사 데려다 줌 완전 감사 ^^\\n 올 키키 너네 아...   \n",
       "4998  4998      일반 대화  처형 딸기가 너무 맛있어요\\n 그래 시골 내려와서 무슨 일할까 하다 딸기 재배해 본...   \n",
       "4999  4999      일반 대화  우리 동네 단점 비행기가 많다\\n 키키 아 그렇겠네 공군 비행기도 많이 뜨니깐? 키...   \n",
       "\n",
       "                                preprocess_conversation  \n",
       "0     [지금, 스스로, 애원, 하, 것, 죽, 거, 혼자, 죽, 사건, 휘말리, 진짜, ...  \n",
       "1     [길동, 경찰서, 마트, 폭발물, 설치, 거, 똑바로, 들, 한, 더, 얘기, 장난...  \n",
       "2     [되게, 거, 알, 작, 남자, 첨, 그만, 들, 놀리, 거, 재미없, 지영, 키,...  \n",
       "3     [말, 이리, 오, 무슨, 일, 옷, 좋, 돈, 좀, 있, 돈, 없, 나오, 죽, ...  \n",
       "4     [혹시, 날, 너무, 뜨겁, 회사, 이, 선크림, 파, 한, 손등, 진짜, 안, 선...  \n",
       "...                                                 ...  \n",
       "4995  [아파트, 요새, 별개, 다, 있, 키, 키, 새, 아파트, 조아, 짱, 좋, 아파...  \n",
       "4996  [가을, 옷, 개시, 못, 맞, 아직, 반팔, 조끼, 사치, 이, 느낌, 터, 입,...  \n",
       "4997  [오늘, 인생, 최초, 아빠, 차, 회사, 완전, 감사, 올, 키, 네, 아버님, ...  \n",
       "4998  [처형, 딸기, 너무, 맛있, 시골, 무슨, 일, 하, 딸기, 재배, 딸기, 팔, ...  \n",
       "4999  [동네, 단점, 비행기, 많, 키, 그렇, 공군, 비행기, 많이, 뜨, 키키, 공군...  \n",
       "\n",
       "[5000 rows x 4 columns]"
      ]
     },
     "execution_count": 43,
     "metadata": {},
     "output_type": "execute_result"
    }
   ],
   "source": [
    "df.head(5000)"
   ]
  },
  {
   "cell_type": "code",
   "execution_count": 10,
   "id": "f6609c88",
   "metadata": {},
   "outputs": [],
   "source": [
    "# 레이블 인코딩\n",
    "label_mapping = {\n",
    "    '협박 대화': 0,\n",
    "    '기타 괴롭힘 대화': 1,\n",
    "    '갈취 대화': 2,\n",
    "    '직장 내 괴롭힘 대화': 3,\n",
    "    '일반 대화' : 4\n",
    "}\n",
    "df['class'] = df['class'].map(label_mapping)\n"
   ]
  },
  {
   "cell_type": "code",
   "execution_count": 11,
   "id": "b282248a",
   "metadata": {},
   "outputs": [],
   "source": [
    "# 토크나이저 생성\n",
    "tokenizer = Tokenizer()\n",
    "tokenizer.fit_on_texts(df['preprocess_conversation'])\n",
    "\n",
    "# 시퀀스 인코딩\n",
    "sequences = tokenizer.texts_to_sequences(df['preprocess_conversation'])"
   ]
  },
  {
   "cell_type": "code",
   "execution_count": 12,
   "id": "707150ff",
   "metadata": {},
   "outputs": [
    {
     "data": {
      "image/png": "[encoded data removed]",
      "text/plain": [
       "<Figure size 576x432 with 1 Axes>"
      ]
     },
     "metadata": {
      "needs_background": "light"
     },
     "output_type": "display_data"
    }
   ],
   "source": [
    "sequence_lengths = [len(seq) for seq in sequences]\n",
    "\n",
    "plt.figure(figsize=(8, 6))\n",
    "plt.boxplot(sequence_lengths, vert=False)\n",
    "plt.title('Boxplot of Sequence Lengths')\n",
    "plt.xlabel('Sequence Length')\n",
    "plt.show()"
   ]
  },
  {
   "cell_type": "code",
   "execution_count": 13,
   "id": "e0df9f36",
   "metadata": {},
   "outputs": [],
   "source": [
    "# 최대 시퀀스 길이 결정 (% 로 결정)\n",
    "max_seq_len = int(np.percentile([len(seq) for seq in sequences], 99)) "
   ]
  },
  {
   "cell_type": "code",
   "execution_count": 14,
   "id": "12c082da",
   "metadata": {},
   "outputs": [],
   "source": [
    "# 패딩 적용\n",
    "X = pad_sequences(sequences, maxlen=max_seq_len, padding='post')\n",
    "\n",
    "# 레이블 준비\n",
    "y = df['class'].values"
   ]
  },
  {
   "cell_type": "code",
   "execution_count": 15,
   "id": "5e2f8200",
   "metadata": {},
   "outputs": [
    {
     "name": "stdout",
     "output_type": "stream",
     "text": [
      "학습 데이터 크기: (11160, 470)\n",
      "검증 데이터 크기: (2790, 470)\n"
     ]
    }
   ],
   "source": [
    "from sklearn.model_selection import train_test_split\n",
    "\n",
    "# 학습 데이터와 검증 데이터를 8:2로 나눔 (클래스 비율을 유지)\n",
    "X_train, X_val, y_train, y_val = train_test_split(X, y, test_size=0.2, random_state=100, stratify=y)\n",
    "\n",
    "# 결과 확인\n",
    "print(f\"학습 데이터 크기: {X_train.shape}\")\n",
    "print(f\"검증 데이터 크기: {X_val.shape}\")"
   ]
  },
  {
   "cell_type": "markdown",
   "id": "b75114bc",
   "metadata": {},
   "source": [
    "# 03. 모델 구조 (transformer encoder = Base model)"
   ]
  },
  {
   "cell_type": "code",
   "execution_count": 16,
   "id": "04549150",
   "metadata": {},
   "outputs": [],
   "source": [
    "# 포지셔널 인코딩 레이어\n",
    "class PositionalEncoding(tf.keras.layers.Layer):\n",
    "    def __init__(self, position, d_model, **kwargs):\n",
    "        super(PositionalEncoding, self).__init__(**kwargs)\n",
    "        self.position = position\n",
    "        self.d_model = d_model\n",
    "        self.pos_encoding = self.positional_encoding(position, d_model)\n",
    "\n",
    "    def get_angles(self, position, i, d_model):\n",
    "        # 각도 계산\n",
    "        angles = 1 / np.power(10000, (2 * (i // 2)) / np.float32(d_model))\n",
    "        return position * angles\n",
    "\n",
    "    def positional_encoding(self, position, d_model):\n",
    "        # 포지셔널 인코딩 계산\n",
    "        angle_rads = self.get_angles(\n",
    "            np.arange(position)[:, np.newaxis],\n",
    "            np.arange(d_model)[np.newaxis, :],\n",
    "            d_model)\n",
    "\n",
    "        # 배열의 짝수 인덱스에는 sin 함수 적용\n",
    "        angle_rads[:, 0::2] = np.sin(angle_rads[:, 0::2])\n",
    "\n",
    "        # 배열의 홀수 인덱스에는 cos 함수 적용\n",
    "        angle_rads[:, 1::2] = np.cos(angle_rads[:, 1::2])\n",
    "\n",
    "        pos_encoding = angle_rads[np.newaxis, ...]\n",
    "\n",
    "        return tf.cast(pos_encoding, dtype=tf.float32)\n",
    "\n",
    "    def call(self, inputs):\n",
    "        return inputs + self.pos_encoding[:, :tf.shape(inputs)[1], :]\n",
    "\n",
    "    def get_config(self):\n",
    "        config = super(PositionalEncoding, self).get_config()\n",
    "        config.update({\n",
    "            'position': self.position,\n",
    "            'd_model': self.d_model\n",
    "        })\n",
    "        return config"
   ]
  },
  {
   "cell_type": "code",
   "execution_count": 17,
   "id": "0f15a68d",
   "metadata": {},
   "outputs": [],
   "source": [
    "# 패딩 마스크 생성 함수\n",
    "def create_padding_mask(seq):\n",
    "    seq = tf.cast(tf.math.equal(seq, 0), tf.float32)\n",
    "    # (batch_size, 1, 1, seq_len)\n",
    "    return seq[:, tf.newaxis, tf.newaxis, :]"
   ]
  },
  {
   "cell_type": "code",
   "execution_count": 18,
   "id": "b27f2956",
   "metadata": {},
   "outputs": [],
   "source": [
    "def scaled_dot_product_attention(q, k, v, mask):\n",
    "    \"\"\" 스케일드 닷 프로덕트 어텐션 \"\"\"\n",
    "    matmul_qk = tf.matmul(q, k, transpose_b=True)  # Q와 K의 행렬 곱\n",
    "\n",
    "    # 스케일링\n",
    "    dk = tf.cast(tf.shape(k)[-1], tf.float32)\n",
    "    scaled_attention_logits = matmul_qk / tf.math.sqrt(dk)\n",
    "\n",
    "    # 마스크가 주어졌을 경우 -inf 적용\n",
    "    if mask is not None:\n",
    "        scaled_attention_logits += (mask * -1e9)\n",
    "\n",
    "    # softmax를 통해 attention weights 계산\n",
    "    attention_weights = tf.nn.softmax(scaled_attention_logits, axis=-1)\n",
    "\n",
    "    # attention weights와 V의 행렬곱\n",
    "    output = tf.matmul(attention_weights, v)\n",
    "\n",
    "    return output"
   ]
  },
  {
   "cell_type": "code",
   "execution_count": 19,
   "id": "5fea9932",
   "metadata": {},
   "outputs": [],
   "source": [
    "class MultiHeadAttention(tf.keras.layers.Layer):\n",
    "    def __init__(self, d_model, num_heads, **kwargs):\n",
    "        super(MultiHeadAttention, self).__init__(**kwargs)\n",
    "        self.num_heads = num_heads\n",
    "        self.d_model = d_model\n",
    "\n",
    "        assert d_model % num_heads == 0\n",
    "\n",
    "        self.depth = d_model // num_heads\n",
    "\n",
    "        # 가중치 행렬 정의\n",
    "        self.wq = tf.keras.layers.Dense(d_model)\n",
    "        self.wk = tf.keras.layers.Dense(d_model)\n",
    "        self.wv = tf.keras.layers.Dense(d_model)\n",
    "\n",
    "        self.dense = tf.keras.layers.Dense(d_model)\n",
    "\n",
    "    def split_heads(self, x, batch_size):\n",
    "        \"\"\" 헤드 분할: [batch_size, seq_len, d_model] -> [batch_size, num_heads, seq_len, depth] \"\"\"\n",
    "        x = tf.reshape(x, (batch_size, -1, self.num_heads, self.depth))\n",
    "        return tf.transpose(x, perm=[0, 2, 1, 3])\n",
    "\n",
    "    def call(self, v, k, q, mask=None):\n",
    "        batch_size = tf.shape(q)[0]\n",
    "\n",
    "        # 선형 변환\n",
    "        q = self.wq(q)\n",
    "        k = self.wk(k)\n",
    "        v = self.wv(v)\n",
    "\n",
    "        # 헤드 분할\n",
    "        q = self.split_heads(q, batch_size)\n",
    "        k = self.split_heads(k, batch_size)\n",
    "        v = self.split_heads(v, batch_size)\n",
    "\n",
    "        # 스케일드 닷 프로덕트 어텐션\n",
    "        scaled_attention = scaled_dot_product_attention(q, k, v, mask)\n",
    "\n",
    "        # 헤드 병합\n",
    "        scaled_attention = tf.transpose(scaled_attention, perm=[0, 2, 1, 3])\n",
    "        concat_attention = tf.reshape(scaled_attention, (batch_size, -1, self.d_model))\n",
    "\n",
    "        # 최종 선형 변환\n",
    "        output = self.dense(concat_attention)\n",
    "\n",
    "        return output\n",
    "\n",
    "    def get_config(self):\n",
    "        # 직렬화 지원을 위한 설정 저장\n",
    "        config = super(MultiHeadAttention, self).get_config()\n",
    "        config.update({\n",
    "            'd_model': self.d_model,\n",
    "            'num_heads': self.num_heads,\n",
    "        })\n",
    "        return config\n",
    "\n",
    "    @classmethod\n",
    "    def from_config(cls, config):\n",
    "        return cls(**config)\n",
    "\n",
    "class PositionalEncoding(tf.keras.layers.Layer):\n",
    "    def __init__(self, position, d_model, **kwargs):\n",
    "        super(PositionalEncoding, self).__init__(**kwargs)\n",
    "        self.position = position\n",
    "        self.d_model = d_model\n",
    "        self.pos_encoding = self.positional_encoding(position, d_model)\n",
    "\n",
    "    def get_angles(self, position, i, d_model):\n",
    "        # 각도 계산\n",
    "        angles = 1 / np.power(10000, (2 * (i // 2)) / np.float32(d_model))\n",
    "        return position * angles\n",
    "\n",
    "    def positional_encoding(self, position, d_model):\n",
    "        # 포지셔널 인코딩 계산\n",
    "        angle_rads = self.get_angles(\n",
    "            np.arange(position)[:, np.newaxis],\n",
    "            np.arange(d_model)[np.newaxis, :],\n",
    "            d_model)\n",
    "\n",
    "        # 배열의 짝수 인덱스에는 sin 함수 적용\n",
    "        angle_rads[:, 0::2] = np.sin(angle_rads[:, 0::2])\n",
    "\n",
    "        # 배열의 홀수 인덱스에는 cos 함수 적용\n",
    "        angle_rads[:, 1::2] = np.cos(angle_rads[:, 1::2])\n",
    "\n",
    "        pos_encoding = angle_rads[np.newaxis, ...]\n",
    "\n",
    "        return tf.cast(pos_encoding, dtype=tf.float32)\n",
    "\n",
    "    def call(self, inputs):\n",
    "        return inputs + self.pos_encoding[:, :tf.shape(inputs)[1], :]\n",
    "\n",
    "    def get_config(self):\n",
    "        config = super(PositionalEncoding, self).get_config()\n",
    "        config.update({\n",
    "            'position': self.position,\n",
    "            'd_model': self.d_model\n",
    "        })\n",
    "        return config\n",
    "\n",
    "    @classmethod\n",
    "    def from_config(cls, config):\n",
    "        return cls(**config)"
   ]
  },
  {
   "cell_type": "code",
   "execution_count": 20,
   "id": "534b2a15",
   "metadata": {},
   "outputs": [],
   "source": [
    "# 인코더 레이어\n",
    "def encoder_layer(units, d_model, num_heads, dropout_rate, name=\"encoder_layer\"):\n",
    "    inputs = tf.keras.Input(shape=(None, d_model), name=\"inputs\")\n",
    "    padding_mask = tf.keras.Input(shape=(1, 1, None), name=\"padding_mask\")\n",
    "\n",
    "    # 멀티 헤드 어텐션\n",
    "    attention = MultiHeadAttention(d_model, num_heads)(inputs, inputs, inputs, padding_mask)\n",
    "    attention = tf.keras.layers.Dropout(dropout_rate)(attention)\n",
    "    attention = tf.keras.layers.LayerNormalization(epsilon=1e-6)(inputs + attention)\n",
    "\n",
    "    # 포지션 와이즈 피드 포워드 네트워크\n",
    "    outputs = tf.keras.layers.Dense(units, activation='relu')(attention)\n",
    "    outputs = tf.keras.layers.Dense(d_model)(outputs)\n",
    "    outputs = tf.keras.layers.Dropout(dropout_rate)(outputs)\n",
    "    outputs = tf.keras.layers.LayerNormalization(epsilon=1e-6)(attention + outputs)\n",
    "\n",
    "    return tf.keras.Model(inputs=[inputs, padding_mask], outputs=outputs, name=name)"
   ]
  },
  {
   "cell_type": "code",
   "execution_count": 21,
   "id": "ccedde29",
   "metadata": {},
   "outputs": [],
   "source": [
    "# 인코더 전체\n",
    "def encoder(vocab_size,\n",
    "            num_layers,\n",
    "            units,\n",
    "            d_model,\n",
    "            num_heads,\n",
    "            dropout_rate,\n",
    "            maximum_position_encoding,\n",
    "            name=\"encoder\"):\n",
    "    inputs = tf.keras.Input(shape=(None,), name=\"inputs\")\n",
    "    padding_mask = tf.keras.Input(shape=(1, 1, None), name=\"padding_mask\")\n",
    "\n",
    "    # 임베딩 및 포지셔널 인코딩\n",
    "    embeddings = tf.keras.layers.Embedding(vocab_size, d_model)(inputs)\n",
    "    embeddings *= tf.math.sqrt(tf.cast(d_model, tf.float32))\n",
    "    embeddings = PositionalEncoding(maximum_position_encoding, d_model)(embeddings)\n",
    "\n",
    "    outputs = tf.keras.layers.Dropout(dropout_rate)(embeddings)\n",
    "\n",
    "    # 인코더 레이어 쌓기\n",
    "    for i in range(num_layers):\n",
    "        outputs = encoder_layer(units=units,\n",
    "                                d_model=d_model,\n",
    "                                num_heads=num_heads,\n",
    "                                dropout_rate=dropout_rate,\n",
    "                                name=f\"encoder_layer_{i}\",\n",
    "                                )(inputs=[outputs, padding_mask])\n",
    "\n",
    "    return tf.keras.Model(inputs=[inputs, padding_mask], outputs=outputs, name=name)"
   ]
  },
  {
   "cell_type": "markdown",
   "id": "29b266df",
   "metadata": {},
   "source": [
    "# 04. 모델 구조 (transformer encoder = Base model)"
   ]
  },
  {
   "cell_type": "code",
   "execution_count": 22,
   "id": "e37a286f",
   "metadata": {},
   "outputs": [],
   "source": [
    "# 인코더 모델 생성\n",
    "def build_encoder_model():\n",
    "    inputs = tf.keras.Input(shape=(max_seq_len,), name=\"inputs\")\n",
    "    padding_mask = tf.keras.layers.Lambda(create_padding_mask, output_shape=(1, 1, None), name='padding_mask')(inputs)\n",
    "\n",
    "    # 인코더 출력\n",
    "    encoder_outputs = encoder(\n",
    "        vocab_size=vocab_size,\n",
    "        num_layers=num_layers,\n",
    "        units=units,\n",
    "        d_model=d_model,\n",
    "        num_heads=num_heads,\n",
    "        dropout_rate=dropout_rate,\n",
    "        maximum_position_encoding=max_seq_len,\n",
    "        name=\"encoder\"\n",
    "    )(inputs=[inputs, padding_mask])\n",
    "\n",
    "    # 글로벌 평균 풀링\n",
    "    pooled_output = tf.keras.layers.GlobalAveragePooling1D()(encoder_outputs)\n",
    "\n",
    "    # 출력 레이어 (다중 분류)\n",
    "    outputs = tf.keras.layers.Dense(units=num_classes, activation='softmax', name='outputs')(pooled_output)\n",
    "\n",
    "    # 모델 정의\n",
    "    model = tf.keras.Model(inputs=inputs, outputs=outputs, name=\"transformer_classifier\")\n",
    "\n",
    "    return model"
   ]
  },
  {
   "cell_type": "code",
   "execution_count": 23,
   "id": "4eb23f70",
   "metadata": {},
   "outputs": [],
   "source": [
    "# 하이퍼파라미터 설정\n",
    "vocab_size = len(tokenizer.word_index) + 1\n",
    "num_layers = 2\n",
    "d_model = 256\n",
    "num_heads = 4\n",
    "units = 512\n",
    "dropout_rate = 0.4\n",
    "num_classes = 5  # 클래스 수"
   ]
  },
  {
   "cell_type": "code",
   "execution_count": 24,
   "id": "d47e4bb2",
   "metadata": {},
   "outputs": [
    {
     "name": "stdout",
     "output_type": "stream",
     "text": [
      "Model: \"transformer_classifier\"\n",
      "__________________________________________________________________________________________________\n",
      "Layer (type)                    Output Shape         Param #     Connected to                     \n",
      "==================================================================================================\n",
      "inputs (InputLayer)             [(None, 470)]        0                                            \n",
      "__________________________________________________________________________________________________\n",
      "padding_mask (Lambda)           (None, 1, 1, 470)    0           inputs[0][0]                     \n",
      "__________________________________________________________________________________________________\n",
      "encoder (Functional)            (None, None, 256)    8022528     inputs[0][0]                     \n",
      "                                                                 padding_mask[0][0]               \n",
      "__________________________________________________________________________________________________\n",
      "global_average_pooling1d (Globa (None, 256)          0           encoder[0][0]                    \n",
      "__________________________________________________________________________________________________\n",
      "outputs (Dense)                 (None, 5)            1285        global_average_pooling1d[0][0]   \n",
      "==================================================================================================\n",
      "Total params: 8,023,813\n",
      "Trainable params: 8,023,813\n",
      "Non-trainable params: 0\n",
      "__________________________________________________________________________________________________\n"
     ]
    }
   ],
   "source": [
    "# 모델 생성\n",
    "model = build_encoder_model()\n",
    "\n",
    "# 모델 컴파일\n",
    "model.compile(optimizer='adam',\n",
    "              loss='sparse_categorical_crossentropy',\n",
    "              metrics=['accuracy'])\n",
    "\n",
    "# 모델 요약\n",
    "model.summary()"
   ]
  },
  {
   "cell_type": "markdown",
   "id": "467634fb",
   "metadata": {},
   "source": [
    "# 05. 모델 학습 (transformer encoder = Base model)"
   ]
  },
  {
   "cell_type": "code",
   "execution_count": 25,
   "id": "044f738d",
   "metadata": {},
   "outputs": [
    {
     "name": "stdout",
     "output_type": "stream",
     "text": [
      "Epoch 1/20\n",
      "349/349 [==============================] - 40s 101ms/step - loss: 0.3535 - accuracy: 0.8657 - val_loss: 0.2386 - val_accuracy: 0.9312\n",
      "\n",
      "Epoch 00001: val_loss improved from inf to 0.23855, saving model to best_model\n"
     ]
    },
    {
     "name": "stderr",
     "output_type": "stream",
     "text": [
      "WARNING:absl:Found untraced functions such as dense_layer_call_fn, dense_layer_call_and_return_conditional_losses, dense_1_layer_call_fn, dense_1_layer_call_and_return_conditional_losses, dense_2_layer_call_fn while saving (showing 5 of 40). These functions will not be directly callable after loading.\n"
     ]
    },
    {
     "name": "stdout",
     "output_type": "stream",
     "text": [
      "INFO:tensorflow:Assets written to: best_model/assets\n"
     ]
    },
    {
     "name": "stderr",
     "output_type": "stream",
     "text": [
      "INFO:tensorflow:Assets written to: best_model/assets\n"
     ]
    },
    {
     "name": "stdout",
     "output_type": "stream",
     "text": [
      "Epoch 2/20\n",
      "349/349 [==============================] - 36s 104ms/step - loss: 0.1705 - accuracy: 0.9418 - val_loss: 0.2186 - val_accuracy: 0.9423\n",
      "\n",
      "Epoch 00002: val_loss improved from 0.23855 to 0.21858, saving model to best_model\n"
     ]
    },
    {
     "name": "stderr",
     "output_type": "stream",
     "text": [
      "WARNING:absl:Found untraced functions such as dense_layer_call_fn, dense_layer_call_and_return_conditional_losses, dense_1_layer_call_fn, dense_1_layer_call_and_return_conditional_losses, dense_2_layer_call_fn while saving (showing 5 of 40). These functions will not be directly callable after loading.\n"
     ]
    },
    {
     "name": "stdout",
     "output_type": "stream",
     "text": [
      "INFO:tensorflow:Assets written to: best_model/assets\n"
     ]
    },
    {
     "name": "stderr",
     "output_type": "stream",
     "text": [
      "INFO:tensorflow:Assets written to: best_model/assets\n"
     ]
    },
    {
     "name": "stdout",
     "output_type": "stream",
     "text": [
      "Epoch 3/20\n",
      "349/349 [==============================] - 37s 107ms/step - loss: 0.1331 - accuracy: 0.9554 - val_loss: 0.2185 - val_accuracy: 0.9308\n",
      "\n",
      "Epoch 00003: val_loss improved from 0.21858 to 0.21846, saving model to best_model\n"
     ]
    },
    {
     "name": "stderr",
     "output_type": "stream",
     "text": [
      "WARNING:absl:Found untraced functions such as dense_layer_call_fn, dense_layer_call_and_return_conditional_losses, dense_1_layer_call_fn, dense_1_layer_call_and_return_conditional_losses, dense_2_layer_call_fn while saving (showing 5 of 40). These functions will not be directly callable after loading.\n"
     ]
    },
    {
     "name": "stdout",
     "output_type": "stream",
     "text": [
      "INFO:tensorflow:Assets written to: best_model/assets\n"
     ]
    },
    {
     "name": "stderr",
     "output_type": "stream",
     "text": [
      "INFO:tensorflow:Assets written to: best_model/assets\n"
     ]
    },
    {
     "name": "stdout",
     "output_type": "stream",
     "text": [
      "Epoch 4/20\n",
      "349/349 [==============================] - 37s 105ms/step - loss: 0.1233 - accuracy: 0.9595 - val_loss: 0.1972 - val_accuracy: 0.9419\n",
      "\n",
      "Epoch 00004: val_loss improved from 0.21846 to 0.19721, saving model to best_model\n"
     ]
    },
    {
     "name": "stderr",
     "output_type": "stream",
     "text": [
      "WARNING:absl:Found untraced functions such as dense_layer_call_fn, dense_layer_call_and_return_conditional_losses, dense_1_layer_call_fn, dense_1_layer_call_and_return_conditional_losses, dense_2_layer_call_fn while saving (showing 5 of 40). These functions will not be directly callable after loading.\n"
     ]
    },
    {
     "name": "stdout",
     "output_type": "stream",
     "text": [
      "INFO:tensorflow:Assets written to: best_model/assets\n"
     ]
    },
    {
     "name": "stderr",
     "output_type": "stream",
     "text": [
      "INFO:tensorflow:Assets written to: best_model/assets\n"
     ]
    },
    {
     "name": "stdout",
     "output_type": "stream",
     "text": [
      "Epoch 5/20\n",
      "349/349 [==============================] - 37s 106ms/step - loss: 0.1054 - accuracy: 0.9660 - val_loss: 0.1861 - val_accuracy: 0.9430\n",
      "\n",
      "Epoch 00005: val_loss improved from 0.19721 to 0.18612, saving model to best_model\n"
     ]
    },
    {
     "name": "stderr",
     "output_type": "stream",
     "text": [
      "WARNING:absl:Found untraced functions such as dense_layer_call_fn, dense_layer_call_and_return_conditional_losses, dense_1_layer_call_fn, dense_1_layer_call_and_return_conditional_losses, dense_2_layer_call_fn while saving (showing 5 of 40). These functions will not be directly callable after loading.\n"
     ]
    },
    {
     "name": "stdout",
     "output_type": "stream",
     "text": [
      "INFO:tensorflow:Assets written to: best_model/assets\n"
     ]
    },
    {
     "name": "stderr",
     "output_type": "stream",
     "text": [
      "INFO:tensorflow:Assets written to: best_model/assets\n"
     ]
    },
    {
     "name": "stdout",
     "output_type": "stream",
     "text": [
      "Epoch 6/20\n",
      "349/349 [==============================] - 37s 106ms/step - loss: 0.0892 - accuracy: 0.9698 - val_loss: 0.2285 - val_accuracy: 0.9462\n",
      "\n",
      "Epoch 00006: val_loss did not improve from 0.18612\n",
      "Epoch 7/20\n",
      "349/349 [==============================] - 37s 106ms/step - loss: 0.0761 - accuracy: 0.9744 - val_loss: 0.2294 - val_accuracy: 0.9466\n",
      "\n",
      "Epoch 00007: val_loss did not improve from 0.18612\n"
     ]
    }
   ],
   "source": [
    "# 콜백 설정\n",
    "early_stopping = EarlyStopping(monitor='val_loss', patience=2, restore_best_weights=True)\n",
    "\n",
    "model_checkpoint = ModelCheckpoint(\n",
    "    filepath='best_model', \n",
    "    monitor='val_loss',\n",
    "    save_best_only=True,\n",
    "    mode='min',\n",
    "    verbose=1\n",
    ")\n",
    "# 모델 학습\n",
    "history = model.fit(\n",
    "    X_train,\n",
    "    y_train,\n",
    "    validation_data=(X_val, y_val),\n",
    "    epochs=20,\n",
    "    batch_size=32,\n",
    "    callbacks=[early_stopping, model_checkpoint]\n",
    ")"
   ]
  },
  {
   "cell_type": "code",
   "execution_count": 26,
   "id": "3244d869",
   "metadata": {},
   "outputs": [
    {
     "data": {
      "image/png": "[encoded data removed]",
      "text/plain": [
       "<Figure size 864x288 with 2 Axes>"
      ]
     },
     "metadata": {
      "needs_background": "light"
     },
     "output_type": "display_data"
    }
   ],
   "source": [
    "import matplotlib.pyplot as plt\n",
    "\n",
    "# 손실 시각화\n",
    "plt.figure(figsize=(12, 4))\n",
    "plt.subplot(1, 2, 1)\n",
    "plt.plot(history.history['loss'], label='Train Loss')\n",
    "plt.plot(history.history['val_loss'], label='Val Loss')\n",
    "plt.title('Loss')\n",
    "plt.xlabel('Epoch')\n",
    "plt.ylabel('Loss')\n",
    "plt.legend()\n",
    "\n",
    "# 정확도 시각화\n",
    "plt.subplot(1, 2, 2)\n",
    "plt.plot(history.history['accuracy'], label='Train Acc')\n",
    "plt.plot(history.history['val_accuracy'], label='Val Acc')\n",
    "plt.title('Accuracy')\n",
    "plt.xlabel('Epoch')\n",
    "plt.ylabel('Accuracy')\n",
    "plt.legend()\n",
    "\n",
    "plt.show()"
   ]
  },
  {
   "cell_type": "code",
   "execution_count": 27,
   "id": "b6fed5a1",
   "metadata": {},
   "outputs": [
    {
     "data": {
      "text/html": [
       "<div>\n",
       "<style scoped>\n",
       "    .dataframe tbody tr th:only-of-type {\n",
       "        vertical-align: middle;\n",
       "    }\n",
       "\n",
       "    .dataframe tbody tr th {\n",
       "        vertical-align: top;\n",
       "    }\n",
       "\n",
       "    .dataframe thead th {\n",
       "        text-align: right;\n",
       "    }\n",
       "</style>\n",
       "<table border=\"1\" class=\"dataframe\">\n",
       "  <thead>\n",
       "    <tr style=\"text-align: right;\">\n",
       "      <th></th>\n",
       "      <th>precision</th>\n",
       "      <th>recall</th>\n",
       "      <th>f1-score</th>\n",
       "      <th>support</th>\n",
       "    </tr>\n",
       "  </thead>\n",
       "  <tbody>\n",
       "    <tr>\n",
       "      <th>협박 대화</th>\n",
       "      <td>0.8480</td>\n",
       "      <td>0.5922</td>\n",
       "      <td>0.6974</td>\n",
       "      <td>179.000</td>\n",
       "    </tr>\n",
       "    <tr>\n",
       "      <th>기타 괴롭힘 대화</th>\n",
       "      <td>0.7251</td>\n",
       "      <td>0.8311</td>\n",
       "      <td>0.7745</td>\n",
       "      <td>219.000</td>\n",
       "    </tr>\n",
       "    <tr>\n",
       "      <th>갈취 대화</th>\n",
       "      <td>0.7615</td>\n",
       "      <td>0.8469</td>\n",
       "      <td>0.8019</td>\n",
       "      <td>196.000</td>\n",
       "    </tr>\n",
       "    <tr>\n",
       "      <th>직장 내 괴롭힘 대화</th>\n",
       "      <td>0.9031</td>\n",
       "      <td>0.9031</td>\n",
       "      <td>0.9031</td>\n",
       "      <td>196.000</td>\n",
       "    </tr>\n",
       "    <tr>\n",
       "      <th>일반 대화</th>\n",
       "      <td>1.0000</td>\n",
       "      <td>1.0000</td>\n",
       "      <td>1.0000</td>\n",
       "      <td>2000.000</td>\n",
       "    </tr>\n",
       "    <tr>\n",
       "      <th>accuracy</th>\n",
       "      <td>0.9430</td>\n",
       "      <td>0.9430</td>\n",
       "      <td>0.9430</td>\n",
       "      <td>0.943</td>\n",
       "    </tr>\n",
       "    <tr>\n",
       "      <th>macro avg</th>\n",
       "      <td>0.8475</td>\n",
       "      <td>0.8346</td>\n",
       "      <td>0.8354</td>\n",
       "      <td>2790.000</td>\n",
       "    </tr>\n",
       "    <tr>\n",
       "      <th>weighted avg</th>\n",
       "      <td>0.9451</td>\n",
       "      <td>0.9430</td>\n",
       "      <td>0.9422</td>\n",
       "      <td>2790.000</td>\n",
       "    </tr>\n",
       "  </tbody>\n",
       "</table>\n",
       "</div>"
      ],
      "text/plain": [
       "              precision  recall  f1-score   support\n",
       "협박 대화            0.8480  0.5922    0.6974   179.000\n",
       "기타 괴롭힘 대화        0.7251  0.8311    0.7745   219.000\n",
       "갈취 대화            0.7615  0.8469    0.8019   196.000\n",
       "직장 내 괴롭힘 대화      0.9031  0.9031    0.9031   196.000\n",
       "일반 대화            1.0000  1.0000    1.0000  2000.000\n",
       "accuracy         0.9430  0.9430    0.9430     0.943\n",
       "macro avg        0.8475  0.8346    0.8354  2790.000\n",
       "weighted avg     0.9451  0.9430    0.9422  2790.000"
      ]
     },
     "execution_count": 27,
     "metadata": {},
     "output_type": "execute_result"
    }
   ],
   "source": [
    "from sklearn.metrics import classification_report\n",
    "from keras.models import load_model\n",
    "\n",
    "# PositionalEncoding 클래스를 포함한 custom_objects 정의\n",
    "custom_objects = {\n",
    "    'MultiHeadAttention': MultiHeadAttention,\n",
    "    'PositionalEncoding': PositionalEncoding\n",
    "}\n",
    "\n",
    "# SavedModel 형식으로 저장된 모델 불러오기\n",
    "best_model = load_model('best_model', custom_objects=custom_objects)\n",
    "\n",
    "# 검증 데이터에 대한 예측\n",
    "y_pred = best_model.predict(X_val)\n",
    "y_pred_classes = np.argmax(y_pred, axis=1)\n",
    "\n",
    "# 분류 보고서를 딕셔너리 형태로 얻기\n",
    "report_dict = classification_report(y_val, y_pred_classes, target_names=label_mapping.keys(), output_dict=True)\n",
    "\n",
    "# 딕셔너리를 DataFrame으로 변환\n",
    "report_df = pd.DataFrame(report_dict).transpose()\n",
    "\n",
    "# 필요한 컬럼만 선택하고 순서 지정\n",
    "report_df = report_df[['precision', 'recall', 'f1-score', 'support']]\n",
    "\n",
    "# 소수점 자릿수 설정\n",
    "report_df = report_df.round(4)\n",
    "\n",
    "# 결과 확인\n",
    "report_df"
   ]
  },
  {
   "cell_type": "code",
   "execution_count": 28,
   "id": "92131258",
   "metadata": {},
   "outputs": [],
   "source": [
    "# 1. 테스트 데이터 로드\n",
    "test_data_path = '~/aiffel/dktc/data_forder/test.csv'\n",
    "test_df = pd.read_csv(test_data_path)"
   ]
  },
  {
   "cell_type": "code",
   "execution_count": 29,
   "id": "1d04ffa0",
   "metadata": {},
   "outputs": [],
   "source": [
    "# 2. 전처리 객체 생성 및 테스트 데이터 전처리\n",
    "test_df['preprocess_conversation'] = test_df['text'].apply(preprocessor.preprocess_and_tokenize)\n",
    "test_df['processed_text'] = test_df['preprocess_conversation'].apply(lambda tokens: ' '.join(tokens))"
   ]
  },
  {
   "cell_type": "code",
   "execution_count": 30,
   "id": "f007bae2",
   "metadata": {},
   "outputs": [],
   "source": [
    "# 3. 토큰화된 테스트 데이터 생성\n",
    "tokenizer.fit_on_texts(df['preprocess_conversation'])  # 훈련 데이터를 기반으로 토크나이저 적합\n",
    "sequences_test = tokenizer.texts_to_sequences(test_df['processed_text'])\n",
    "tokenized_test_data = tf.keras.preprocessing.sequence.pad_sequences(sequences_test, maxlen=max_seq_len, padding='post')"
   ]
  },
  {
   "cell_type": "code",
   "execution_count": 31,
   "id": "ae8a4951",
   "metadata": {},
   "outputs": [],
   "source": [
    "# 5. 모델 예측 수행\n",
    "y_test_pred = best_model.predict(tokenized_test_data)\n"
   ]
  },
  {
   "cell_type": "code",
   "execution_count": 32,
   "id": "80c004b6",
   "metadata": {},
   "outputs": [],
   "source": [
    "# 6. 예측 클래스 추출 및 threshold 적용\n",
    "threshold =0.2 # 일반 대화로 분류할 확률 기준\n",
    "\n",
    "# 기존 예측 결과에서 가장 높은 확률을 가진 클래스를 선택\n",
    "y_test_pred_classes = np.argmax(y_test_pred, axis=1)"
   ]
  },
  {
   "cell_type": "code",
   "execution_count": 33,
   "id": "c504b95d",
   "metadata": {},
   "outputs": [],
   "source": [
    "# 일반 대화의 확률이 threshold 이상인 경우 강제로 일반 대화(클래스 4)로 설정\n",
    "for i in range(len(y_test_pred)):\n",
    "    general_conversation_prob = y_test_pred[i, 4]  # 일반 대화 클래스(4)의 확률\n",
    "    if general_conversation_prob >= threshold:\n",
    "        y_test_pred_classes[i] = 4  # 일반 대화로 강제 분류"
   ]
  },
  {
   "cell_type": "code",
   "execution_count": 34,
   "id": "917938ee",
   "metadata": {},
   "outputs": [],
   "source": [
    "# 7. 예측 클래스 번호를 텍스트 레이블로 변환 (label_mapping 사용)\n",
    "label_mapping = {0: '협박 대화', 1: '기타 괴롭힘 대화', 2: '갈취 대화', 3: '직장 내 괴롭힘 대화', 4: '일반 대화'}\n",
    "test_df['class'] = y_test_pred_classes\n",
    "test_df['class'] = test_df['class'].map(label_mapping)"
   ]
  },
  {
   "cell_type": "code",
   "execution_count": 35,
   "id": "d4ea1b35",
   "metadata": {},
   "outputs": [],
   "source": [
    "# 8. 제출 파일 작성\n",
    "submission = test_df[['idx', 'class']]\n",
    "submission.columns = ['file_name', 'class']\n",
    "submission.to_csv('~/aiffel/dktc/data_forder/submission.csv', index=False)"
   ]
  },
  {
   "cell_type": "code",
   "execution_count": 36,
   "id": "14d84668",
   "metadata": {},
   "outputs": [
    {
     "data": {
      "text/plain": [
       "array(['갈취 대화', '직장 내 괴롭힘 대화', '협박 대화', '기타 괴롭힘 대화'], dtype=object)"
      ]
     },
     "execution_count": 36,
     "metadata": {},
     "output_type": "execute_result"
    }
   ],
   "source": [
    "test_df['class'].unique()"
   ]
  },
  {
   "cell_type": "code",
   "execution_count": 37,
   "id": "aa9bd175",
   "metadata": {},
   "outputs": [
    {
     "data": {
      "text/plain": [
       "기타 괴롭힘 대화      170\n",
       "갈취 대화          136\n",
       "직장 내 괴롭힘 대화    124\n",
       "협박 대화           70\n",
       "Name: class, dtype: int64"
      ]
     },
     "execution_count": 37,
     "metadata": {},
     "output_type": "execute_result"
    }
   ],
   "source": [
    "test_df['class'].value_counts()"
   ]
  },
  {
   "cell_type": "code",
   "execution_count": 38,
   "id": "75f16463",
   "metadata": {},
   "outputs": [],
   "source": [
    "general_conversation_df = df[df['class'] == '일반 대화']"
   ]
  },
  {
   "cell_type": "code",
   "execution_count": 39,
   "id": "487ea214",
   "metadata": {},
   "outputs": [
    {
     "name": "stdout",
     "output_type": "stream",
     "text": [
      "Empty DataFrame\n",
      "Columns: [idx, class, conversation, preprocess_conversation]\n",
      "Index: []\n"
     ]
    }
   ],
   "source": [
    "print(general_conversation_df)"
   ]
  },
  {
   "cell_type": "code",
   "execution_count": null,
   "id": "3292b2b9",
   "metadata": {},
   "outputs": [],
   "source": []
  }
 ],
 "metadata": {
  "kernelspec": {
   "display_name": "Python 3 (ipykernel)",
   "language": "python",
   "name": "python3"
  },
  "language_info": {
   "codemirror_mode": {
    "name": "ipython",
    "version": 3
   },
   "file_extension": ".py",
   "mimetype": "text/x-python",
   "name": "python",
   "nbconvert_exporter": "python",
   "pygments_lexer": "ipython3",
   "version": "3.9.7"
  }
 },
 "nbformat": 4,
 "nbformat_minor": 5
}
