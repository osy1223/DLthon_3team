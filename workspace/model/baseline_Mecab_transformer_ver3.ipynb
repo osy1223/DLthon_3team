{
 "cells": [
  {
   "cell_type": "code",
   "execution_count": 184,
   "id": "e6e4237d",
   "metadata": {},
   "outputs": [],
   "source": [
    "import pandas as pd\n",
    "import numpy as np\n",
    "import matplotlib.pyplot as plt\n",
    "import re\n",
    "import time\n",
    "import tensorflow as tf\n",
    "\n",
    "from sklearn.model_selection import train_test_split\n",
    "from tensorflow.keras.preprocessing.sequence import pad_sequences\n",
    "from tensorflow.keras.preprocessing.text import Tokenizer\n",
    "\n",
    "from keras.callbacks import EarlyStopping, ModelCheckpoint"
   ]
  },
  {
   "cell_type": "code",
   "execution_count": 185,
   "id": "8d309ce3",
   "metadata": {},
   "outputs": [],
   "source": [
    "import tensorflow as tf\n",
    "tf.keras.backend.clear_session()"
   ]
  },
  {
   "cell_type": "code",
   "execution_count": 186,
   "id": "dcdc0733",
   "metadata": {},
   "outputs": [],
   "source": [
    "import tensorflow as tf\n",
    "\n",
    "gpus = tf.config.list_physical_devices('GPU')\n",
    "if gpus:\n",
    "    try:\n",
    "        for gpu in gpus:\n",
    "            tf.config.experimental.set_memory_growth(gpu, True)  # 메모리 동적 할당\n",
    "    except RuntimeError as e:\n",
    "        print(e)"
   ]
  },
  {
   "cell_type": "code",
   "execution_count": 187,
   "id": "173bb50e",
   "metadata": {},
   "outputs": [
    {
     "name": "stdout",
     "output_type": "stream",
     "text": [
      "너\tNP,*,F,너,*,*,*,*\n",
      "오늘\tMAG,성분부사|시간부사,T,오늘,*,*,*,*\n",
      "왜\tMAG,문장부사|양상부사,F,왜,*,*,*,*\n",
      "이렇게\tMAG,*,F,이렇게,*,*,*,*\n",
      "예민\tXR,*,T,예민,*,*,*,*\n",
      "해\tXSA+EF,*,F,해,Inflect,XSA,EF,하/XSA/*+아/EF/*\n",
      "?\tSF,*,*,*,*,*,*,*\n",
      "EOS\n",
      "\n"
     ]
    }
   ],
   "source": [
    "import MeCab\n",
    "\n",
    "m = MeCab.Tagger()\n",
    "\n",
    "out = m.parse(\"너 오늘 왜 이렇게 예민해?\")\n",
    "\n",
    "print(out)"
   ]
  },
  {
   "cell_type": "code",
   "execution_count": 188,
   "id": "2ed19b4f",
   "metadata": {},
   "outputs": [],
   "source": [
    "## 파일 로드\n",
    "path = '~/aiffel/dktc/data_forder/gpt_result.csv'\n",
    "data = pd.read_csv(path)"
   ]
  },
  {
   "cell_type": "code",
   "execution_count": 189,
   "id": "caf36ea7",
   "metadata": {},
   "outputs": [
    {
     "data": {
      "text/html": [
       "<div>\n",
       "<style scoped>\n",
       "    .dataframe tbody tr th:only-of-type {\n",
       "        vertical-align: middle;\n",
       "    }\n",
       "\n",
       "    .dataframe tbody tr th {\n",
       "        vertical-align: top;\n",
       "    }\n",
       "\n",
       "    .dataframe thead th {\n",
       "        text-align: right;\n",
       "    }\n",
       "</style>\n",
       "<table border=\"1\" class=\"dataframe\">\n",
       "  <thead>\n",
       "    <tr style=\"text-align: right;\">\n",
       "      <th></th>\n",
       "      <th>idx</th>\n",
       "      <th>class</th>\n",
       "      <th>conversation</th>\n",
       "    </tr>\n",
       "  </thead>\n",
       "  <tbody>\n",
       "    <tr>\n",
       "      <th>0</th>\n",
       "      <td>0</td>\n",
       "      <td>협박 대화</td>\n",
       "      <td>지금 너 스스로를 죽여달라고 애원하는 것인가?\\n 아닙니다. 죄송합니다.\\n 죽을 ...</td>\n",
       "    </tr>\n",
       "    <tr>\n",
       "      <th>1</th>\n",
       "      <td>1</td>\n",
       "      <td>협박 대화</td>\n",
       "      <td>길동경찰서입니다.\\n9시 40분 마트에 폭발물을 설치할거다.\\n네?\\n똑바로 들어 ...</td>\n",
       "    </tr>\n",
       "    <tr>\n",
       "      <th>2</th>\n",
       "      <td>2</td>\n",
       "      <td>기타 괴롭힘 대화</td>\n",
       "      <td>너 되게 귀여운거 알지? 나보다 작은 남자는 첨봤어.\\n그만해. 니들 놀리는거 재미...</td>\n",
       "    </tr>\n",
       "    <tr>\n",
       "      <th>3</th>\n",
       "      <td>3</td>\n",
       "      <td>갈취 대화</td>\n",
       "      <td>어이 거기\\n예??\\n너 말이야 너. 이리 오라고\\n무슨 일.\\n너 옷 좋아보인다?...</td>\n",
       "    </tr>\n",
       "    <tr>\n",
       "      <th>4</th>\n",
       "      <td>4</td>\n",
       "      <td>갈취 대화</td>\n",
       "      <td>저기요 혹시 날이 너무 뜨겁잖아요? 저희 회사에서 이 선크림 파는데 한 번 손등에 ...</td>\n",
       "    </tr>\n",
       "  </tbody>\n",
       "</table>\n",
       "</div>"
      ],
      "text/plain": [
       "   idx      class                                       conversation\n",
       "0    0      협박 대화  지금 너 스스로를 죽여달라고 애원하는 것인가?\\n 아닙니다. 죄송합니다.\\n 죽을 ...\n",
       "1    1      협박 대화  길동경찰서입니다.\\n9시 40분 마트에 폭발물을 설치할거다.\\n네?\\n똑바로 들어 ...\n",
       "2    2  기타 괴롭힘 대화  너 되게 귀여운거 알지? 나보다 작은 남자는 첨봤어.\\n그만해. 니들 놀리는거 재미...\n",
       "3    3      갈취 대화  어이 거기\\n예??\\n너 말이야 너. 이리 오라고\\n무슨 일.\\n너 옷 좋아보인다?...\n",
       "4    4      갈취 대화  저기요 혹시 날이 너무 뜨겁잖아요? 저희 회사에서 이 선크림 파는데 한 번 손등에 ..."
      ]
     },
     "execution_count": 189,
     "metadata": {},
     "output_type": "execute_result"
    }
   ],
   "source": [
    "data.head()"
   ]
  },
  {
   "cell_type": "code",
   "execution_count": 190,
   "id": "2e892321",
   "metadata": {},
   "outputs": [
    {
     "name": "stdout",
     "output_type": "stream",
     "text": [
      "데이터 개수 : 4950 \n",
      "\n",
      "Null 개수 : idx             0\n",
      "class           0\n",
      "conversation    0\n",
      "dtype: int64\n"
     ]
    }
   ],
   "source": [
    "print('데이터 개수 :',len(data),'\\n')\n",
    "print('Null 개수 :',data.isnull().sum())"
   ]
  },
  {
   "cell_type": "code",
   "execution_count": 191,
   "id": "542b8d4f",
   "metadata": {},
   "outputs": [],
   "source": [
    "import MeCab\n",
    "import pandas as pd\n",
    "import re\n",
    "\n",
    "# MeCab 형태소 분석기 초기화\n",
    "mecab = MeCab.Tagger()\n",
    "\n",
    "# MeCab의 parse 결과를 파싱하여 (word, pos) 튜플의 리스트로 변환하는 함수\n",
    "def parse_mecab_output(text):\n",
    "    parsed = mecab.parse(text)\n",
    "    parsed_lines = parsed.strip().split('\\n')\n",
    "    tokens = []\n",
    "    for line in parsed_lines:\n",
    "        if line == 'EOS':\n",
    "            break\n",
    "        else:\n",
    "            # MeCab의 출력은 \"표면형\\t품사 정보\" 형식입니다.\n",
    "            try:\n",
    "                surface, feature = line.split('\\t')\n",
    "                # 품사 정보는 ','로 구분되어 있습니다.\n",
    "                pos = feature.split(',')[0]\n",
    "                tokens.append((surface, pos))\n",
    "            except ValueError:\n",
    "                continue  # 빈 줄이나 형식에 맞지 않는 줄은 무시\n",
    "    return tokens\n",
    "\n",
    "# 전처리 및 형태소 분석 클래스 정의\n",
    "class TextPreprocessor:\n",
    "    def __init__(self, pos_to_keep=None):\n",
    "        # 유지할 품사 설정\n",
    "        if pos_to_keep is None:\n",
    "            # 주요 품사 리스트 (명사, 동사, 형용사 등)\n",
    "             self.pos_to_keep = [\n",
    "                'NNG',  # 일반 명사\n",
    "                'NNP',  # 고유 명사\n",
    "                'NNB',  # 의존 명사\n",
    "                'NNBC', # 단위를 나타내는 명사\n",
    "                'NR',   # 수사\n",
    "                'NP',   # 대명사\n",
    "                'VV',   # 동사\n",
    "                'VA',   # 형용사\n",
    "                'VX',   # 보조 용언\n",
    "                'VCP',  # 긍정 지정사 ('이다')\n",
    "                'VCN',  # 부정 지정사 ('아니다')\n",
    "                'MM',   # 관형사\n",
    "                'MAG',  # 일반 부사\n",
    "                'MAJ',  # 접속 부사\n",
    "                'XR',   # 어근\n",
    "                'IC',   # 감탄사\n",
    "                'JKS',  # 주격 조사\n",
    "                'JKC',  # 보격 조사\n",
    "                'JKG',  # 관형격 조사\n",
    "                'JKO',  # 목적격 조사\n",
    "                'JKB',  # 부사격 조사\n",
    "                'JKV',  # 호격 조사\n",
    "                'JKQ',  # 인용격 조사\n",
    "                'JX',   # 보조사\n",
    "                'JC',   # 접속 조사\n",
    "                'EP',   # 선어말 어미\n",
    "                'EF',   # 종결 어미\n",
    "                'EC',   # 연결 어미\n",
    "                'ETN',  # 명사형 전성 어미\n",
    "                'ETM',  # 관형형 전성 어미\n",
    "                'XPN',  # 체언 접두사\n",
    "                'XSN',  # 명사 파생 접미사\n",
    "                'XSV',  # 동사 파생 접미사\n",
    "                'XSA',  # 형용사 파생 접미사\n",
    "                'SN',   # 숫자\n",
    "                'SL',   # 외국어\n",
    "                'SH',   # 한자\n",
    "                'SY',   # 기호\n",
    "            ]\n",
    "        else:\n",
    "            self.pos_to_keep = pos_to_keep\n",
    "\n",
    "    # 텍스트 정규화 함수\n",
    "    def normalize_text(self, text):\n",
    "        \n",
    "        # 반복되는 문자 줄이기 (e.g., ㅋㅋㅋㅋ -> ㅋㅋ)\n",
    "        text = re.sub(r'(.)\\1{2,}', r'\\1\\1', text)\n",
    "        # 다중 공백 제거\n",
    "        text = re.sub(r'\\s+', ' ', text)\n",
    "        # 앞뒤 공백 제거\n",
    "        text = text.strip()\n",
    "        return text\n",
    "\n",
    "    # 문장을 형태소 분석하고 필요한 품사만 추출하는 함수\n",
    "    def filter_by_pos(self, sentence):\n",
    "        parsed_sentence = parse_mecab_output(sentence)\n",
    "        # 필요한 품사만 추출\n",
    "        filtered_tokens = [word for word, pos in parsed_sentence if pos in self.pos_to_keep]\n",
    "        return filtered_tokens\n",
    "\n",
    "    # 전처리 및 토큰화 함수\n",
    "    def preprocess_and_tokenize(self, sentence):\n",
    "        if pd.isnull(sentence):\n",
    "            return []\n",
    "        # 텍스트 정규화\n",
    "        sentence = self.normalize_text(sentence)\n",
    "        # 형태소 분석 수행 및 필요한 품사만 추출\n",
    "        tokens = self.filter_by_pos(sentence)\n",
    "        return tokens\n",
    "\n",
    "    # 데이터프레임에 전처리 및 토큰화 적용\n",
    "    def apply_to_dataframe(self, df,column_name):\n",
    "        df[column_name] = df['conversation'].apply(self.preprocess_and_tokenize)\n",
    "        return df"
   ]
  },
  {
   "cell_type": "code",
   "execution_count": 192,
   "id": "2f5a1b16",
   "metadata": {},
   "outputs": [
    {
     "data": {
      "text/html": [
       "<div>\n",
       "<style scoped>\n",
       "    .dataframe tbody tr th:only-of-type {\n",
       "        vertical-align: middle;\n",
       "    }\n",
       "\n",
       "    .dataframe tbody tr th {\n",
       "        vertical-align: top;\n",
       "    }\n",
       "\n",
       "    .dataframe thead th {\n",
       "        text-align: right;\n",
       "    }\n",
       "</style>\n",
       "<table border=\"1\" class=\"dataframe\">\n",
       "  <thead>\n",
       "    <tr style=\"text-align: right;\">\n",
       "      <th></th>\n",
       "      <th>idx</th>\n",
       "      <th>class</th>\n",
       "      <th>conversation</th>\n",
       "      <th>preprocess_conversation</th>\n",
       "    </tr>\n",
       "  </thead>\n",
       "  <tbody>\n",
       "    <tr>\n",
       "      <th>4945</th>\n",
       "      <td>4945</td>\n",
       "      <td>일반대화</td>\n",
       "      <td>오늘은 바쁜 하루였어요?\\n네, 정말 바빴어요.</td>\n",
       "      <td>[오늘, 은, 하루, 어요, 네, 정말, 어요]</td>\n",
       "    </tr>\n",
       "    <tr>\n",
       "      <th>4946</th>\n",
       "      <td>4946</td>\n",
       "      <td>일반대화</td>\n",
       "      <td>다음에 드라마 같이 볼래요?\\n네, 액션 장르 좋아해요.</td>\n",
       "      <td>[다음, 에, 드라마, 같이, 네, 액션, 장르, 좋, 아]</td>\n",
       "    </tr>\n",
       "    <tr>\n",
       "      <th>4947</th>\n",
       "      <td>4947</td>\n",
       "      <td>일반대화</td>\n",
       "      <td>최근에 다녀온 여행 어땠어요?\\n정말 모험 같았어요.</td>\n",
       "      <td>[최근, 에, 여행, 어요, 정말, 모험, 같, 았, 어요]</td>\n",
       "    </tr>\n",
       "    <tr>\n",
       "      <th>4948</th>\n",
       "      <td>4948</td>\n",
       "      <td>일반대화</td>\n",
       "      <td>이제 곧 휴일이네요. 특별한 계획은요?\\n네, 요리 하려고 해요.</td>\n",
       "      <td>[이제, 곧, 휴일, 이, 네요, 특별, 계획, 은, 요, 네, 요리, 하, 려고]</td>\n",
       "    </tr>\n",
       "    <tr>\n",
       "      <th>4949</th>\n",
       "      <td>4949</td>\n",
       "      <td>일반대화</td>\n",
       "      <td>저녁에 뭐 드실 건가요?\\n한식 생각 중이에요.</td>\n",
       "      <td>[저녁, 에, 뭐, 한식, 생각, 중, 이, 에요]</td>\n",
       "    </tr>\n",
       "  </tbody>\n",
       "</table>\n",
       "</div>"
      ],
      "text/plain": [
       "       idx class                          conversation  \\\n",
       "4945  4945  일반대화            오늘은 바쁜 하루였어요?\\n네, 정말 바빴어요.   \n",
       "4946  4946  일반대화       다음에 드라마 같이 볼래요?\\n네, 액션 장르 좋아해요.   \n",
       "4947  4947  일반대화         최근에 다녀온 여행 어땠어요?\\n정말 모험 같았어요.   \n",
       "4948  4948  일반대화  이제 곧 휴일이네요. 특별한 계획은요?\\n네, 요리 하려고 해요.   \n",
       "4949  4949  일반대화            저녁에 뭐 드실 건가요?\\n한식 생각 중이에요.   \n",
       "\n",
       "                             preprocess_conversation  \n",
       "4945                      [오늘, 은, 하루, 어요, 네, 정말, 어요]  \n",
       "4946               [다음, 에, 드라마, 같이, 네, 액션, 장르, 좋, 아]  \n",
       "4947               [최근, 에, 여행, 어요, 정말, 모험, 같, 았, 어요]  \n",
       "4948  [이제, 곧, 휴일, 이, 네요, 특별, 계획, 은, 요, 네, 요리, 하, 려고]  \n",
       "4949                    [저녁, 에, 뭐, 한식, 생각, 중, 이, 에요]  "
      ]
     },
     "execution_count": 192,
     "metadata": {},
     "output_type": "execute_result"
    }
   ],
   "source": [
    "# 품사 필터링을 적용하여 전처리 객체 생성\n",
    "preprocessor = TextPreprocessor()\n",
    "\n",
    "# 데이터프레임 로드 (df로 복사하여 진행)\n",
    "df = data.copy()\n",
    "\n",
    "# 전처리 및 토큰화 적용\n",
    "df = preprocessor.apply_to_dataframe(df,'preprocess_conversation')\n",
    "\n",
    "# 결과 확인\n",
    "df.tail()"
   ]
  },
  {
   "cell_type": "code",
   "execution_count": 193,
   "id": "e8b0ccff",
   "metadata": {},
   "outputs": [],
   "source": [
    "# 레이블 인코딩\n",
    "label_mapping = {\n",
    "    '협박 대화': 0,\n",
    "    '기타 괴롭힘 대화': 1,\n",
    "    '갈취 대화': 2,\n",
    "    '직장 내 괴롭힘 대화': 3,\n",
    "    '일반대화' : 4\n",
    "}\n",
    "df['class'] = df['class'].map(label_mapping)\n"
   ]
  },
  {
   "cell_type": "code",
   "execution_count": 194,
   "id": "f3bf498b",
   "metadata": {},
   "outputs": [],
   "source": [
    "# 토크나이저 생성\n",
    "tokenizer = Tokenizer()\n",
    "tokenizer.fit_on_texts(df['preprocess_conversation'])\n",
    "\n",
    "# 시퀀스 인코딩\n",
    "sequences = tokenizer.texts_to_sequences(df['preprocess_conversation'])"
   ]
  },
  {
   "cell_type": "code",
   "execution_count": 195,
   "id": "504d6534",
   "metadata": {},
   "outputs": [
    {
     "data": {
      "image/png": "[encoded data removed]",
      "text/plain": [
       "<Figure size 576x432 with 1 Axes>"
      ]
     },
     "metadata": {
      "needs_background": "light"
     },
     "output_type": "display_data"
    }
   ],
   "source": [
    "sequence_lengths = [len(seq) for seq in sequences]\n",
    "\n",
    "plt.figure(figsize=(8, 6))\n",
    "plt.boxplot(sequence_lengths, vert=False)\n",
    "plt.title('Boxplot of Sequence Lengths')\n",
    "plt.xlabel('Sequence Length')\n",
    "plt.show()"
   ]
  },
  {
   "cell_type": "code",
   "execution_count": 196,
   "id": "09cebce4",
   "metadata": {},
   "outputs": [],
   "source": [
    "# 최대 시퀀스 길이 결정 (% 로 결정)\n",
    "max_seq_len = int(np.percentile([len(seq) for seq in sequences], 99)) "
   ]
  },
  {
   "cell_type": "code",
   "execution_count": 197,
   "id": "10934048",
   "metadata": {},
   "outputs": [],
   "source": [
    "# 패딩 적용\n",
    "X = pad_sequences(sequences, maxlen=max_seq_len, padding='post')\n",
    "\n",
    "# 레이블 준비\n",
    "y = df['class'].values"
   ]
  },
  {
   "cell_type": "code",
   "execution_count": 198,
   "id": "a72cb4a0",
   "metadata": {},
   "outputs": [
    {
     "name": "stdout",
     "output_type": "stream",
     "text": [
      "학습 데이터 크기: (3960, 239)\n",
      "검증 데이터 크기: (990, 239)\n"
     ]
    }
   ],
   "source": [
    "from sklearn.model_selection import train_test_split\n",
    "\n",
    "# 학습 데이터와 검증 데이터를 8:2로 나눔 (클래스 비율을 유지)\n",
    "X_train, X_val, y_train, y_val = train_test_split(X, y, test_size=0.2, random_state=100, stratify=y)\n",
    "\n",
    "# 결과 확인\n",
    "print(f\"학습 데이터 크기: {X_train.shape}\")\n",
    "print(f\"검증 데이터 크기: {X_val.shape}\")"
   ]
  },
  {
   "cell_type": "markdown",
   "id": "699cbeee",
   "metadata": {},
   "source": [
    "# 03. 모델 구조 (transformer encoder = Base model)"
   ]
  },
  {
   "cell_type": "code",
   "execution_count": 199,
   "id": "63ce3445",
   "metadata": {},
   "outputs": [],
   "source": [
    "# 포지셔널 인코딩 레이어\n",
    "class PositionalEncoding(tf.keras.layers.Layer):\n",
    "    def __init__(self, position, d_model, **kwargs):\n",
    "        super(PositionalEncoding, self).__init__(**kwargs)\n",
    "        self.position = position\n",
    "        self.d_model = d_model\n",
    "        self.pos_encoding = self.positional_encoding(position, d_model)\n",
    "\n",
    "    def get_angles(self, position, i, d_model):\n",
    "        # 각도 계산\n",
    "        angles = 1 / np.power(10000, (2 * (i // 2)) / np.float32(d_model))\n",
    "        return position * angles\n",
    "\n",
    "    def positional_encoding(self, position, d_model):\n",
    "        # 포지셔널 인코딩 계산\n",
    "        angle_rads = self.get_angles(\n",
    "            np.arange(position)[:, np.newaxis],\n",
    "            np.arange(d_model)[np.newaxis, :],\n",
    "            d_model)\n",
    "\n",
    "        # 배열의 짝수 인덱스에는 sin 함수 적용\n",
    "        angle_rads[:, 0::2] = np.sin(angle_rads[:, 0::2])\n",
    "\n",
    "        # 배열의 홀수 인덱스에는 cos 함수 적용\n",
    "        angle_rads[:, 1::2] = np.cos(angle_rads[:, 1::2])\n",
    "\n",
    "        pos_encoding = angle_rads[np.newaxis, ...]\n",
    "\n",
    "        return tf.cast(pos_encoding, dtype=tf.float32)\n",
    "\n",
    "    def call(self, inputs):\n",
    "        return inputs + self.pos_encoding[:, :tf.shape(inputs)[1], :]\n",
    "\n",
    "    def get_config(self):\n",
    "        config = super(PositionalEncoding, self).get_config()\n",
    "        config.update({\n",
    "            'position': self.position,\n",
    "            'd_model': self.d_model\n",
    "        })\n",
    "        return config"
   ]
  },
  {
   "cell_type": "code",
   "execution_count": 200,
   "id": "34db10bc",
   "metadata": {},
   "outputs": [],
   "source": [
    "# 패딩 마스크 생성 함수\n",
    "def create_padding_mask(seq):\n",
    "    seq = tf.cast(tf.math.equal(seq, 0), tf.float32)\n",
    "    # (batch_size, 1, 1, seq_len)\n",
    "    return seq[:, tf.newaxis, tf.newaxis, :]"
   ]
  },
  {
   "cell_type": "code",
   "execution_count": 201,
   "id": "a9678f66",
   "metadata": {},
   "outputs": [],
   "source": [
    "def scaled_dot_product_attention(q, k, v, mask):\n",
    "    \"\"\" 스케일드 닷 프로덕트 어텐션 \"\"\"\n",
    "    matmul_qk = tf.matmul(q, k, transpose_b=True)  # Q와 K의 행렬 곱\n",
    "\n",
    "    # 스케일링\n",
    "    dk = tf.cast(tf.shape(k)[-1], tf.float32)\n",
    "    scaled_attention_logits = matmul_qk / tf.math.sqrt(dk)\n",
    "\n",
    "    # 마스크가 주어졌을 경우 -inf 적용\n",
    "    if mask is not None:\n",
    "        scaled_attention_logits += (mask * -1e9)\n",
    "\n",
    "    # softmax를 통해 attention weights 계산\n",
    "    attention_weights = tf.nn.softmax(scaled_attention_logits, axis=-1)\n",
    "\n",
    "    # attention weights와 V의 행렬곱\n",
    "    output = tf.matmul(attention_weights, v)\n",
    "\n",
    "    return output"
   ]
  },
  {
   "cell_type": "code",
   "execution_count": 202,
   "id": "917abc34",
   "metadata": {},
   "outputs": [],
   "source": [
    "class MultiHeadAttention(tf.keras.layers.Layer):\n",
    "    def __init__(self, d_model, num_heads, **kwargs):\n",
    "        super(MultiHeadAttention, self).__init__(**kwargs)\n",
    "        self.num_heads = num_heads\n",
    "        self.d_model = d_model\n",
    "\n",
    "        assert d_model % num_heads == 0\n",
    "\n",
    "        self.depth = d_model // num_heads\n",
    "\n",
    "        # 가중치 행렬 정의\n",
    "        self.wq = tf.keras.layers.Dense(d_model)\n",
    "        self.wk = tf.keras.layers.Dense(d_model)\n",
    "        self.wv = tf.keras.layers.Dense(d_model)\n",
    "\n",
    "        self.dense = tf.keras.layers.Dense(d_model)\n",
    "\n",
    "    def split_heads(self, x, batch_size):\n",
    "        \"\"\" 헤드 분할: [batch_size, seq_len, d_model] -> [batch_size, num_heads, seq_len, depth] \"\"\"\n",
    "        x = tf.reshape(x, (batch_size, -1, self.num_heads, self.depth))\n",
    "        return tf.transpose(x, perm=[0, 2, 1, 3])\n",
    "\n",
    "    def call(self, v, k, q, mask=None):\n",
    "        batch_size = tf.shape(q)[0]\n",
    "\n",
    "        # 선형 변환\n",
    "        q = self.wq(q)\n",
    "        k = self.wk(k)\n",
    "        v = self.wv(v)\n",
    "\n",
    "        # 헤드 분할\n",
    "        q = self.split_heads(q, batch_size)\n",
    "        k = self.split_heads(k, batch_size)\n",
    "        v = self.split_heads(v, batch_size)\n",
    "\n",
    "        # 스케일드 닷 프로덕트 어텐션\n",
    "        scaled_attention = scaled_dot_product_attention(q, k, v, mask)\n",
    "\n",
    "        # 헤드 병합\n",
    "        scaled_attention = tf.transpose(scaled_attention, perm=[0, 2, 1, 3])\n",
    "        concat_attention = tf.reshape(scaled_attention, (batch_size, -1, self.d_model))\n",
    "\n",
    "        # 최종 선형 변환\n",
    "        output = self.dense(concat_attention)\n",
    "\n",
    "        return output\n",
    "\n",
    "    def get_config(self):\n",
    "        # 직렬화 지원을 위한 설정 저장\n",
    "        config = super(MultiHeadAttention, self).get_config()\n",
    "        config.update({\n",
    "            'd_model': self.d_model,\n",
    "            'num_heads': self.num_heads,\n",
    "        })\n",
    "        return config\n",
    "\n",
    "    @classmethod\n",
    "    def from_config(cls, config):\n",
    "        return cls(**config)\n",
    "\n",
    "class PositionalEncoding(tf.keras.layers.Layer):\n",
    "    def __init__(self, position, d_model, **kwargs):\n",
    "        super(PositionalEncoding, self).__init__(**kwargs)\n",
    "        self.position = position\n",
    "        self.d_model = d_model\n",
    "        self.pos_encoding = self.positional_encoding(position, d_model)\n",
    "\n",
    "    def get_angles(self, position, i, d_model):\n",
    "        # 각도 계산\n",
    "        angles = 1 / np.power(10000, (2 * (i // 2)) / np.float32(d_model))\n",
    "        return position * angles\n",
    "\n",
    "    def positional_encoding(self, position, d_model):\n",
    "        # 포지셔널 인코딩 계산\n",
    "        angle_rads = self.get_angles(\n",
    "            np.arange(position)[:, np.newaxis],\n",
    "            np.arange(d_model)[np.newaxis, :],\n",
    "            d_model)\n",
    "\n",
    "        # 배열의 짝수 인덱스에는 sin 함수 적용\n",
    "        angle_rads[:, 0::2] = np.sin(angle_rads[:, 0::2])\n",
    "\n",
    "        # 배열의 홀수 인덱스에는 cos 함수 적용\n",
    "        angle_rads[:, 1::2] = np.cos(angle_rads[:, 1::2])\n",
    "\n",
    "        pos_encoding = angle_rads[np.newaxis, ...]\n",
    "\n",
    "        return tf.cast(pos_encoding, dtype=tf.float32)\n",
    "\n",
    "    def call(self, inputs):\n",
    "        return inputs + self.pos_encoding[:, :tf.shape(inputs)[1], :]\n",
    "\n",
    "    def get_config(self):\n",
    "        config = super(PositionalEncoding, self).get_config()\n",
    "        config.update({\n",
    "            'position': self.position,\n",
    "            'd_model': self.d_model\n",
    "        })\n",
    "        return config\n",
    "\n",
    "    @classmethod\n",
    "    def from_config(cls, config):\n",
    "        return cls(**config)"
   ]
  },
  {
   "cell_type": "code",
   "execution_count": 203,
   "id": "3fb0e9db",
   "metadata": {},
   "outputs": [],
   "source": [
    "# 인코더 레이어\n",
    "def encoder_layer(units, d_model, num_heads, dropout_rate, name=\"encoder_layer\"):\n",
    "    inputs = tf.keras.Input(shape=(None, d_model), name=\"inputs\")\n",
    "    padding_mask = tf.keras.Input(shape=(1, 1, None), name=\"padding_mask\")\n",
    "\n",
    "    # 멀티 헤드 어텐션\n",
    "    attention = MultiHeadAttention(d_model, num_heads)(inputs, inputs, inputs, padding_mask)\n",
    "    attention = tf.keras.layers.Dropout(dropout_rate)(attention)\n",
    "    attention = tf.keras.layers.LayerNormalization(epsilon=1e-6)(inputs + attention)\n",
    "\n",
    "    # 포지션 와이즈 피드 포워드 네트워크\n",
    "    outputs = tf.keras.layers.Dense(units, activation='relu')(attention)\n",
    "    outputs = tf.keras.layers.Dense(d_model)(outputs)\n",
    "    outputs = tf.keras.layers.Dropout(dropout_rate)(outputs)\n",
    "    outputs = tf.keras.layers.LayerNormalization(epsilon=1e-6)(attention + outputs)\n",
    "\n",
    "    return tf.keras.Model(inputs=[inputs, padding_mask], outputs=outputs, name=name)"
   ]
  },
  {
   "cell_type": "code",
   "execution_count": 204,
   "id": "348d238d",
   "metadata": {},
   "outputs": [],
   "source": [
    "# 인코더 전체\n",
    "def encoder(vocab_size,\n",
    "            num_layers,\n",
    "            units,\n",
    "            d_model,\n",
    "            num_heads,\n",
    "            dropout_rate,\n",
    "            maximum_position_encoding,\n",
    "            name=\"encoder\"):\n",
    "    inputs = tf.keras.Input(shape=(None,), name=\"inputs\")\n",
    "    padding_mask = tf.keras.Input(shape=(1, 1, None), name=\"padding_mask\")\n",
    "\n",
    "    # 임베딩 및 포지셔널 인코딩\n",
    "    embeddings = tf.keras.layers.Embedding(vocab_size, d_model)(inputs)\n",
    "    embeddings *= tf.math.sqrt(tf.cast(d_model, tf.float32))\n",
    "    embeddings = PositionalEncoding(maximum_position_encoding, d_model)(embeddings)\n",
    "\n",
    "    outputs = tf.keras.layers.Dropout(dropout_rate)(embeddings)\n",
    "\n",
    "    # 인코더 레이어 쌓기\n",
    "    for i in range(num_layers):\n",
    "        outputs = encoder_layer(units=units,\n",
    "                                d_model=d_model,\n",
    "                                num_heads=num_heads,\n",
    "                                dropout_rate=dropout_rate,\n",
    "                                name=f\"encoder_layer_{i}\",\n",
    "                                )(inputs=[outputs, padding_mask])\n",
    "\n",
    "    return tf.keras.Model(inputs=[inputs, padding_mask], outputs=outputs, name=name)"
   ]
  },
  {
   "cell_type": "markdown",
   "id": "0bf60c27",
   "metadata": {},
   "source": [
    "# 04. 모델 구조 (transformer encoder = Base model)"
   ]
  },
  {
   "cell_type": "code",
   "execution_count": 205,
   "id": "ddce6eb9",
   "metadata": {},
   "outputs": [],
   "source": [
    "# 인코더 모델 생성\n",
    "def build_encoder_model():\n",
    "    inputs = tf.keras.Input(shape=(max_seq_len,), name=\"inputs\")\n",
    "    padding_mask = tf.keras.layers.Lambda(create_padding_mask, output_shape=(1, 1, None), name='padding_mask')(inputs)\n",
    "\n",
    "    # 인코더 출력\n",
    "    encoder_outputs = encoder(\n",
    "        vocab_size=vocab_size,\n",
    "        num_layers=num_layers,\n",
    "        units=units,\n",
    "        d_model=d_model,\n",
    "        num_heads=num_heads,\n",
    "        dropout_rate=dropout_rate,\n",
    "        maximum_position_encoding=max_seq_len,\n",
    "        name=\"encoder\"\n",
    "    )(inputs=[inputs, padding_mask])\n",
    "\n",
    "    # 글로벌 평균 풀링\n",
    "    pooled_output = tf.keras.layers.GlobalAveragePooling1D()(encoder_outputs)\n",
    "\n",
    "    # 출력 레이어 (다중 분류)\n",
    "    outputs = tf.keras.layers.Dense(units=num_classes, activation='softmax', name='outputs')(pooled_output)\n",
    "\n",
    "    # 모델 정의\n",
    "    model = tf.keras.Model(inputs=inputs, outputs=outputs, name=\"transformer_classifier\")\n",
    "\n",
    "    return model"
   ]
  },
  {
   "cell_type": "code",
   "execution_count": 206,
   "id": "cc5d499a",
   "metadata": {},
   "outputs": [],
   "source": [
    "# 하이퍼파라미터 설정\n",
    "vocab_size = len(tokenizer.word_index) + 1\n",
    "num_layers = 2\n",
    "d_model = 256\n",
    "num_heads = 4\n",
    "units = 512\n",
    "dropout_rate = 0.4\n",
    "num_classes = 5  # 클래스 수"
   ]
  },
  {
   "cell_type": "code",
   "execution_count": 207,
   "id": "190f024e",
   "metadata": {},
   "outputs": [
    {
     "name": "stdout",
     "output_type": "stream",
     "text": [
      "Model: \"transformer_classifier\"\n",
      "__________________________________________________________________________________________________\n",
      "Layer (type)                    Output Shape         Param #     Connected to                     \n",
      "==================================================================================================\n",
      "inputs (InputLayer)             [(None, 239)]        0                                            \n",
      "__________________________________________________________________________________________________\n",
      "padding_mask (Lambda)           (None, 1, 1, 239)    0           inputs[0][0]                     \n",
      "__________________________________________________________________________________________________\n",
      "encoder (Functional)            (None, None, 256)    3506944     inputs[0][0]                     \n",
      "                                                                 padding_mask[0][0]               \n",
      "__________________________________________________________________________________________________\n",
      "global_average_pooling1d (Globa (None, 256)          0           encoder[0][0]                    \n",
      "__________________________________________________________________________________________________\n",
      "outputs (Dense)                 (None, 5)            1285        global_average_pooling1d[0][0]   \n",
      "==================================================================================================\n",
      "Total params: 3,508,229\n",
      "Trainable params: 3,508,229\n",
      "Non-trainable params: 0\n",
      "__________________________________________________________________________________________________\n"
     ]
    }
   ],
   "source": [
    "# 모델 생성\n",
    "model = build_encoder_model()\n",
    "\n",
    "# 모델 컴파일\n",
    "model.compile(optimizer='adam',\n",
    "              loss='sparse_categorical_crossentropy',\n",
    "              metrics=['accuracy'])\n",
    "\n",
    "# 모델 요약\n",
    "model.summary()"
   ]
  },
  {
   "cell_type": "markdown",
   "id": "93b5e925",
   "metadata": {},
   "source": [
    "# 05. 모델 학습 (transformer encoder = Base model)"
   ]
  },
  {
   "cell_type": "code",
   "execution_count": 208,
   "id": "71b1f667",
   "metadata": {},
   "outputs": [
    {
     "name": "stdout",
     "output_type": "stream",
     "text": [
      "Epoch 1/20\n",
      "124/124 [==============================] - 8s 49ms/step - loss: 1.0287 - accuracy: 0.5722 - val_loss: 0.6540 - val_accuracy: 0.8283\n",
      "\n",
      "Epoch 00001: val_loss improved from inf to 0.65399, saving model to best_model\n"
     ]
    },
    {
     "name": "stderr",
     "output_type": "stream",
     "text": [
      "WARNING:absl:Found untraced functions such as dense_layer_call_fn, dense_layer_call_and_return_conditional_losses, dense_1_layer_call_fn, dense_1_layer_call_and_return_conditional_losses, dense_2_layer_call_fn while saving (showing 5 of 40). These functions will not be directly callable after loading.\n"
     ]
    },
    {
     "name": "stdout",
     "output_type": "stream",
     "text": [
      "INFO:tensorflow:Assets written to: best_model/assets\n"
     ]
    },
    {
     "name": "stderr",
     "output_type": "stream",
     "text": [
      "INFO:tensorflow:Assets written to: best_model/assets\n"
     ]
    },
    {
     "name": "stdout",
     "output_type": "stream",
     "text": [
      "Epoch 2/20\n",
      "124/124 [==============================] - 6s 45ms/step - loss: 0.4554 - accuracy: 0.8503 - val_loss: 0.4631 - val_accuracy: 0.8525\n",
      "\n",
      "Epoch 00002: val_loss improved from 0.65399 to 0.46309, saving model to best_model\n"
     ]
    },
    {
     "name": "stderr",
     "output_type": "stream",
     "text": [
      "WARNING:absl:Found untraced functions such as dense_layer_call_fn, dense_layer_call_and_return_conditional_losses, dense_1_layer_call_fn, dense_1_layer_call_and_return_conditional_losses, dense_2_layer_call_fn while saving (showing 5 of 40). These functions will not be directly callable after loading.\n"
     ]
    },
    {
     "name": "stdout",
     "output_type": "stream",
     "text": [
      "INFO:tensorflow:Assets written to: best_model/assets\n"
     ]
    },
    {
     "name": "stderr",
     "output_type": "stream",
     "text": [
      "INFO:tensorflow:Assets written to: best_model/assets\n"
     ]
    },
    {
     "name": "stdout",
     "output_type": "stream",
     "text": [
      "Epoch 3/20\n",
      "124/124 [==============================] - 6s 45ms/step - loss: 0.2614 - accuracy: 0.9104 - val_loss: 0.6501 - val_accuracy: 0.8586\n",
      "\n",
      "Epoch 00003: val_loss did not improve from 0.46309\n",
      "Epoch 4/20\n",
      "124/124 [==============================] - 6s 45ms/step - loss: 0.1712 - accuracy: 0.9386 - val_loss: 0.5215 - val_accuracy: 0.8768\n",
      "\n",
      "Epoch 00004: val_loss did not improve from 0.46309\n"
     ]
    }
   ],
   "source": [
    "# 콜백 설정\n",
    "early_stopping = EarlyStopping(monitor='val_loss', patience=2, restore_best_weights=True)\n",
    "\n",
    "model_checkpoint = ModelCheckpoint(\n",
    "    filepath='best_model', \n",
    "    monitor='val_loss',\n",
    "    save_best_only=True,\n",
    "    mode='min',\n",
    "    verbose=1\n",
    ")\n",
    "# 모델 학습\n",
    "history = model.fit(\n",
    "    X_train,\n",
    "    y_train,\n",
    "    validation_data=(X_val, y_val),\n",
    "    epochs=20,\n",
    "    batch_size=32,\n",
    "    callbacks=[early_stopping, model_checkpoint]\n",
    ")"
   ]
  },
  {
   "cell_type": "code",
   "execution_count": 209,
   "id": "2af86b9c",
   "metadata": {},
   "outputs": [
    {
     "data": {
      "image/png": "[encoded data removed]",
      "text/plain": [
       "<Figure size 864x288 with 2 Axes>"
      ]
     },
     "metadata": {
      "needs_background": "light"
     },
     "output_type": "display_data"
    }
   ],
   "source": [
    "import matplotlib.pyplot as plt\n",
    "\n",
    "# 손실 시각화\n",
    "plt.figure(figsize=(12, 4))\n",
    "plt.subplot(1, 2, 1)\n",
    "plt.plot(history.history['loss'], label='Train Loss')\n",
    "plt.plot(history.history['val_loss'], label='Val Loss')\n",
    "plt.title('Loss')\n",
    "plt.xlabel('Epoch')\n",
    "plt.ylabel('Loss')\n",
    "plt.legend()\n",
    "\n",
    "# 정확도 시각화\n",
    "plt.subplot(1, 2, 2)\n",
    "plt.plot(history.history['accuracy'], label='Train Acc')\n",
    "plt.plot(history.history['val_accuracy'], label='Val Acc')\n",
    "plt.title('Accuracy')\n",
    "plt.xlabel('Epoch')\n",
    "plt.ylabel('Accuracy')\n",
    "plt.legend()\n",
    "\n",
    "plt.show()"
   ]
  },
  {
   "cell_type": "code",
   "execution_count": 210,
   "id": "15d4910b",
   "metadata": {},
   "outputs": [
    {
     "data": {
      "text/html": [
       "<div>\n",
       "<style scoped>\n",
       "    .dataframe tbody tr th:only-of-type {\n",
       "        vertical-align: middle;\n",
       "    }\n",
       "\n",
       "    .dataframe tbody tr th {\n",
       "        vertical-align: top;\n",
       "    }\n",
       "\n",
       "    .dataframe thead th {\n",
       "        text-align: right;\n",
       "    }\n",
       "</style>\n",
       "<table border=\"1\" class=\"dataframe\">\n",
       "  <thead>\n",
       "    <tr style=\"text-align: right;\">\n",
       "      <th></th>\n",
       "      <th>precision</th>\n",
       "      <th>recall</th>\n",
       "      <th>f1-score</th>\n",
       "      <th>support</th>\n",
       "    </tr>\n",
       "  </thead>\n",
       "  <tbody>\n",
       "    <tr>\n",
       "      <th>협박 대화</th>\n",
       "      <td>0.7824</td>\n",
       "      <td>0.7430</td>\n",
       "      <td>0.7622</td>\n",
       "      <td>179.0000</td>\n",
       "    </tr>\n",
       "    <tr>\n",
       "      <th>기타 괴롭힘 대화</th>\n",
       "      <td>0.7759</td>\n",
       "      <td>0.8539</td>\n",
       "      <td>0.8130</td>\n",
       "      <td>219.0000</td>\n",
       "    </tr>\n",
       "    <tr>\n",
       "      <th>갈취 대화</th>\n",
       "      <td>0.9247</td>\n",
       "      <td>0.6888</td>\n",
       "      <td>0.7895</td>\n",
       "      <td>196.0000</td>\n",
       "    </tr>\n",
       "    <tr>\n",
       "      <th>직장 내 괴롭힘 대화</th>\n",
       "      <td>0.8112</td>\n",
       "      <td>0.9643</td>\n",
       "      <td>0.8811</td>\n",
       "      <td>196.0000</td>\n",
       "    </tr>\n",
       "    <tr>\n",
       "      <th>일반대화</th>\n",
       "      <td>1.0000</td>\n",
       "      <td>1.0000</td>\n",
       "      <td>1.0000</td>\n",
       "      <td>200.0000</td>\n",
       "    </tr>\n",
       "    <tr>\n",
       "      <th>accuracy</th>\n",
       "      <td>0.8525</td>\n",
       "      <td>0.8525</td>\n",
       "      <td>0.8525</td>\n",
       "      <td>0.8525</td>\n",
       "    </tr>\n",
       "    <tr>\n",
       "      <th>macro avg</th>\n",
       "      <td>0.8588</td>\n",
       "      <td>0.8500</td>\n",
       "      <td>0.8492</td>\n",
       "      <td>990.0000</td>\n",
       "    </tr>\n",
       "    <tr>\n",
       "      <th>weighted avg</th>\n",
       "      <td>0.8588</td>\n",
       "      <td>0.8525</td>\n",
       "      <td>0.8504</td>\n",
       "      <td>990.0000</td>\n",
       "    </tr>\n",
       "  </tbody>\n",
       "</table>\n",
       "</div>"
      ],
      "text/plain": [
       "              precision  recall  f1-score   support\n",
       "협박 대화            0.7824  0.7430    0.7622  179.0000\n",
       "기타 괴롭힘 대화        0.7759  0.8539    0.8130  219.0000\n",
       "갈취 대화            0.9247  0.6888    0.7895  196.0000\n",
       "직장 내 괴롭힘 대화      0.8112  0.9643    0.8811  196.0000\n",
       "일반대화             1.0000  1.0000    1.0000  200.0000\n",
       "accuracy         0.8525  0.8525    0.8525    0.8525\n",
       "macro avg        0.8588  0.8500    0.8492  990.0000\n",
       "weighted avg     0.8588  0.8525    0.8504  990.0000"
      ]
     },
     "execution_count": 210,
     "metadata": {},
     "output_type": "execute_result"
    }
   ],
   "source": [
    "from sklearn.metrics import classification_report\n",
    "from keras.models import load_model\n",
    "\n",
    "# PositionalEncoding 클래스를 포함한 custom_objects 정의\n",
    "custom_objects = {\n",
    "    'MultiHeadAttention': MultiHeadAttention,\n",
    "    'PositionalEncoding': PositionalEncoding\n",
    "}\n",
    "\n",
    "# SavedModel 형식으로 저장된 모델 불러오기\n",
    "best_model = load_model('best_model', custom_objects=custom_objects)\n",
    "\n",
    "# 검증 데이터에 대한 예측\n",
    "y_pred = best_model.predict(X_val)\n",
    "y_pred_classes = np.argmax(y_pred, axis=1)\n",
    "\n",
    "# 분류 보고서를 딕셔너리 형태로 얻기\n",
    "report_dict = classification_report(y_val, y_pred_classes, target_names=label_mapping.keys(), output_dict=True)\n",
    "\n",
    "# 딕셔너리를 DataFrame으로 변환\n",
    "report_df = pd.DataFrame(report_dict).transpose()\n",
    "\n",
    "# 필요한 컬럼만 선택하고 순서 지정\n",
    "report_df = report_df[['precision', 'recall', 'f1-score', 'support']]\n",
    "\n",
    "# 소수점 자릿수 설정\n",
    "report_df = report_df.round(4)\n",
    "\n",
    "# 결과 확인\n",
    "report_df"
   ]
  },
  {
   "cell_type": "code",
   "execution_count": 211,
   "id": "a8629d02",
   "metadata": {},
   "outputs": [],
   "source": [
    "# 1. 테스트 데이터 로드\n",
    "test_data_path = '~/aiffel/dktc/data_forder/test.csv'\n",
    "test_df = pd.read_csv(test_data_path)"
   ]
  },
  {
   "cell_type": "code",
   "execution_count": 212,
   "id": "a2f42c00",
   "metadata": {},
   "outputs": [],
   "source": [
    "# 2. 전처리 객체 생성 및 테스트 데이터 전처리\n",
    "test_df['preprocess_conversation'] = test_df['text'].apply(preprocessor.preprocess_and_tokenize)\n",
    "test_df['processed_text'] = test_df['preprocess_conversation'].apply(lambda tokens: ' '.join(tokens))"
   ]
  },
  {
   "cell_type": "code",
   "execution_count": 213,
   "id": "62f28eb5",
   "metadata": {},
   "outputs": [],
   "source": [
    "# 3. 토큰화된 테스트 데이터 생성\n",
    "tokenizer.fit_on_texts(df['preprocess_conversation'])  # 훈련 데이터를 기반으로 토크나이저 적합\n",
    "sequences_test = tokenizer.texts_to_sequences(test_df['processed_text'])\n",
    "tokenized_test_data = tf.keras.preprocessing.sequence.pad_sequences(sequences_test, maxlen=max_seq_len, padding='post')"
   ]
  },
  {
   "cell_type": "code",
   "execution_count": 214,
   "id": "b9b62ecd",
   "metadata": {},
   "outputs": [],
   "source": [
    "# 5. 모델 예측 수행\n",
    "y_test_pred = best_model.predict(tokenized_test_data)\n"
   ]
  },
  {
   "cell_type": "code",
   "execution_count": 215,
   "id": "d3a4e2fd",
   "metadata": {},
   "outputs": [],
   "source": [
    "# 6. 예측 클래스 추출 및 threshold 적용\n",
    "threshold = 0.2  # 일반 대화로 분류할 확률 기준\n",
    "\n",
    "# 기존 예측 결과에서 가장 높은 확률을 가진 클래스를 선택\n",
    "y_test_pred_classes = np.argmax(y_test_pred, axis=1)"
   ]
  },
  {
   "cell_type": "code",
   "execution_count": 216,
   "id": "b294a874",
   "metadata": {},
   "outputs": [],
   "source": [
    "# 일반 대화의 확률이 threshold 이상인 경우 강제로 일반 대화(클래스 4)로 설정\n",
    "for i in range(len(y_test_pred)):\n",
    "    general_conversation_prob = y_test_pred[i, 4]  # 일반 대화 클래스(4)의 확률\n",
    "    if general_conversation_prob >= threshold:\n",
    "        y_test_pred_classes[i] = 4  # 일반 대화로 강제 분류"
   ]
  },
  {
   "cell_type": "code",
   "execution_count": 217,
   "id": "74ddb59e",
   "metadata": {},
   "outputs": [],
   "source": [
    "# 7. 예측 클래스 번호를 텍스트 레이블로 변환 (label_mapping 사용)\n",
    "label_mapping = {0: '협박 대화', 1: '기타 괴롭힘 대화', 2: '갈취 대화', 3: '직장 내 괴롭힘 대화', 4: '일반 대화'}\n",
    "test_df['class'] = y_test_pred_classes\n",
    "test_df['class'] = test_df['class'].map(label_mapping)"
   ]
  },
  {
   "cell_type": "code",
   "execution_count": 218,
   "id": "4406daf5",
   "metadata": {},
   "outputs": [],
   "source": [
    "# 8. 제출 파일 작성\n",
    "submission = test_df[['idx', 'class']]\n",
    "submission.columns = ['file_name', 'class']\n",
    "submission.to_csv('~/aiffel/dktc/data_forder/submission.csv', index=False)"
   ]
  },
  {
   "cell_type": "code",
   "execution_count": 219,
   "id": "cd8cc9b1",
   "metadata": {},
   "outputs": [
    {
     "data": {
      "text/plain": [
       "array(['협박 대화', '직장 내 괴롭힘 대화', '기타 괴롭힘 대화', '갈취 대화'], dtype=object)"
      ]
     },
     "execution_count": 219,
     "metadata": {},
     "output_type": "execute_result"
    }
   ],
   "source": [
    "test_df['class'].unique()"
   ]
  },
  {
   "cell_type": "code",
   "execution_count": 220,
   "id": "1ebba732",
   "metadata": {},
   "outputs": [
    {
     "data": {
      "text/plain": [
       "기타 괴롭힘 대화      174\n",
       "직장 내 괴롭힘 대화    139\n",
       "협박 대화           95\n",
       "갈취 대화           92\n",
       "Name: class, dtype: int64"
      ]
     },
     "execution_count": 220,
     "metadata": {},
     "output_type": "execute_result"
    }
   ],
   "source": [
    "test_df['class'].value_counts()"
   ]
  },
  {
   "cell_type": "code",
   "execution_count": null,
   "id": "49452508",
   "metadata": {},
   "outputs": [],
   "source": []
  }
 ],
 "metadata": {
  "kernelspec": {
   "display_name": "Python 3 (ipykernel)",
   "language": "python",
   "name": "python3"
  },
  "language_info": {
   "codemirror_mode": {
    "name": "ipython",
    "version": 3
   },
   "file_extension": ".py",
   "mimetype": "text/x-python",
   "name": "python",
   "nbconvert_exporter": "python",
   "pygments_lexer": "ipython3",
   "version": "3.9.7"
  }
 },
 "nbformat": 4,
 "nbformat_minor": 5
}
