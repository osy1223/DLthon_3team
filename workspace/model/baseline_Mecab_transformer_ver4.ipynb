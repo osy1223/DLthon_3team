{
 "cells": [
  {
   "cell_type": "code",
   "execution_count": 2,
   "id": "7d0910b1",
   "metadata": {},
   "outputs": [],
   "source": [
    "import pandas as pd\n",
    "import numpy as np\n",
    "import matplotlib.pyplot as plt\n",
    "import re\n",
    "import time\n",
    "import tensorflow as tf\n",
    "\n",
    "from sklearn.model_selection import train_test_split\n",
    "from tensorflow.keras.preprocessing.sequence import pad_sequences\n",
    "from tensorflow.keras.preprocessing.text import Tokenizer\n",
    "\n",
    "from keras.callbacks import EarlyStopping, ModelCheckpoint"
   ]
  },
  {
   "cell_type": "code",
   "execution_count": 3,
   "id": "f1332708",
   "metadata": {},
   "outputs": [],
   "source": [
    "import tensorflow as tf\n",
    "tf.keras.backend.clear_session()"
   ]
  },
  {
   "cell_type": "code",
   "execution_count": 4,
   "id": "52573be5",
   "metadata": {},
   "outputs": [],
   "source": [
    "import tensorflow as tf\n",
    "\n",
    "gpus = tf.config.list_physical_devices('GPU')\n",
    "if gpus:\n",
    "    try:\n",
    "        for gpu in gpus:\n",
    "            tf.config.experimental.set_memory_growth(gpu, True)  # 메모리 동적 할당\n",
    "    except RuntimeError as e:\n",
    "        print(e)"
   ]
  },
  {
   "cell_type": "code",
   "execution_count": 5,
   "id": "8be7e7ea",
   "metadata": {},
   "outputs": [
    {
     "name": "stdout",
     "output_type": "stream",
     "text": [
      "너\tNP,*,F,너,*,*,*,*\n",
      "오늘\tMAG,성분부사|시간부사,T,오늘,*,*,*,*\n",
      "왜\tMAG,문장부사|양상부사,F,왜,*,*,*,*\n",
      "이렇게\tMAG,*,F,이렇게,*,*,*,*\n",
      "예민\tXR,*,T,예민,*,*,*,*\n",
      "해\tXSA+EF,*,F,해,Inflect,XSA,EF,하/XSA/*+아/EF/*\n",
      "?\tSF,*,*,*,*,*,*,*\n",
      "EOS\n",
      "\n"
     ]
    }
   ],
   "source": [
    "import MeCab\n",
    "\n",
    "m = MeCab.Tagger()\n",
    "\n",
    "out = m.parse(\"너 오늘 왜 이렇게 예민해?\")\n",
    "\n",
    "print(out)"
   ]
  },
  {
   "cell_type": "code",
   "execution_count": 6,
   "id": "e546d4c2",
   "metadata": {},
   "outputs": [],
   "source": [
    "## 파일 로드\n",
    "path = '~/aiffel/dktc/data_forder/result_kakao.csv'\n",
    "data = pd.read_csv(path)"
   ]
  },
  {
   "cell_type": "code",
   "execution_count": 7,
   "id": "eaff5c72",
   "metadata": {},
   "outputs": [
    {
     "data": {
      "text/html": [
       "<div>\n",
       "<style scoped>\n",
       "    .dataframe tbody tr th:only-of-type {\n",
       "        vertical-align: middle;\n",
       "    }\n",
       "\n",
       "    .dataframe tbody tr th {\n",
       "        vertical-align: top;\n",
       "    }\n",
       "\n",
       "    .dataframe thead th {\n",
       "        text-align: right;\n",
       "    }\n",
       "</style>\n",
       "<table border=\"1\" class=\"dataframe\">\n",
       "  <thead>\n",
       "    <tr style=\"text-align: right;\">\n",
       "      <th></th>\n",
       "      <th>idx</th>\n",
       "      <th>class</th>\n",
       "      <th>conversation</th>\n",
       "    </tr>\n",
       "  </thead>\n",
       "  <tbody>\n",
       "    <tr>\n",
       "      <th>21945</th>\n",
       "      <td>21945</td>\n",
       "      <td>일반 대화</td>\n",
       "      <td>키키 아 야구 하고 싶어 나\\n 난 레저를 정말 좋아해\\n 어떤 레저 좋아하는데?\\...</td>\n",
       "    </tr>\n",
       "    <tr>\n",
       "      <th>21946</th>\n",
       "      <td>21946</td>\n",
       "      <td>일반 대화</td>\n",
       "      <td>아 진짜? 키키\\n 일할 때 어떤 때가 기분 좋아?\\n 좋은 손님 만나거나 내가 일...</td>\n",
       "    </tr>\n",
       "    <tr>\n",
       "      <th>21947</th>\n",
       "      <td>21947</td>\n",
       "      <td>일반 대화</td>\n",
       "      <td>넌 배달 음식 자주 시켜 먹어?\\n 난 굉장히 자주 시켜먹어 키키 너는?\\n 오 나...</td>\n",
       "    </tr>\n",
       "    <tr>\n",
       "      <th>21948</th>\n",
       "      <td>21948</td>\n",
       "      <td>일반 대화</td>\n",
       "      <td>야 12월에 남친 생일인데 뭐 해줘야겠노\\n 야야 아직 10월인데 벌써 걱정하냐 키...</td>\n",
       "    </tr>\n",
       "    <tr>\n",
       "      <th>21949</th>\n",
       "      <td>21949</td>\n",
       "      <td>일반 대화</td>\n",
       "      <td>어렸을 때 햄스터 키워 봤어요? 키키\\n 오 키워봤지 키키\\n 잔인한 장면을 보긴 ...</td>\n",
       "    </tr>\n",
       "  </tbody>\n",
       "</table>\n",
       "</div>"
      ],
      "text/plain": [
       "         idx  class                                       conversation\n",
       "21945  21945  일반 대화  키키 아 야구 하고 싶어 나\\n 난 레저를 정말 좋아해\\n 어떤 레저 좋아하는데?\\...\n",
       "21946  21946  일반 대화  아 진짜? 키키\\n 일할 때 어떤 때가 기분 좋아?\\n 좋은 손님 만나거나 내가 일...\n",
       "21947  21947  일반 대화  넌 배달 음식 자주 시켜 먹어?\\n 난 굉장히 자주 시켜먹어 키키 너는?\\n 오 나...\n",
       "21948  21948  일반 대화  야 12월에 남친 생일인데 뭐 해줘야겠노\\n 야야 아직 10월인데 벌써 걱정하냐 키...\n",
       "21949  21949  일반 대화  어렸을 때 햄스터 키워 봤어요? 키키\\n 오 키워봤지 키키\\n 잔인한 장면을 보긴 ..."
      ]
     },
     "execution_count": 7,
     "metadata": {},
     "output_type": "execute_result"
    }
   ],
   "source": [
    "data.tail()"
   ]
  },
  {
   "cell_type": "code",
   "execution_count": 8,
   "id": "e96f3401",
   "metadata": {},
   "outputs": [
    {
     "name": "stdout",
     "output_type": "stream",
     "text": [
      "데이터 개수 : 21950 \n",
      "\n",
      "Null 개수 : idx             0\n",
      "class           0\n",
      "conversation    0\n",
      "dtype: int64\n"
     ]
    }
   ],
   "source": [
    "print('데이터 개수 :',len(data),'\\n')\n",
    "print('Null 개수 :',data.isnull().sum())"
   ]
  },
  {
   "cell_type": "code",
   "execution_count": 9,
   "id": "0c5386e1",
   "metadata": {},
   "outputs": [],
   "source": [
    "import MeCab\n",
    "import pandas as pd\n",
    "import re\n",
    "\n",
    "# MeCab 형태소 분석기 초기화\n",
    "mecab = MeCab.Tagger()\n",
    "\n",
    "# MeCab의 parse 결과를 파싱하여 (word, pos) 튜플의 리스트로 변환하는 함수\n",
    "def parse_mecab_output(text):\n",
    "    parsed = mecab.parse(text)\n",
    "    parsed_lines = parsed.strip().split('\\n')\n",
    "    tokens = []\n",
    "    for line in parsed_lines:\n",
    "        if line == 'EOS':\n",
    "            break\n",
    "        else:\n",
    "            # MeCab의 출력은 \"표면형\\t품사 정보\" 형식입니다.\n",
    "            try:\n",
    "                surface, feature = line.split('\\t')\n",
    "                # 품사 정보는 ','로 구분되어 있습니다.\n",
    "                pos = feature.split(',')[0]\n",
    "                tokens.append((surface, pos))\n",
    "            except ValueError:\n",
    "                continue  # 빈 줄이나 형식에 맞지 않는 줄은 무시\n",
    "    return tokens\n",
    "\n",
    "# 전처리 및 형태소 분석 클래스 정의\n",
    "class TextPreprocessor:\n",
    "    def __init__(self, pos_to_keep=None):\n",
    "        # 유지할 품사 설정\n",
    "        if pos_to_keep is None:\n",
    "            # 주요 품사 리스트 (명사, 동사, 형용사 등)\n",
    "             self.pos_to_keep = [\n",
    "                'NNG',  # 일반 명사\n",
    "                'NNP',  # 고유 명사\n",
    "                'NNB',  # 의존 명사\n",
    "                'NNBC', # 단위를 나타내는 명사\n",
    "                'NR',   # 수사\n",
    "                'NP',   # 대명사\n",
    "                'VV',   # 동사\n",
    "                'VA',   # 형용사\n",
    "                'VX',   # 보조 용언\n",
    "                'VCP',  # 긍정 지정사 ('이다')\n",
    "                'VCN',  # 부정 지정사 ('아니다')\n",
    "                'MM',   # 관형사\n",
    "                'MAG',  # 일반 부사\n",
    "                'MAJ',  # 접속 부사\n",
    "                'XR',   # 어근\n",
    "                'IC',   # 감탄사\n",
    "                'JKS',  # 주격 조사\n",
    "                'JKC',  # 보격 조사\n",
    "                'JKG',  # 관형격 조사\n",
    "                'JKO',  # 목적격 조사\n",
    "                'JKB',  # 부사격 조사\n",
    "                'JKV',  # 호격 조사\n",
    "                'JKQ',  # 인용격 조사\n",
    "                'JX',   # 보조사\n",
    "                'JC',   # 접속 조사\n",
    "                'EP',   # 선어말 어미\n",
    "                'EF',   # 종결 어미\n",
    "                'EC',   # 연결 어미\n",
    "                'ETN',  # 명사형 전성 어미\n",
    "                'ETM',  # 관형형 전성 어미\n",
    "                'XPN',  # 체언 접두사\n",
    "                'XSN',  # 명사 파생 접미사\n",
    "                'XSV',  # 동사 파생 접미사\n",
    "                'XSA',  # 형용사 파생 접미사\n",
    "                'SN',   # 숫자\n",
    "                'SL',   # 외국어\n",
    "                'SH',   # 한자\n",
    "                'SY',   # 기호\n",
    "            ]\n",
    "        else:\n",
    "            self.pos_to_keep = pos_to_keep\n",
    "\n",
    "    # 텍스트 정규화 함수\n",
    "    def normalize_text(self, text):\n",
    "        \n",
    "        # 반복되는 문자 줄이기 (e.g., ㅋㅋㅋㅋ -> ㅋㅋ)\n",
    "        text = re.sub(r'(.)\\1{2,}', r'\\1\\1', text)\n",
    "        # 다중 공백 제거\n",
    "        text = re.sub(r'\\s+', ' ', text)\n",
    "        # 앞뒤 공백 제거\n",
    "        text = text.strip()\n",
    "        return text\n",
    "\n",
    "    # 문장을 형태소 분석하고 필요한 품사만 추출하는 함수\n",
    "    def filter_by_pos(self, sentence):\n",
    "        parsed_sentence = parse_mecab_output(sentence)\n",
    "        # 필요한 품사만 추출\n",
    "        filtered_tokens = [word for word, pos in parsed_sentence if pos in self.pos_to_keep]\n",
    "        return filtered_tokens\n",
    "\n",
    "    # 전처리 및 토큰화 함수\n",
    "    def preprocess_and_tokenize(self, sentence):\n",
    "        if pd.isnull(sentence):\n",
    "            return []\n",
    "        # 텍스트 정규화\n",
    "        sentence = self.normalize_text(sentence)\n",
    "        # 형태소 분석 수행 및 필요한 품사만 추출\n",
    "        tokens = self.filter_by_pos(sentence)\n",
    "        return tokens\n",
    "\n",
    "    # 데이터프레임에 전처리 및 토큰화 적용\n",
    "    def apply_to_dataframe(self, df,column_name):\n",
    "        df[column_name] = df['conversation'].apply(self.preprocess_and_tokenize)\n",
    "        return df"
   ]
  },
  {
   "cell_type": "code",
   "execution_count": 10,
   "id": "a7667346",
   "metadata": {},
   "outputs": [
    {
     "data": {
      "text/html": [
       "<div>\n",
       "<style scoped>\n",
       "    .dataframe tbody tr th:only-of-type {\n",
       "        vertical-align: middle;\n",
       "    }\n",
       "\n",
       "    .dataframe tbody tr th {\n",
       "        vertical-align: top;\n",
       "    }\n",
       "\n",
       "    .dataframe thead th {\n",
       "        text-align: right;\n",
       "    }\n",
       "</style>\n",
       "<table border=\"1\" class=\"dataframe\">\n",
       "  <thead>\n",
       "    <tr style=\"text-align: right;\">\n",
       "      <th></th>\n",
       "      <th>idx</th>\n",
       "      <th>class</th>\n",
       "      <th>conversation</th>\n",
       "      <th>preprocess_conversation</th>\n",
       "    </tr>\n",
       "  </thead>\n",
       "  <tbody>\n",
       "    <tr>\n",
       "      <th>5945</th>\n",
       "      <td>5945</td>\n",
       "      <td>일반 대화</td>\n",
       "      <td>넌 여행지 고를 때 뭘 제일 중요하게 생각해?\\n 저는 음... 근데 전 좀 하자는...</td>\n",
       "      <td>[여행지, 고, 를, 때, 제일, 중요, 하, 게, 생각, \\, n, 저, 는, 음...</td>\n",
       "    </tr>\n",
       "    <tr>\n",
       "      <th>5946</th>\n",
       "      <td>5946</td>\n",
       "      <td>일반 대화</td>\n",
       "      <td>요새 결혼식 졸 많이 하에\\n 너무 많이 한다\\n 주변에서 다 간다\\n 매주 결혼식...</td>\n",
       "      <td>[요새, 결혼식, 졸, 많이, 하, 에, \\, n, 너무, 많이, \\, n, 주변,...</td>\n",
       "    </tr>\n",
       "    <tr>\n",
       "      <th>5947</th>\n",
       "      <td>5947</td>\n",
       "      <td>일반 대화</td>\n",
       "      <td>요새는 쇼핑몰 창업도 많이 하더라\\n 형도 창업 생각 있으신가요\\n 아니 난 일도 ...</td>\n",
       "      <td>[요새, 는, 쇼핑몰, 창업, 도, 많이, 하, 더라, \\, n, 형, 도, 창업,...</td>\n",
       "    </tr>\n",
       "    <tr>\n",
       "      <th>5948</th>\n",
       "      <td>5948</td>\n",
       "      <td>일반 대화</td>\n",
       "      <td>아 근데 진짜 어제부터 갑자기 겨울 왔어\\n 비 오고 난 후로 갑자기 추워지지 않았...</td>\n",
       "      <td>[아, 근데, 진짜, 어제, 부터, 갑자기, 겨울, 어, \\, n, 비, 오, 고,...</td>\n",
       "    </tr>\n",
       "    <tr>\n",
       "      <th>5949</th>\n",
       "      <td>5949</td>\n",
       "      <td>일반 대화</td>\n",
       "      <td>오늘은 어제랑 다르게 비도 안 오고 날도 완전 가을날씨네\\n 글체 키키 요즘 기상청...</td>\n",
       "      <td>[오늘, 은, 어제, 랑, 다르, 게, 비, 도, 안, 오, 고, 날, 도, 완전,...</td>\n",
       "    </tr>\n",
       "  </tbody>\n",
       "</table>\n",
       "</div>"
      ],
      "text/plain": [
       "       idx  class                                       conversation  \\\n",
       "5945  5945  일반 대화  넌 여행지 고를 때 뭘 제일 중요하게 생각해?\\n 저는 음... 근데 전 좀 하자는...   \n",
       "5946  5946  일반 대화  요새 결혼식 졸 많이 하에\\n 너무 많이 한다\\n 주변에서 다 간다\\n 매주 결혼식...   \n",
       "5947  5947  일반 대화  요새는 쇼핑몰 창업도 많이 하더라\\n 형도 창업 생각 있으신가요\\n 아니 난 일도 ...   \n",
       "5948  5948  일반 대화  아 근데 진짜 어제부터 갑자기 겨울 왔어\\n 비 오고 난 후로 갑자기 추워지지 않았...   \n",
       "5949  5949  일반 대화  오늘은 어제랑 다르게 비도 안 오고 날도 완전 가을날씨네\\n 글체 키키 요즘 기상청...   \n",
       "\n",
       "                                preprocess_conversation  \n",
       "5945  [여행지, 고, 를, 때, 제일, 중요, 하, 게, 생각, \\, n, 저, 는, 음...  \n",
       "5946  [요새, 결혼식, 졸, 많이, 하, 에, \\, n, 너무, 많이, \\, n, 주변,...  \n",
       "5947  [요새, 는, 쇼핑몰, 창업, 도, 많이, 하, 더라, \\, n, 형, 도, 창업,...  \n",
       "5948  [아, 근데, 진짜, 어제, 부터, 갑자기, 겨울, 어, \\, n, 비, 오, 고,...  \n",
       "5949  [오늘, 은, 어제, 랑, 다르, 게, 비, 도, 안, 오, 고, 날, 도, 완전,...  "
      ]
     },
     "execution_count": 10,
     "metadata": {},
     "output_type": "execute_result"
    }
   ],
   "source": [
    "# 품사 필터링을 적용하여 전처리 객체 생성\n",
    "preprocessor = TextPreprocessor()\n",
    "\n",
    "# 데이터프레임 로드 (df로 복사하여 진행)\n",
    "df = data.copy()\n",
    "\n",
    "df = df.iloc[:5950]\n",
    "\n",
    "# 전처리 및 토큰화 적용\n",
    "df = preprocessor.apply_to_dataframe(df,'preprocess_conversation')\n",
    "\n",
    "# 결과 확인\n",
    "df.tail()"
   ]
  },
  {
   "cell_type": "code",
   "execution_count": 11,
   "id": "19d1ec3a",
   "metadata": {},
   "outputs": [],
   "source": [
    "# 레이블 인코딩\n",
    "label_mapping = {\n",
    "    '협박 대화': 0,\n",
    "    '기타 괴롭힘 대화': 1,\n",
    "    '갈취 대화': 2,\n",
    "    '직장 내 괴롭힘 대화': 3,\n",
    "    '일반 대화' : 4\n",
    "}\n",
    "df['class'] = df['class'].map(label_mapping)\n"
   ]
  },
  {
   "cell_type": "code",
   "execution_count": 12,
   "id": "7acc76bf",
   "metadata": {},
   "outputs": [],
   "source": [
    "# 토크나이저 생성\n",
    "tokenizer = Tokenizer()\n",
    "tokenizer.fit_on_texts(df['preprocess_conversation'])\n",
    "\n",
    "# 시퀀스 인코딩\n",
    "sequences = tokenizer.texts_to_sequences(df['preprocess_conversation'])"
   ]
  },
  {
   "cell_type": "code",
   "execution_count": 13,
   "id": "e88d244c",
   "metadata": {},
   "outputs": [
    {
     "data": {
      "image/png": "[encoded data removed]",
      "text/plain": [
       "<Figure size 576x432 with 1 Axes>"
      ]
     },
     "metadata": {
      "needs_background": "light"
     },
     "output_type": "display_data"
    }
   ],
   "source": [
    "sequence_lengths = [len(seq) for seq in sequences]\n",
    "\n",
    "plt.figure(figsize=(8, 6))\n",
    "plt.boxplot(sequence_lengths, vert=False)\n",
    "plt.title('Boxplot of Sequence Lengths')\n",
    "plt.xlabel('Sequence Length')\n",
    "plt.show()"
   ]
  },
  {
   "cell_type": "code",
   "execution_count": 14,
   "id": "6e2bbb8d",
   "metadata": {},
   "outputs": [],
   "source": [
    "# 최대 시퀀스 길이 결정 (% 로 결정)\n",
    "max_seq_len = int(np.percentile([len(seq) for seq in sequences], 99)) "
   ]
  },
  {
   "cell_type": "code",
   "execution_count": 15,
   "id": "1222ae81",
   "metadata": {},
   "outputs": [],
   "source": [
    "# 패딩 적용\n",
    "X = pad_sequences(sequences, maxlen=max_seq_len, padding='post')\n",
    "\n",
    "# 레이블 준비\n",
    "y = df['class'].values"
   ]
  },
  {
   "cell_type": "code",
   "execution_count": 16,
   "id": "2da2146f",
   "metadata": {},
   "outputs": [],
   "source": [
    "# 데이터프레임에서 클래스별로 200개씩 랜덤 샘플링하여 검증 데이터 생성\n",
    "df_val = df.groupby('class', group_keys=False).apply(lambda x: x.sample(200, random_state=42))\n",
    "\n",
    "# 나머지 데이터를 학습 데이터로 사용\n",
    "df_train = df.drop(df_val.index)\n",
    "\n",
    "# 인덱스 추출\n",
    "train_indices = df_train.index\n",
    "val_indices = df_val.index\n",
    "\n",
    "# 학습 및 검증 데이터 생성\n",
    "X_train = X[train_indices]\n",
    "y_train = y[train_indices]\n",
    "X_val = X[val_indices]\n",
    "y_val = y[val_indices]"
   ]
  },
  {
   "cell_type": "markdown",
   "id": "6df6235e",
   "metadata": {},
   "source": [
    "# 03. 모델 구조 (transformer encoder = Base model)"
   ]
  },
  {
   "cell_type": "code",
   "execution_count": 17,
   "id": "bb176038",
   "metadata": {},
   "outputs": [],
   "source": [
    "# 포지셔널 인코딩 레이어\n",
    "class PositionalEncoding(tf.keras.layers.Layer):\n",
    "    def __init__(self, position, d_model, **kwargs):\n",
    "        super(PositionalEncoding, self).__init__(**kwargs)\n",
    "        self.position = position\n",
    "        self.d_model = d_model\n",
    "        self.pos_encoding = self.positional_encoding(position, d_model)\n",
    "\n",
    "    def get_angles(self, position, i, d_model):\n",
    "        # 각도 계산\n",
    "        angles = 1 / np.power(10000, (2 * (i // 2)) / np.float32(d_model))\n",
    "        return position * angles\n",
    "\n",
    "    def positional_encoding(self, position, d_model):\n",
    "        # 포지셔널 인코딩 계산\n",
    "        angle_rads = self.get_angles(\n",
    "            np.arange(position)[:, np.newaxis],\n",
    "            np.arange(d_model)[np.newaxis, :],\n",
    "            d_model)\n",
    "\n",
    "        # 배열의 짝수 인덱스에는 sin 함수 적용\n",
    "        angle_rads[:, 0::2] = np.sin(angle_rads[:, 0::2])\n",
    "\n",
    "        # 배열의 홀수 인덱스에는 cos 함수 적용\n",
    "        angle_rads[:, 1::2] = np.cos(angle_rads[:, 1::2])\n",
    "\n",
    "        pos_encoding = angle_rads[np.newaxis, ...]\n",
    "\n",
    "        return tf.cast(pos_encoding, dtype=tf.float32)\n",
    "\n",
    "    def call(self, inputs):\n",
    "        return inputs + self.pos_encoding[:, :tf.shape(inputs)[1], :]\n",
    "\n",
    "    def get_config(self):\n",
    "        config = super(PositionalEncoding, self).get_config()\n",
    "        config.update({\n",
    "            'position': self.position,\n",
    "            'd_model': self.d_model\n",
    "        })\n",
    "        return config"
   ]
  },
  {
   "cell_type": "code",
   "execution_count": 18,
   "id": "3a15025b",
   "metadata": {},
   "outputs": [],
   "source": [
    "# 패딩 마스크 생성 함수\n",
    "def create_padding_mask(seq):\n",
    "    seq = tf.cast(tf.math.equal(seq, 0), tf.float32)\n",
    "    # (batch_size, 1, 1, seq_len)\n",
    "    return seq[:, tf.newaxis, tf.newaxis, :]"
   ]
  },
  {
   "cell_type": "code",
   "execution_count": 19,
   "id": "4afd251b",
   "metadata": {},
   "outputs": [],
   "source": [
    "def scaled_dot_product_attention(q, k, v, mask):\n",
    "    \"\"\" 스케일드 닷 프로덕트 어텐션 \"\"\"\n",
    "    matmul_qk = tf.matmul(q, k, transpose_b=True)  # Q와 K의 행렬 곱\n",
    "\n",
    "    # 스케일링\n",
    "    dk = tf.cast(tf.shape(k)[-1], tf.float32)\n",
    "    scaled_attention_logits = matmul_qk / tf.math.sqrt(dk)\n",
    "\n",
    "    # 마스크가 주어졌을 경우 -inf 적용\n",
    "    if mask is not None:\n",
    "        scaled_attention_logits += (mask * -1e9)\n",
    "\n",
    "    # softmax를 통해 attention weights 계산\n",
    "    attention_weights = tf.nn.softmax(scaled_attention_logits, axis=-1)\n",
    "\n",
    "    # attention weights와 V의 행렬곱\n",
    "    output = tf.matmul(attention_weights, v)\n",
    "\n",
    "    return output"
   ]
  },
  {
   "cell_type": "code",
   "execution_count": 20,
   "id": "05494c64",
   "metadata": {},
   "outputs": [],
   "source": [
    "class MultiHeadAttention(tf.keras.layers.Layer):\n",
    "    def __init__(self, d_model, num_heads, **kwargs):\n",
    "        super(MultiHeadAttention, self).__init__(**kwargs)\n",
    "        self.num_heads = num_heads\n",
    "        self.d_model = d_model\n",
    "\n",
    "        assert d_model % num_heads == 0\n",
    "\n",
    "        self.depth = d_model // num_heads\n",
    "\n",
    "        # 가중치 행렬 정의\n",
    "        self.wq = tf.keras.layers.Dense(d_model)\n",
    "        self.wk = tf.keras.layers.Dense(d_model)\n",
    "        self.wv = tf.keras.layers.Dense(d_model)\n",
    "\n",
    "        self.dense = tf.keras.layers.Dense(d_model)\n",
    "\n",
    "    def split_heads(self, x, batch_size):\n",
    "        \"\"\" 헤드 분할: [batch_size, seq_len, d_model] -> [batch_size, num_heads, seq_len, depth] \"\"\"\n",
    "        x = tf.reshape(x, (batch_size, -1, self.num_heads, self.depth))\n",
    "        return tf.transpose(x, perm=[0, 2, 1, 3])\n",
    "\n",
    "    def call(self, v, k, q, mask=None):\n",
    "        batch_size = tf.shape(q)[0]\n",
    "\n",
    "        # 선형 변환\n",
    "        q = self.wq(q)\n",
    "        k = self.wk(k)\n",
    "        v = self.wv(v)\n",
    "\n",
    "        # 헤드 분할\n",
    "        q = self.split_heads(q, batch_size)\n",
    "        k = self.split_heads(k, batch_size)\n",
    "        v = self.split_heads(v, batch_size)\n",
    "\n",
    "        # 스케일드 닷 프로덕트 어텐션\n",
    "        scaled_attention = scaled_dot_product_attention(q, k, v, mask)\n",
    "\n",
    "        # 헤드 병합\n",
    "        scaled_attention = tf.transpose(scaled_attention, perm=[0, 2, 1, 3])\n",
    "        concat_attention = tf.reshape(scaled_attention, (batch_size, -1, self.d_model))\n",
    "\n",
    "        # 최종 선형 변환\n",
    "        output = self.dense(concat_attention)\n",
    "\n",
    "        return output\n",
    "\n",
    "    def get_config(self):\n",
    "        # 직렬화 지원을 위한 설정 저장\n",
    "        config = super(MultiHeadAttention, self).get_config()\n",
    "        config.update({\n",
    "            'd_model': self.d_model,\n",
    "            'num_heads': self.num_heads,\n",
    "        })\n",
    "        return config\n",
    "\n",
    "    @classmethod\n",
    "    def from_config(cls, config):\n",
    "        return cls(**config)\n",
    "\n",
    "class PositionalEncoding(tf.keras.layers.Layer):\n",
    "    def __init__(self, position, d_model, **kwargs):\n",
    "        super(PositionalEncoding, self).__init__(**kwargs)\n",
    "        self.position = position\n",
    "        self.d_model = d_model\n",
    "        self.pos_encoding = self.positional_encoding(position, d_model)\n",
    "\n",
    "    def get_angles(self, position, i, d_model):\n",
    "        # 각도 계산\n",
    "        angles = 1 / np.power(10000, (2 * (i // 2)) / np.float32(d_model))\n",
    "        return position * angles\n",
    "\n",
    "    def positional_encoding(self, position, d_model):\n",
    "        # 포지셔널 인코딩 계산\n",
    "        angle_rads = self.get_angles(\n",
    "            np.arange(position)[:, np.newaxis],\n",
    "            np.arange(d_model)[np.newaxis, :],\n",
    "            d_model)\n",
    "\n",
    "        # 배열의 짝수 인덱스에는 sin 함수 적용\n",
    "        angle_rads[:, 0::2] = np.sin(angle_rads[:, 0::2])\n",
    "\n",
    "        # 배열의 홀수 인덱스에는 cos 함수 적용\n",
    "        angle_rads[:, 1::2] = np.cos(angle_rads[:, 1::2])\n",
    "\n",
    "        pos_encoding = angle_rads[np.newaxis, ...]\n",
    "\n",
    "        return tf.cast(pos_encoding, dtype=tf.float32)\n",
    "\n",
    "    def call(self, inputs):\n",
    "        return inputs + self.pos_encoding[:, :tf.shape(inputs)[1], :]\n",
    "\n",
    "    def get_config(self):\n",
    "        config = super(PositionalEncoding, self).get_config()\n",
    "        config.update({\n",
    "            'position': self.position,\n",
    "            'd_model': self.d_model\n",
    "        })\n",
    "        return config\n",
    "\n",
    "    @classmethod\n",
    "    def from_config(cls, config):\n",
    "        return cls(**config)"
   ]
  },
  {
   "cell_type": "code",
   "execution_count": 21,
   "id": "d556dbd4",
   "metadata": {},
   "outputs": [],
   "source": [
    "# 인코더 레이어\n",
    "def encoder_layer(units, d_model, num_heads, dropout_rate, name=\"encoder_layer\"):\n",
    "    inputs = tf.keras.Input(shape=(None, d_model), name=\"inputs\")\n",
    "    padding_mask = tf.keras.Input(shape=(1, 1, None), name=\"padding_mask\")\n",
    "\n",
    "    # 멀티 헤드 어텐션\n",
    "    attention = MultiHeadAttention(d_model, num_heads)(inputs, inputs, inputs, padding_mask)\n",
    "    attention = tf.keras.layers.Dropout(dropout_rate)(attention)\n",
    "    attention = tf.keras.layers.LayerNormalization(epsilon=1e-6)(inputs + attention)\n",
    "\n",
    "    # 포지션 와이즈 피드 포워드 네트워크\n",
    "    outputs = tf.keras.layers.Dense(units, activation='relu')(attention)\n",
    "    outputs = tf.keras.layers.Dense(d_model)(outputs)\n",
    "    outputs = tf.keras.layers.Dropout(dropout_rate)(outputs)\n",
    "    outputs = tf.keras.layers.LayerNormalization(epsilon=1e-6)(attention + outputs)\n",
    "\n",
    "    return tf.keras.Model(inputs=[inputs, padding_mask], outputs=outputs, name=name)"
   ]
  },
  {
   "cell_type": "code",
   "execution_count": 22,
   "id": "749faa4b",
   "metadata": {},
   "outputs": [],
   "source": [
    "# 인코더 전체\n",
    "def encoder(vocab_size,\n",
    "            num_layers,\n",
    "            units,\n",
    "            d_model,\n",
    "            num_heads,\n",
    "            dropout_rate,\n",
    "            maximum_position_encoding,\n",
    "            name=\"encoder\"):\n",
    "    inputs = tf.keras.Input(shape=(None,), name=\"inputs\")\n",
    "    padding_mask = tf.keras.Input(shape=(1, 1, None), name=\"padding_mask\")\n",
    "\n",
    "    # 임베딩 및 포지셔널 인코딩\n",
    "    embeddings = tf.keras.layers.Embedding(vocab_size, d_model)(inputs)\n",
    "    embeddings *= tf.math.sqrt(tf.cast(d_model, tf.float32))\n",
    "    embeddings = PositionalEncoding(maximum_position_encoding, d_model)(embeddings)\n",
    "\n",
    "    outputs = tf.keras.layers.Dropout(dropout_rate)(embeddings)\n",
    "\n",
    "    # 인코더 레이어 쌓기\n",
    "    for i in range(num_layers):\n",
    "        outputs = encoder_layer(units=units,\n",
    "                                d_model=d_model,\n",
    "                                num_heads=num_heads,\n",
    "                                dropout_rate=dropout_rate,\n",
    "                                name=f\"encoder_layer_{i}\",\n",
    "                                )(inputs=[outputs, padding_mask])\n",
    "\n",
    "    return tf.keras.Model(inputs=[inputs, padding_mask], outputs=outputs, name=name)"
   ]
  },
  {
   "cell_type": "markdown",
   "id": "4686fc5b",
   "metadata": {},
   "source": [
    "# 04. 모델 구조 (transformer encoder = Base model)"
   ]
  },
  {
   "cell_type": "code",
   "execution_count": 23,
   "id": "76f48e87",
   "metadata": {},
   "outputs": [],
   "source": [
    "# 인코더 모델 생성\n",
    "def build_encoder_model():\n",
    "    inputs = tf.keras.Input(shape=(max_seq_len,), name=\"inputs\")\n",
    "    padding_mask = tf.keras.layers.Lambda(create_padding_mask, output_shape=(1, 1, None), name='padding_mask')(inputs)\n",
    "\n",
    "    # 인코더 출력\n",
    "    encoder_outputs = encoder(\n",
    "        vocab_size=vocab_size,\n",
    "        num_layers=num_layers,\n",
    "        units=units,\n",
    "        d_model=d_model,\n",
    "        num_heads=num_heads,\n",
    "        dropout_rate=dropout_rate,\n",
    "        maximum_position_encoding=max_seq_len,\n",
    "        name=\"encoder\"\n",
    "    )(inputs=[inputs, padding_mask])\n",
    "\n",
    "    # 글로벌 평균 풀링\n",
    "    pooled_output = tf.keras.layers.GlobalAveragePooling1D()(encoder_outputs)\n",
    "\n",
    "    # 출력 레이어 (다중 분류)\n",
    "    outputs = tf.keras.layers.Dense(units=num_classes, activation='softmax', name='outputs')(pooled_output)\n",
    "\n",
    "    # 모델 정의\n",
    "    model = tf.keras.Model(inputs=inputs, outputs=outputs, name=\"transformer_classifier\")\n",
    "\n",
    "    return model"
   ]
  },
  {
   "cell_type": "code",
   "execution_count": 24,
   "id": "552df9cc",
   "metadata": {},
   "outputs": [],
   "source": [
    "# 하이퍼파라미터 설정\n",
    "vocab_size = len(tokenizer.word_index) + 1\n",
    "num_layers = 2\n",
    "d_model = 256\n",
    "num_heads = 4\n",
    "units = 512\n",
    "dropout_rate = 0.4\n",
    "num_classes = 5  # 클래스 수"
   ]
  },
  {
   "cell_type": "code",
   "execution_count": 25,
   "id": "5858d80f",
   "metadata": {},
   "outputs": [
    {
     "name": "stdout",
     "output_type": "stream",
     "text": [
      "Model: \"transformer_classifier\"\n",
      "__________________________________________________________________________________________________\n",
      "Layer (type)                    Output Shape         Param #     Connected to                     \n",
      "==================================================================================================\n",
      "inputs (InputLayer)             [(None, 426)]        0                                            \n",
      "__________________________________________________________________________________________________\n",
      "padding_mask (Lambda)           (None, 1, 1, 426)    0           inputs[0][0]                     \n",
      "__________________________________________________________________________________________________\n",
      "encoder (Functional)            (None, None, 256)    5374464     inputs[0][0]                     \n",
      "                                                                 padding_mask[0][0]               \n",
      "__________________________________________________________________________________________________\n",
      "global_average_pooling1d (Globa (None, 256)          0           encoder[0][0]                    \n",
      "__________________________________________________________________________________________________\n",
      "outputs (Dense)                 (None, 5)            1285        global_average_pooling1d[0][0]   \n",
      "==================================================================================================\n",
      "Total params: 5,375,749\n",
      "Trainable params: 5,375,749\n",
      "Non-trainable params: 0\n",
      "__________________________________________________________________________________________________\n"
     ]
    }
   ],
   "source": [
    "# 모델 생성\n",
    "model = build_encoder_model()\n",
    "\n",
    "# 모델 컴파일\n",
    "model.compile(optimizer='adam',\n",
    "              loss='sparse_categorical_crossentropy',\n",
    "              metrics=['accuracy'])\n",
    "\n",
    "# 모델 요약\n",
    "model.summary()"
   ]
  },
  {
   "cell_type": "markdown",
   "id": "ab2bc071",
   "metadata": {},
   "source": [
    "# 05. 모델 학습 (transformer encoder = Base model)"
   ]
  },
  {
   "cell_type": "code",
   "execution_count": 26,
   "id": "ec66a6c9",
   "metadata": {},
   "outputs": [
    {
     "name": "stdout",
     "output_type": "stream",
     "text": [
      "Epoch 1/20\n",
      "155/155 [==============================] - 17s 92ms/step - loss: 0.7913 - accuracy: 0.7048 - val_loss: 0.4860 - val_accuracy: 0.8410\n",
      "\n",
      "Epoch 00001: val_loss improved from inf to 0.48604, saving model to best_model\n"
     ]
    },
    {
     "name": "stderr",
     "output_type": "stream",
     "text": [
      "WARNING:absl:Found untraced functions such as dense_layer_call_fn, dense_layer_call_and_return_conditional_losses, dense_1_layer_call_fn, dense_1_layer_call_and_return_conditional_losses, dense_2_layer_call_fn while saving (showing 5 of 40). These functions will not be directly callable after loading.\n"
     ]
    },
    {
     "name": "stdout",
     "output_type": "stream",
     "text": [
      "INFO:tensorflow:Assets written to: best_model/assets\n"
     ]
    },
    {
     "name": "stderr",
     "output_type": "stream",
     "text": [
      "INFO:tensorflow:Assets written to: best_model/assets\n"
     ]
    },
    {
     "name": "stdout",
     "output_type": "stream",
     "text": [
      "Epoch 2/20\n",
      "155/155 [==============================] - 14s 90ms/step - loss: 0.3444 - accuracy: 0.8780 - val_loss: 0.4825 - val_accuracy: 0.8650\n",
      "\n",
      "Epoch 00002: val_loss improved from 0.48604 to 0.48248, saving model to best_model\n"
     ]
    },
    {
     "name": "stderr",
     "output_type": "stream",
     "text": [
      "WARNING:absl:Found untraced functions such as dense_layer_call_fn, dense_layer_call_and_return_conditional_losses, dense_1_layer_call_fn, dense_1_layer_call_and_return_conditional_losses, dense_2_layer_call_fn while saving (showing 5 of 40). These functions will not be directly callable after loading.\n"
     ]
    },
    {
     "name": "stdout",
     "output_type": "stream",
     "text": [
      "INFO:tensorflow:Assets written to: best_model/assets\n"
     ]
    },
    {
     "name": "stderr",
     "output_type": "stream",
     "text": [
      "INFO:tensorflow:Assets written to: best_model/assets\n"
     ]
    },
    {
     "name": "stdout",
     "output_type": "stream",
     "text": [
      "Epoch 3/20\n",
      "155/155 [==============================] - 14s 91ms/step - loss: 0.2139 - accuracy: 0.9287 - val_loss: 0.7465 - val_accuracy: 0.8320\n",
      "\n",
      "Epoch 00003: val_loss did not improve from 0.48248\n",
      "Epoch 4/20\n",
      "155/155 [==============================] - 14s 92ms/step - loss: 0.1372 - accuracy: 0.9517 - val_loss: 0.5513 - val_accuracy: 0.8600\n",
      "\n",
      "Epoch 00004: val_loss did not improve from 0.48248\n",
      "Epoch 5/20\n",
      "155/155 [==============================] - 14s 90ms/step - loss: 0.1138 - accuracy: 0.9616 - val_loss: 0.6329 - val_accuracy: 0.8520\n",
      "\n",
      "Epoch 00005: val_loss did not improve from 0.48248\n",
      "Epoch 6/20\n",
      "155/155 [==============================] - 14s 90ms/step - loss: 0.0809 - accuracy: 0.9749 - val_loss: 1.0138 - val_accuracy: 0.8210\n",
      "\n",
      "Epoch 00006: val_loss did not improve from 0.48248\n",
      "Epoch 7/20\n",
      "155/155 [==============================] - 14s 90ms/step - loss: 0.0828 - accuracy: 0.9687 - val_loss: 0.9188 - val_accuracy: 0.8270\n",
      "\n",
      "Epoch 00007: val_loss did not improve from 0.48248\n"
     ]
    }
   ],
   "source": [
    "# 콜백 설정\n",
    "early_stopping = EarlyStopping(monitor='val_loss', patience=2, restore_best_weights=True)\n",
    "\n",
    "model_checkpoint = ModelCheckpoint(\n",
    "    filepath='best_model', \n",
    "    monitor='val_loss',\n",
    "    save_best_only=True,\n",
    "    mode='min',\n",
    "    verbose=1\n",
    ")\n",
    "# 모델 학습\n",
    "history = model.fit(\n",
    "    X_train,\n",
    "    y_train,\n",
    "    validation_data=(X_val, y_val),\n",
    "    epochs=20,\n",
    "    batch_size=32,\n",
    "    callbacks=[early_stopping, model_checkpoint]\n",
    ")"
   ]
  },
  {
   "cell_type": "code",
   "execution_count": 27,
   "id": "898e93ac",
   "metadata": {},
   "outputs": [
    {
     "data": {
      "image/png": "[encoded data removed]",
      "text/plain": [
       "<Figure size 864x288 with 2 Axes>"
      ]
     },
     "metadata": {
      "needs_background": "light"
     },
     "output_type": "display_data"
    }
   ],
   "source": [
    "import matplotlib.pyplot as plt\n",
    "\n",
    "# 손실 시각화\n",
    "plt.figure(figsize=(12, 4))\n",
    "plt.subplot(1, 2, 1)\n",
    "plt.plot(history.history['loss'], label='Train Loss')\n",
    "plt.plot(history.history['val_loss'], label='Val Loss')\n",
    "plt.title('Loss')\n",
    "plt.xlabel('Epoch')\n",
    "plt.ylabel('Loss')\n",
    "plt.legend()\n",
    "\n",
    "# 정확도 시각화\n",
    "plt.subplot(1, 2, 2)\n",
    "plt.plot(history.history['accuracy'], label='Train Acc')\n",
    "plt.plot(history.history['val_accuracy'], label='Val Acc')\n",
    "plt.title('Accuracy')\n",
    "plt.xlabel('Epoch')\n",
    "plt.ylabel('Accuracy')\n",
    "plt.legend()\n",
    "\n",
    "plt.show()"
   ]
  },
  {
   "cell_type": "code",
   "execution_count": 28,
   "id": "a6dfb051",
   "metadata": {},
   "outputs": [
    {
     "data": {
      "text/html": [
       "<div>\n",
       "<style scoped>\n",
       "    .dataframe tbody tr th:only-of-type {\n",
       "        vertical-align: middle;\n",
       "    }\n",
       "\n",
       "    .dataframe tbody tr th {\n",
       "        vertical-align: top;\n",
       "    }\n",
       "\n",
       "    .dataframe thead th {\n",
       "        text-align: right;\n",
       "    }\n",
       "</style>\n",
       "<table border=\"1\" class=\"dataframe\">\n",
       "  <thead>\n",
       "    <tr style=\"text-align: right;\">\n",
       "      <th></th>\n",
       "      <th>precision</th>\n",
       "      <th>recall</th>\n",
       "      <th>f1-score</th>\n",
       "      <th>support</th>\n",
       "    </tr>\n",
       "  </thead>\n",
       "  <tbody>\n",
       "    <tr>\n",
       "      <th>협박 대화</th>\n",
       "      <td>0.7960</td>\n",
       "      <td>0.800</td>\n",
       "      <td>0.7980</td>\n",
       "      <td>200.000</td>\n",
       "    </tr>\n",
       "    <tr>\n",
       "      <th>기타 괴롭힘 대화</th>\n",
       "      <td>0.8563</td>\n",
       "      <td>0.715</td>\n",
       "      <td>0.7793</td>\n",
       "      <td>200.000</td>\n",
       "    </tr>\n",
       "    <tr>\n",
       "      <th>갈취 대화</th>\n",
       "      <td>0.7828</td>\n",
       "      <td>0.865</td>\n",
       "      <td>0.8219</td>\n",
       "      <td>200.000</td>\n",
       "    </tr>\n",
       "    <tr>\n",
       "      <th>직장 내 괴롭힘 대화</th>\n",
       "      <td>0.8957</td>\n",
       "      <td>0.945</td>\n",
       "      <td>0.9197</td>\n",
       "      <td>200.000</td>\n",
       "    </tr>\n",
       "    <tr>\n",
       "      <th>일반 대화</th>\n",
       "      <td>1.0000</td>\n",
       "      <td>1.000</td>\n",
       "      <td>1.0000</td>\n",
       "      <td>200.000</td>\n",
       "    </tr>\n",
       "    <tr>\n",
       "      <th>accuracy</th>\n",
       "      <td>0.8650</td>\n",
       "      <td>0.865</td>\n",
       "      <td>0.8650</td>\n",
       "      <td>0.865</td>\n",
       "    </tr>\n",
       "    <tr>\n",
       "      <th>macro avg</th>\n",
       "      <td>0.8662</td>\n",
       "      <td>0.865</td>\n",
       "      <td>0.8638</td>\n",
       "      <td>1000.000</td>\n",
       "    </tr>\n",
       "    <tr>\n",
       "      <th>weighted avg</th>\n",
       "      <td>0.8662</td>\n",
       "      <td>0.865</td>\n",
       "      <td>0.8638</td>\n",
       "      <td>1000.000</td>\n",
       "    </tr>\n",
       "  </tbody>\n",
       "</table>\n",
       "</div>"
      ],
      "text/plain": [
       "              precision  recall  f1-score   support\n",
       "협박 대화            0.7960   0.800    0.7980   200.000\n",
       "기타 괴롭힘 대화        0.8563   0.715    0.7793   200.000\n",
       "갈취 대화            0.7828   0.865    0.8219   200.000\n",
       "직장 내 괴롭힘 대화      0.8957   0.945    0.9197   200.000\n",
       "일반 대화            1.0000   1.000    1.0000   200.000\n",
       "accuracy         0.8650   0.865    0.8650     0.865\n",
       "macro avg        0.8662   0.865    0.8638  1000.000\n",
       "weighted avg     0.8662   0.865    0.8638  1000.000"
      ]
     },
     "execution_count": 28,
     "metadata": {},
     "output_type": "execute_result"
    }
   ],
   "source": [
    "from sklearn.metrics import classification_report\n",
    "from keras.models import load_model\n",
    "\n",
    "# PositionalEncoding 클래스를 포함한 custom_objects 정의\n",
    "custom_objects = {\n",
    "    'MultiHeadAttention': MultiHeadAttention,\n",
    "    'PositionalEncoding': PositionalEncoding\n",
    "}\n",
    "\n",
    "# SavedModel 형식으로 저장된 모델 불러오기\n",
    "best_model = load_model('best_model', custom_objects=custom_objects)\n",
    "\n",
    "# 검증 데이터에 대한 예측\n",
    "y_pred = best_model.predict(X_val)\n",
    "y_pred_classes = np.argmax(y_pred, axis=1)\n",
    "\n",
    "# 분류 보고서를 딕셔너리 형태로 얻기\n",
    "report_dict = classification_report(y_val, y_pred_classes, target_names=label_mapping.keys(), output_dict=True)\n",
    "\n",
    "# 딕셔너리를 DataFrame으로 변환\n",
    "report_df = pd.DataFrame(report_dict).transpose()\n",
    "\n",
    "# 필요한 컬럼만 선택하고 순서 지정\n",
    "report_df = report_df[['precision', 'recall', 'f1-score', 'support']]\n",
    "\n",
    "# 소수점 자릿수 설정\n",
    "report_df = report_df.round(4)\n",
    "\n",
    "# 결과 확인\n",
    "report_df"
   ]
  },
  {
   "cell_type": "code",
   "execution_count": 29,
   "id": "fbff5a2c",
   "metadata": {},
   "outputs": [],
   "source": [
    "# 1. 테스트 데이터 로드\n",
    "test_data_path = '~/aiffel/dktc/data_forder/test.csv'\n",
    "test_df = pd.read_csv(test_data_path)"
   ]
  },
  {
   "cell_type": "code",
   "execution_count": 30,
   "id": "d5d276e7",
   "metadata": {},
   "outputs": [],
   "source": [
    "# 2. 전처리 객체 생성 및 테스트 데이터 전처리\n",
    "test_df['preprocess_conversation'] = test_df['text'].apply(preprocessor.preprocess_and_tokenize)\n",
    "test_df['processed_text'] = test_df['preprocess_conversation'].apply(lambda tokens: ' '.join(tokens))"
   ]
  },
  {
   "cell_type": "code",
   "execution_count": 31,
   "id": "89dd1b08",
   "metadata": {},
   "outputs": [],
   "source": [
    "# 3. 토큰화된 테스트 데이터 생성\n",
    "tokenizer.fit_on_texts(df['preprocess_conversation'])  # 훈련 데이터를 기반으로 토크나이저 적합\n",
    "sequences_test = tokenizer.texts_to_sequences(test_df['processed_text'])\n",
    "tokenized_test_data = tf.keras.preprocessing.sequence.pad_sequences(sequences_test, maxlen=max_seq_len, padding='post')"
   ]
  },
  {
   "cell_type": "code",
   "execution_count": 39,
   "id": "87d9cb3e",
   "metadata": {},
   "outputs": [],
   "source": [
    "# 5. 모델 예측 수행\n",
    "y_test_pred = best_model.predict(tokenized_test_data)\n"
   ]
  },
  {
   "cell_type": "code",
   "execution_count": 40,
   "id": "c5b80218",
   "metadata": {},
   "outputs": [],
   "source": [
    "# 6. 예측 클래스 추출 및 threshold 적용\n",
    "threshold = 0.001  # 일반 대화로 분류할 확률 기준\n",
    "\n",
    "# 기존 예측 결과에서 가장 높은 확률을 가진 클래스를 선택\n",
    "y_test_pred_classes = np.argmax(y_test_pred, axis=1)"
   ]
  },
  {
   "cell_type": "code",
   "execution_count": 41,
   "id": "c316393c",
   "metadata": {},
   "outputs": [],
   "source": [
    "# 일반 대화의 확률이 threshold 이상인 경우 강제로 일반 대화(클래스 4)로 설정\n",
    "for i in range(len(y_test_pred)):\n",
    "    general_conversation_prob = y_test_pred[i, 4]  # 일반 대화 클래스(4)의 확률\n",
    "    if general_conversation_prob >= threshold:\n",
    "        y_test_pred_classes[i] = 4  # 일반 대화로 강제 분류"
   ]
  },
  {
   "cell_type": "code",
   "execution_count": 42,
   "id": "f9a0336b",
   "metadata": {},
   "outputs": [],
   "source": [
    "# 7. 예측 클래스 번호를 텍스트 레이블로 변환 (label_mapping 사용)\n",
    "label_mapping = {0: '협박 대화', 1: '기타 괴롭힘 대화', 2: '갈취 대화', 3: '직장 내 괴롭힘 대화', 4: '일반 대화'}\n",
    "test_df['class'] = y_test_pred_classes\n",
    "test_df['class'] = test_df['class'].map(label_mapping)"
   ]
  },
  {
   "cell_type": "code",
   "execution_count": 43,
   "id": "17d51f7d",
   "metadata": {},
   "outputs": [],
   "source": [
    "# 8. 제출 파일 작성\n",
    "submission = test_df[['idx', 'class']]\n",
    "submission.columns = ['file_name', 'class']\n",
    "submission.to_csv('~/aiffel/dktc/data_forder/submission.csv', index=False)"
   ]
  },
  {
   "cell_type": "code",
   "execution_count": 44,
   "id": "e4610e35",
   "metadata": {},
   "outputs": [
    {
     "data": {
      "text/plain": [
       "array(['갈취 대화', '직장 내 괴롭힘 대화', '기타 괴롭힘 대화', '협박 대화', '일반 대화'],\n",
       "      dtype=object)"
      ]
     },
     "execution_count": 44,
     "metadata": {},
     "output_type": "execute_result"
    }
   ],
   "source": [
    "test_df['class'].unique()"
   ]
  },
  {
   "cell_type": "code",
   "execution_count": 45,
   "id": "93942f8e",
   "metadata": {},
   "outputs": [
    {
     "data": {
      "text/plain": [
       "갈취 대화          137\n",
       "직장 내 괴롭힘 대화    126\n",
       "기타 괴롭힘 대화      126\n",
       "협박 대화          108\n",
       "일반 대화            3\n",
       "Name: class, dtype: int64"
      ]
     },
     "execution_count": 45,
     "metadata": {},
     "output_type": "execute_result"
    }
   ],
   "source": [
    "test_df['class'].value_counts()"
   ]
  },
  {
   "cell_type": "code",
   "execution_count": 46,
   "id": "dc9027d3",
   "metadata": {},
   "outputs": [],
   "source": [
    "general_conversation_df = df[df['class'] == '일반 대화']"
   ]
  },
  {
   "cell_type": "code",
   "execution_count": 47,
   "id": "3288cd85",
   "metadata": {},
   "outputs": [
    {
     "name": "stdout",
     "output_type": "stream",
     "text": [
      "Empty DataFrame\n",
      "Columns: [idx, class, conversation, preprocess_conversation]\n",
      "Index: []\n"
     ]
    }
   ],
   "source": [
    "print(general_conversation_df)"
   ]
  },
  {
   "cell_type": "code",
   "execution_count": null,
   "id": "a11d201d",
   "metadata": {},
   "outputs": [],
   "source": []
  }
 ],
 "metadata": {
  "kernelspec": {
   "display_name": "Python 3 (ipykernel)",
   "language": "python",
   "name": "python3"
  },
  "language_info": {
   "codemirror_mode": {
    "name": "ipython",
    "version": 3
   },
   "file_extension": ".py",
   "mimetype": "text/x-python",
   "name": "python",
   "nbconvert_exporter": "python",
   "pygments_lexer": "ipython3",
   "version": "3.9.7"
  }
 },
 "nbformat": 4,
 "nbformat_minor": 5
}
